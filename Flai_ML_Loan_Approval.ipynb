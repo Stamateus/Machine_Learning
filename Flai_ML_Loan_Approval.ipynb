{
 "cells": [
  {
   "cell_type": "code",
   "execution_count": 1,
   "id": "88545972",
   "metadata": {},
   "outputs": [],
   "source": [
    "#Imports\n",
    "import pandas as pd\n",
    "import numpy as np\n",
    "import matplotlib.pyplot as plt\n",
    "import seaborn as sns\n",
    "import warnings\n",
    "warnings.filterwarnings(\"ignore\", category = FutureWarning)\n",
    "#Imports Métricas\n",
    "from sklearn.metrics import recall_score\n",
    "from sklearn.metrics import roc_auc_score\n",
    "from sklearn.metrics import roc_curve\n",
    "from sklearn.metrics import auc\n",
    "from sklearn.metrics import accuracy_score\n",
    "#Import GridSearchCV\n",
    "from sklearn.model_selection import GridSearchCV"
   ]
  },
  {
   "cell_type": "code",
   "execution_count": 2,
   "id": "01cf9c59",
   "metadata": {},
   "outputs": [],
   "source": [
    "#Carregando o conjunto de dados\n",
    "loan = pd.read_csv('loan_prediction.csv')"
   ]
  },
  {
   "cell_type": "code",
   "execution_count": 3,
   "id": "d4b1a1a4",
   "metadata": {},
   "outputs": [
    {
     "data": {
      "text/html": [
       "<div>\n",
       "<style scoped>\n",
       "    .dataframe tbody tr th:only-of-type {\n",
       "        vertical-align: middle;\n",
       "    }\n",
       "\n",
       "    .dataframe tbody tr th {\n",
       "        vertical-align: top;\n",
       "    }\n",
       "\n",
       "    .dataframe thead th {\n",
       "        text-align: right;\n",
       "    }\n",
       "</style>\n",
       "<table border=\"1\" class=\"dataframe\">\n",
       "  <thead>\n",
       "    <tr style=\"text-align: right;\">\n",
       "      <th></th>\n",
       "      <th>Loan_ID</th>\n",
       "      <th>Gender</th>\n",
       "      <th>Married</th>\n",
       "      <th>Dependents</th>\n",
       "      <th>Education</th>\n",
       "      <th>Self_Employed</th>\n",
       "      <th>ApplicantIncome</th>\n",
       "      <th>CoapplicantIncome</th>\n",
       "      <th>LoanAmount</th>\n",
       "      <th>Loan_Amount_Term</th>\n",
       "      <th>Credit_History</th>\n",
       "      <th>Property_Area</th>\n",
       "      <th>Loan_Status</th>\n",
       "    </tr>\n",
       "  </thead>\n",
       "  <tbody>\n",
       "    <tr>\n",
       "      <th>0</th>\n",
       "      <td>LP001002</td>\n",
       "      <td>Male</td>\n",
       "      <td>No</td>\n",
       "      <td>0</td>\n",
       "      <td>Graduate</td>\n",
       "      <td>No</td>\n",
       "      <td>5849</td>\n",
       "      <td>0.0</td>\n",
       "      <td>NaN</td>\n",
       "      <td>360.0</td>\n",
       "      <td>1.0</td>\n",
       "      <td>Urban</td>\n",
       "      <td>Y</td>\n",
       "    </tr>\n",
       "    <tr>\n",
       "      <th>1</th>\n",
       "      <td>LP001003</td>\n",
       "      <td>Male</td>\n",
       "      <td>Yes</td>\n",
       "      <td>1</td>\n",
       "      <td>Graduate</td>\n",
       "      <td>No</td>\n",
       "      <td>4583</td>\n",
       "      <td>1508.0</td>\n",
       "      <td>128.0</td>\n",
       "      <td>360.0</td>\n",
       "      <td>1.0</td>\n",
       "      <td>Rural</td>\n",
       "      <td>N</td>\n",
       "    </tr>\n",
       "    <tr>\n",
       "      <th>2</th>\n",
       "      <td>LP001005</td>\n",
       "      <td>Male</td>\n",
       "      <td>Yes</td>\n",
       "      <td>0</td>\n",
       "      <td>Graduate</td>\n",
       "      <td>Yes</td>\n",
       "      <td>3000</td>\n",
       "      <td>0.0</td>\n",
       "      <td>66.0</td>\n",
       "      <td>360.0</td>\n",
       "      <td>1.0</td>\n",
       "      <td>Urban</td>\n",
       "      <td>Y</td>\n",
       "    </tr>\n",
       "    <tr>\n",
       "      <th>3</th>\n",
       "      <td>LP001006</td>\n",
       "      <td>Male</td>\n",
       "      <td>Yes</td>\n",
       "      <td>0</td>\n",
       "      <td>Not Graduate</td>\n",
       "      <td>No</td>\n",
       "      <td>2583</td>\n",
       "      <td>2358.0</td>\n",
       "      <td>120.0</td>\n",
       "      <td>360.0</td>\n",
       "      <td>1.0</td>\n",
       "      <td>Urban</td>\n",
       "      <td>Y</td>\n",
       "    </tr>\n",
       "    <tr>\n",
       "      <th>4</th>\n",
       "      <td>LP001008</td>\n",
       "      <td>Male</td>\n",
       "      <td>No</td>\n",
       "      <td>0</td>\n",
       "      <td>Graduate</td>\n",
       "      <td>No</td>\n",
       "      <td>6000</td>\n",
       "      <td>0.0</td>\n",
       "      <td>141.0</td>\n",
       "      <td>360.0</td>\n",
       "      <td>1.0</td>\n",
       "      <td>Urban</td>\n",
       "      <td>Y</td>\n",
       "    </tr>\n",
       "  </tbody>\n",
       "</table>\n",
       "</div>"
      ],
      "text/plain": [
       "    Loan_ID Gender Married Dependents     Education Self_Employed  \\\n",
       "0  LP001002   Male      No          0      Graduate            No   \n",
       "1  LP001003   Male     Yes          1      Graduate            No   \n",
       "2  LP001005   Male     Yes          0      Graduate           Yes   \n",
       "3  LP001006   Male     Yes          0  Not Graduate            No   \n",
       "4  LP001008   Male      No          0      Graduate            No   \n",
       "\n",
       "   ApplicantIncome  CoapplicantIncome  LoanAmount  Loan_Amount_Term  \\\n",
       "0             5849                0.0         NaN             360.0   \n",
       "1             4583             1508.0       128.0             360.0   \n",
       "2             3000                0.0        66.0             360.0   \n",
       "3             2583             2358.0       120.0             360.0   \n",
       "4             6000                0.0       141.0             360.0   \n",
       "\n",
       "   Credit_History Property_Area Loan_Status  \n",
       "0             1.0         Urban           Y  \n",
       "1             1.0         Rural           N  \n",
       "2             1.0         Urban           Y  \n",
       "3             1.0         Urban           Y  \n",
       "4             1.0         Urban           Y  "
      ]
     },
     "execution_count": 3,
     "metadata": {},
     "output_type": "execute_result"
    }
   ],
   "source": [
    "#Amostra de dados\n",
    "loan.head(5)"
   ]
  },
  {
   "cell_type": "code",
   "execution_count": 4,
   "id": "c951b56a",
   "metadata": {},
   "outputs": [],
   "source": [
    "#Descrição das Variáveis do Dataset\n",
    "descr = pd.read_excel('descricao_variaveis_ml.xlsx')"
   ]
  },
  {
   "cell_type": "code",
   "execution_count": 5,
   "id": "6d383fb9",
   "metadata": {},
   "outputs": [
    {
     "data": {
      "text/html": [
       "<div>\n",
       "<style scoped>\n",
       "    .dataframe tbody tr th:only-of-type {\n",
       "        vertical-align: middle;\n",
       "    }\n",
       "\n",
       "    .dataframe tbody tr th {\n",
       "        vertical-align: top;\n",
       "    }\n",
       "\n",
       "    .dataframe thead th {\n",
       "        text-align: right;\n",
       "    }\n",
       "</style>\n",
       "<table border=\"1\" class=\"dataframe\">\n",
       "  <thead>\n",
       "    <tr style=\"text-align: right;\">\n",
       "      <th></th>\n",
       "      <th>Nome da Variavel</th>\n",
       "      <th>Descrição</th>\n",
       "    </tr>\n",
       "  </thead>\n",
       "  <tbody>\n",
       "    <tr>\n",
       "      <th>0</th>\n",
       "      <td>Loan_ID</td>\n",
       "      <td>ID do emprestimo</td>\n",
       "    </tr>\n",
       "    <tr>\n",
       "      <th>1</th>\n",
       "      <td>Gender</td>\n",
       "      <td>Gênero</td>\n",
       "    </tr>\n",
       "    <tr>\n",
       "      <th>2</th>\n",
       "      <td>Married</td>\n",
       "      <td>Estado Civil</td>\n",
       "    </tr>\n",
       "    <tr>\n",
       "      <th>3</th>\n",
       "      <td>Dependents</td>\n",
       "      <td>Número de dependentes</td>\n",
       "    </tr>\n",
       "    <tr>\n",
       "      <th>4</th>\n",
       "      <td>Education</td>\n",
       "      <td>Nível de Escolaridade</td>\n",
       "    </tr>\n",
       "    <tr>\n",
       "      <th>5</th>\n",
       "      <td>Self_Employed</td>\n",
       "      <td>Tipo de Emprego</td>\n",
       "    </tr>\n",
       "    <tr>\n",
       "      <th>6</th>\n",
       "      <td>ApplicantIncome</td>\n",
       "      <td>Renda Mensal</td>\n",
       "    </tr>\n",
       "    <tr>\n",
       "      <th>7</th>\n",
       "      <td>CoapplicantIncome</td>\n",
       "      <td>Renda Mensal do Conjuge</td>\n",
       "    </tr>\n",
       "    <tr>\n",
       "      <th>8</th>\n",
       "      <td>LoanAmount</td>\n",
       "      <td>Quantia Solicitada para Emprestimo</td>\n",
       "    </tr>\n",
       "    <tr>\n",
       "      <th>9</th>\n",
       "      <td>Loan_Amount_Term</td>\n",
       "      <td>Tempo de Financiamento</td>\n",
       "    </tr>\n",
       "    <tr>\n",
       "      <th>10</th>\n",
       "      <td>Credit_History</td>\n",
       "      <td>Histórico de Crédito</td>\n",
       "    </tr>\n",
       "    <tr>\n",
       "      <th>11</th>\n",
       "      <td>Property_Area</td>\n",
       "      <td>Região de Moradia</td>\n",
       "    </tr>\n",
       "    <tr>\n",
       "      <th>12</th>\n",
       "      <td>Loan_Status</td>\n",
       "      <td>Variável Target</td>\n",
       "    </tr>\n",
       "  </tbody>\n",
       "</table>\n",
       "</div>"
      ],
      "text/plain": [
       "     Nome da Variavel                           Descrição\n",
       "0             Loan_ID                    ID do emprestimo\n",
       "1              Gender                              Gênero\n",
       "2             Married                        Estado Civil\n",
       "3          Dependents              Número de dependentes \n",
       "4           Education               Nível de Escolaridade\n",
       "5       Self_Employed                     Tipo de Emprego\n",
       "6     ApplicantIncome                        Renda Mensal\n",
       "7   CoapplicantIncome             Renda Mensal do Conjuge\n",
       "8          LoanAmount  Quantia Solicitada para Emprestimo\n",
       "9    Loan_Amount_Term              Tempo de Financiamento\n",
       "10     Credit_History                Histórico de Crédito\n",
       "11      Property_Area                   Região de Moradia\n",
       "12        Loan_Status                     Variável Target"
      ]
     },
     "execution_count": 5,
     "metadata": {},
     "output_type": "execute_result"
    }
   ],
   "source": [
    "#Imprimindo na Tela \n",
    "descr"
   ]
  },
  {
   "cell_type": "markdown",
   "id": "dd9d99b0",
   "metadata": {},
   "source": [
    "## Análise Exploratória dos dados"
   ]
  },
  {
   "cell_type": "code",
   "execution_count": 6,
   "id": "2831f616",
   "metadata": {},
   "outputs": [
    {
     "data": {
      "text/plain": [
       "Loan_ID               object\n",
       "Gender                object\n",
       "Married               object\n",
       "Dependents            object\n",
       "Education             object\n",
       "Self_Employed         object\n",
       "ApplicantIncome        int64\n",
       "CoapplicantIncome    float64\n",
       "LoanAmount           float64\n",
       "Loan_Amount_Term     float64\n",
       "Credit_History       float64\n",
       "Property_Area         object\n",
       "Loan_Status           object\n",
       "dtype: object"
      ]
     },
     "execution_count": 6,
     "metadata": {},
     "output_type": "execute_result"
    }
   ],
   "source": [
    "#Verificando os tipos de dados\n",
    "loan.dtypes"
   ]
  },
  {
   "cell_type": "code",
   "execution_count": 7,
   "id": "1e15e828",
   "metadata": {},
   "outputs": [
    {
     "data": {
      "text/plain": [
       "Loan_ID          object\n",
       "Gender           object\n",
       "Married          object\n",
       "Dependents       object\n",
       "Education        object\n",
       "Self_Employed    object\n",
       "Property_Area    object\n",
       "Loan_Status      object\n",
       "dtype: object"
      ]
     },
     "execution_count": 7,
     "metadata": {},
     "output_type": "execute_result"
    }
   ],
   "source": [
    "#Variáveis Categóricas\n",
    "loan.dtypes[loan.dtypes == 'object']"
   ]
  },
  {
   "cell_type": "code",
   "execution_count": 8,
   "id": "fbf1ec80",
   "metadata": {},
   "outputs": [
    {
     "data": {
      "text/plain": [
       "ApplicantIncome        int64\n",
       "CoapplicantIncome    float64\n",
       "LoanAmount           float64\n",
       "Loan_Amount_Term     float64\n",
       "Credit_History       float64\n",
       "dtype: object"
      ]
     },
     "execution_count": 8,
     "metadata": {},
     "output_type": "execute_result"
    }
   ],
   "source": [
    "#Variáveis não Categóricas\n",
    "loan.dtypes[loan.dtypes != 'object']"
   ]
  },
  {
   "cell_type": "markdown",
   "id": "e6fd2d4d",
   "metadata": {},
   "source": [
    "### Exploração das Variáveis Numéricas"
   ]
  },
  {
   "cell_type": "code",
   "execution_count": 9,
   "id": "d1091268",
   "metadata": {},
   "outputs": [],
   "source": [
    "#Função para ajustar a variável Loan Status(target)\n",
    "def ajustar(x):\n",
    "    if x == 'Y':\n",
    "        return 1\n",
    "    return 0"
   ]
  },
  {
   "cell_type": "code",
   "execution_count": 10,
   "id": "bcf6b7d3",
   "metadata": {},
   "outputs": [
    {
     "data": {
      "text/plain": [
       "Y    422\n",
       "N    192\n",
       "Name: Loan_Status, dtype: int64"
      ]
     },
     "execution_count": 10,
     "metadata": {},
     "output_type": "execute_result"
    }
   ],
   "source": [
    "loan.Loan_Status.value_counts()"
   ]
  },
  {
   "cell_type": "code",
   "execution_count": 11,
   "id": "f03ce1e0",
   "metadata": {},
   "outputs": [],
   "source": [
    "#Aplica a função \n",
    "loan['Loan_Status'] = loan['Loan_Status'].map(ajustar)"
   ]
  },
  {
   "cell_type": "code",
   "execution_count": 12,
   "id": "460b4f64",
   "metadata": {},
   "outputs": [
    {
     "data": {
      "text/plain": [
       "1    422\n",
       "0    192\n",
       "Name: Loan_Status, dtype: int64"
      ]
     },
     "execution_count": 12,
     "metadata": {},
     "output_type": "execute_result"
    }
   ],
   "source": [
    "loan['Loan_Status'].value_counts()"
   ]
  },
  {
   "cell_type": "code",
   "execution_count": 13,
   "id": "abe690a2",
   "metadata": {},
   "outputs": [],
   "source": [
    "#Alteração da variável resposta (target)\n",
    "loan.rename({'Loan_Status' : 'Target'}, axis = 'columns', inplace = True)"
   ]
  },
  {
   "cell_type": "code",
   "execution_count": 14,
   "id": "73f6ac59",
   "metadata": {},
   "outputs": [
    {
     "data": {
      "text/html": [
       "<div>\n",
       "<style scoped>\n",
       "    .dataframe tbody tr th:only-of-type {\n",
       "        vertical-align: middle;\n",
       "    }\n",
       "\n",
       "    .dataframe tbody tr th {\n",
       "        vertical-align: top;\n",
       "    }\n",
       "\n",
       "    .dataframe thead th {\n",
       "        text-align: right;\n",
       "    }\n",
       "</style>\n",
       "<table border=\"1\" class=\"dataframe\">\n",
       "  <thead>\n",
       "    <tr style=\"text-align: right;\">\n",
       "      <th></th>\n",
       "      <th>ApplicantIncome</th>\n",
       "      <th>CoapplicantIncome</th>\n",
       "      <th>LoanAmount</th>\n",
       "      <th>Loan_Amount_Term</th>\n",
       "      <th>Credit_History</th>\n",
       "      <th>Target</th>\n",
       "    </tr>\n",
       "  </thead>\n",
       "  <tbody>\n",
       "    <tr>\n",
       "      <th>count</th>\n",
       "      <td>614.000000</td>\n",
       "      <td>614.000000</td>\n",
       "      <td>592.000000</td>\n",
       "      <td>600.00000</td>\n",
       "      <td>564.000000</td>\n",
       "      <td>614.000000</td>\n",
       "    </tr>\n",
       "    <tr>\n",
       "      <th>mean</th>\n",
       "      <td>5403.459283</td>\n",
       "      <td>1621.245798</td>\n",
       "      <td>146.412162</td>\n",
       "      <td>342.00000</td>\n",
       "      <td>0.842199</td>\n",
       "      <td>0.687296</td>\n",
       "    </tr>\n",
       "    <tr>\n",
       "      <th>std</th>\n",
       "      <td>6109.041673</td>\n",
       "      <td>2926.248369</td>\n",
       "      <td>85.587325</td>\n",
       "      <td>65.12041</td>\n",
       "      <td>0.364878</td>\n",
       "      <td>0.463973</td>\n",
       "    </tr>\n",
       "    <tr>\n",
       "      <th>min</th>\n",
       "      <td>150.000000</td>\n",
       "      <td>0.000000</td>\n",
       "      <td>9.000000</td>\n",
       "      <td>12.00000</td>\n",
       "      <td>0.000000</td>\n",
       "      <td>0.000000</td>\n",
       "    </tr>\n",
       "    <tr>\n",
       "      <th>25%</th>\n",
       "      <td>2877.500000</td>\n",
       "      <td>0.000000</td>\n",
       "      <td>100.000000</td>\n",
       "      <td>360.00000</td>\n",
       "      <td>1.000000</td>\n",
       "      <td>0.000000</td>\n",
       "    </tr>\n",
       "    <tr>\n",
       "      <th>50%</th>\n",
       "      <td>3812.500000</td>\n",
       "      <td>1188.500000</td>\n",
       "      <td>128.000000</td>\n",
       "      <td>360.00000</td>\n",
       "      <td>1.000000</td>\n",
       "      <td>1.000000</td>\n",
       "    </tr>\n",
       "    <tr>\n",
       "      <th>75%</th>\n",
       "      <td>5795.000000</td>\n",
       "      <td>2297.250000</td>\n",
       "      <td>168.000000</td>\n",
       "      <td>360.00000</td>\n",
       "      <td>1.000000</td>\n",
       "      <td>1.000000</td>\n",
       "    </tr>\n",
       "    <tr>\n",
       "      <th>max</th>\n",
       "      <td>81000.000000</td>\n",
       "      <td>41667.000000</td>\n",
       "      <td>700.000000</td>\n",
       "      <td>480.00000</td>\n",
       "      <td>1.000000</td>\n",
       "      <td>1.000000</td>\n",
       "    </tr>\n",
       "  </tbody>\n",
       "</table>\n",
       "</div>"
      ],
      "text/plain": [
       "       ApplicantIncome  CoapplicantIncome  LoanAmount  Loan_Amount_Term  \\\n",
       "count       614.000000         614.000000  592.000000         600.00000   \n",
       "mean       5403.459283        1621.245798  146.412162         342.00000   \n",
       "std        6109.041673        2926.248369   85.587325          65.12041   \n",
       "min         150.000000           0.000000    9.000000          12.00000   \n",
       "25%        2877.500000           0.000000  100.000000         360.00000   \n",
       "50%        3812.500000        1188.500000  128.000000         360.00000   \n",
       "75%        5795.000000        2297.250000  168.000000         360.00000   \n",
       "max       81000.000000       41667.000000  700.000000         480.00000   \n",
       "\n",
       "       Credit_History      Target  \n",
       "count      564.000000  614.000000  \n",
       "mean         0.842199    0.687296  \n",
       "std          0.364878    0.463973  \n",
       "min          0.000000    0.000000  \n",
       "25%          1.000000    0.000000  \n",
       "50%          1.000000    1.000000  \n",
       "75%          1.000000    1.000000  \n",
       "max          1.000000    1.000000  "
      ]
     },
     "execution_count": 14,
     "metadata": {},
     "output_type": "execute_result"
    }
   ],
   "source": [
    "loan.describe()"
   ]
  },
  {
   "cell_type": "code",
   "execution_count": 15,
   "id": "d3c4ab6b",
   "metadata": {},
   "outputs": [
    {
     "data": {
      "image/png": "[encoded data removed]",
      "text/plain": [
       "<Figure size 1500x1500 with 6 Axes>"
      ]
     },
     "metadata": {},
     "output_type": "display_data"
    }
   ],
   "source": [
    "#Plot\n",
    "loan.hist(figsize = (15,15), bins = 10)\n",
    "plt.show()"
   ]
  },
  {
   "cell_type": "markdown",
   "id": "7dcb3d39",
   "metadata": {},
   "source": [
    "#### Parece que há outlier nas variáveis ApplicantIncome e CoapplicantIncome, pois o valor máximo esta muito distante da média"
   ]
  },
  {
   "cell_type": "code",
   "execution_count": 16,
   "id": "7b62efda",
   "metadata": {},
   "outputs": [
    {
     "data": {
      "image/png": "[encoded data removed]",
      "text/plain": [
       "<Figure size 640x480 with 1 Axes>"
      ]
     },
     "metadata": {},
     "output_type": "display_data"
    }
   ],
   "source": [
    "sns.boxplot(x=\"Target\", y=\"ApplicantIncome\", data= loan, palette=\"rocket\");"
   ]
  },
  {
   "cell_type": "code",
   "execution_count": 17,
   "id": "af2adf7f",
   "metadata": {},
   "outputs": [
    {
     "data": {
      "image/png": "[encoded data removed]",
      "text/plain": [
       "<Figure size 640x480 with 1 Axes>"
      ]
     },
     "metadata": {},
     "output_type": "display_data"
    }
   ],
   "source": [
    "sns.boxplot(x=\"Target\", y=\"CoapplicantIncome\", data= loan, palette=\"mako\");"
   ]
  },
  {
   "cell_type": "code",
   "execution_count": 18,
   "id": "fe012236",
   "metadata": {},
   "outputs": [
    {
     "name": "stdout",
     "output_type": "stream",
     "text": [
      "9459.900000000007\n"
     ]
    }
   ],
   "source": [
    "#Eliminando outliers das variáveis Applicantincome e Coapplicantincome\n",
    "out1 = loan['ApplicantIncome'].quantile(0.90)\n",
    "print(out1)"
   ]
  },
  {
   "cell_type": "code",
   "execution_count": 19,
   "id": "c4da9eb2",
   "metadata": {},
   "outputs": [
    {
     "name": "stdout",
     "output_type": "stream",
     "text": [
      "3782.200000000002\n"
     ]
    }
   ],
   "source": [
    "out2 = loan['CoapplicantIncome'].quantile(0.90)\n",
    "print(out2)"
   ]
  },
  {
   "cell_type": "code",
   "execution_count": 20,
   "id": "029f6daf",
   "metadata": {},
   "outputs": [],
   "source": [
    "loan = loan[(loan['ApplicantIncome'] <= out1) & (loan['CoapplicantIncome'] <= out2)]"
   ]
  },
  {
   "cell_type": "code",
   "execution_count": 21,
   "id": "76076f5b",
   "metadata": {},
   "outputs": [
    {
     "data": {
      "text/plain": [
       "Loan_ID              495\n",
       "Gender               488\n",
       "Married              493\n",
       "Dependents           483\n",
       "Education            495\n",
       "Self_Employed        466\n",
       "ApplicantIncome      495\n",
       "CoapplicantIncome    495\n",
       "LoanAmount           477\n",
       "Loan_Amount_Term     483\n",
       "Credit_History       456\n",
       "Property_Area        495\n",
       "Target               495\n",
       "dtype: int64"
      ]
     },
     "execution_count": 21,
     "metadata": {},
     "output_type": "execute_result"
    }
   ],
   "source": [
    "loan.count()"
   ]
  },
  {
   "cell_type": "code",
   "execution_count": 22,
   "id": "f6e1f2ab",
   "metadata": {},
   "outputs": [
    {
     "data": {
      "text/html": [
       "<div>\n",
       "<style scoped>\n",
       "    .dataframe tbody tr th:only-of-type {\n",
       "        vertical-align: middle;\n",
       "    }\n",
       "\n",
       "    .dataframe tbody tr th {\n",
       "        vertical-align: top;\n",
       "    }\n",
       "\n",
       "    .dataframe thead th {\n",
       "        text-align: right;\n",
       "    }\n",
       "</style>\n",
       "<table border=\"1\" class=\"dataframe\">\n",
       "  <thead>\n",
       "    <tr style=\"text-align: right;\">\n",
       "      <th></th>\n",
       "      <th>ApplicantIncome</th>\n",
       "      <th>CoapplicantIncome</th>\n",
       "      <th>LoanAmount</th>\n",
       "      <th>Loan_Amount_Term</th>\n",
       "      <th>Credit_History</th>\n",
       "      <th>Target</th>\n",
       "    </tr>\n",
       "  </thead>\n",
       "  <tbody>\n",
       "    <tr>\n",
       "      <th>ApplicantIncome</th>\n",
       "      <td>1.000000</td>\n",
       "      <td>-0.346520</td>\n",
       "      <td>0.528307</td>\n",
       "      <td>-0.056871</td>\n",
       "      <td>0.033543</td>\n",
       "      <td>-0.000686</td>\n",
       "    </tr>\n",
       "    <tr>\n",
       "      <th>CoapplicantIncome</th>\n",
       "      <td>-0.346520</td>\n",
       "      <td>1.000000</td>\n",
       "      <td>0.217504</td>\n",
       "      <td>0.043785</td>\n",
       "      <td>0.002970</td>\n",
       "      <td>0.082591</td>\n",
       "    </tr>\n",
       "    <tr>\n",
       "      <th>LoanAmount</th>\n",
       "      <td>0.528307</td>\n",
       "      <td>0.217504</td>\n",
       "      <td>1.000000</td>\n",
       "      <td>0.109726</td>\n",
       "      <td>0.019271</td>\n",
       "      <td>-0.037840</td>\n",
       "    </tr>\n",
       "    <tr>\n",
       "      <th>Loan_Amount_Term</th>\n",
       "      <td>-0.056871</td>\n",
       "      <td>0.043785</td>\n",
       "      <td>0.109726</td>\n",
       "      <td>1.000000</td>\n",
       "      <td>-0.017506</td>\n",
       "      <td>-0.040500</td>\n",
       "    </tr>\n",
       "    <tr>\n",
       "      <th>Credit_History</th>\n",
       "      <td>0.033543</td>\n",
       "      <td>0.002970</td>\n",
       "      <td>0.019271</td>\n",
       "      <td>-0.017506</td>\n",
       "      <td>1.000000</td>\n",
       "      <td>0.581450</td>\n",
       "    </tr>\n",
       "    <tr>\n",
       "      <th>Target</th>\n",
       "      <td>-0.000686</td>\n",
       "      <td>0.082591</td>\n",
       "      <td>-0.037840</td>\n",
       "      <td>-0.040500</td>\n",
       "      <td>0.581450</td>\n",
       "      <td>1.000000</td>\n",
       "    </tr>\n",
       "  </tbody>\n",
       "</table>\n",
       "</div>"
      ],
      "text/plain": [
       "                   ApplicantIncome  CoapplicantIncome  LoanAmount  \\\n",
       "ApplicantIncome           1.000000          -0.346520    0.528307   \n",
       "CoapplicantIncome        -0.346520           1.000000    0.217504   \n",
       "LoanAmount                0.528307           0.217504    1.000000   \n",
       "Loan_Amount_Term         -0.056871           0.043785    0.109726   \n",
       "Credit_History            0.033543           0.002970    0.019271   \n",
       "Target                   -0.000686           0.082591   -0.037840   \n",
       "\n",
       "                   Loan_Amount_Term  Credit_History    Target  \n",
       "ApplicantIncome           -0.056871        0.033543 -0.000686  \n",
       "CoapplicantIncome          0.043785        0.002970  0.082591  \n",
       "LoanAmount                 0.109726        0.019271 -0.037840  \n",
       "Loan_Amount_Term           1.000000       -0.017506 -0.040500  \n",
       "Credit_History            -0.017506        1.000000  0.581450  \n",
       "Target                    -0.040500        0.581450  1.000000  "
      ]
     },
     "execution_count": 22,
     "metadata": {},
     "output_type": "execute_result"
    }
   ],
   "source": [
    "#Correlação entre variáveis\n",
    "loan.corr()"
   ]
  },
  {
   "cell_type": "code",
   "execution_count": 23,
   "id": "15996cd2",
   "metadata": {},
   "outputs": [
    {
     "data": {
      "image/png": "[encoded data removed]",
      "text/plain": [
       "<Figure size 1600x600 with 2 Axes>"
      ]
     },
     "metadata": {},
     "output_type": "display_data"
    }
   ],
   "source": [
    "#Visualização de correlação por mapa de calor\n",
    "plt.figure(figsize = (16,6))\n",
    "sns.heatmap(loan.corr(),vmin=-1, vmax=1, annot=True, cmap='BrBG').set_title('Correlação de Variáveis por Mapa de Calor', fontdict={'fontsize':18}, pad=12);"
   ]
  },
  {
   "cell_type": "markdown",
   "id": "fe8a7c62",
   "metadata": {},
   "source": [
    "### Exploração da Variável Categórica"
   ]
  },
  {
   "cell_type": "code",
   "execution_count": 24,
   "id": "b80f5fee",
   "metadata": {},
   "outputs": [
    {
     "data": {
      "text/html": [
       "<div>\n",
       "<style scoped>\n",
       "    .dataframe tbody tr th:only-of-type {\n",
       "        vertical-align: middle;\n",
       "    }\n",
       "\n",
       "    .dataframe tbody tr th {\n",
       "        vertical-align: top;\n",
       "    }\n",
       "\n",
       "    .dataframe thead th {\n",
       "        text-align: right;\n",
       "    }\n",
       "</style>\n",
       "<table border=\"1\" class=\"dataframe\">\n",
       "  <thead>\n",
       "    <tr style=\"text-align: right;\">\n",
       "      <th></th>\n",
       "      <th>Loan_ID</th>\n",
       "      <th>Gender</th>\n",
       "      <th>Married</th>\n",
       "      <th>Dependents</th>\n",
       "      <th>Education</th>\n",
       "      <th>Self_Employed</th>\n",
       "      <th>Property_Area</th>\n",
       "    </tr>\n",
       "  </thead>\n",
       "  <tbody>\n",
       "    <tr>\n",
       "      <th>count</th>\n",
       "      <td>495</td>\n",
       "      <td>488</td>\n",
       "      <td>493</td>\n",
       "      <td>483</td>\n",
       "      <td>495</td>\n",
       "      <td>466</td>\n",
       "      <td>495</td>\n",
       "    </tr>\n",
       "    <tr>\n",
       "      <th>unique</th>\n",
       "      <td>495</td>\n",
       "      <td>2</td>\n",
       "      <td>2</td>\n",
       "      <td>4</td>\n",
       "      <td>2</td>\n",
       "      <td>2</td>\n",
       "      <td>3</td>\n",
       "    </tr>\n",
       "    <tr>\n",
       "      <th>top</th>\n",
       "      <td>LP001002</td>\n",
       "      <td>Male</td>\n",
       "      <td>Yes</td>\n",
       "      <td>0</td>\n",
       "      <td>Graduate</td>\n",
       "      <td>No</td>\n",
       "      <td>Semiurban</td>\n",
       "    </tr>\n",
       "    <tr>\n",
       "      <th>freq</th>\n",
       "      <td>1</td>\n",
       "      <td>391</td>\n",
       "      <td>315</td>\n",
       "      <td>282</td>\n",
       "      <td>369</td>\n",
       "      <td>414</td>\n",
       "      <td>189</td>\n",
       "    </tr>\n",
       "  </tbody>\n",
       "</table>\n",
       "</div>"
      ],
      "text/plain": [
       "         Loan_ID Gender Married Dependents Education Self_Employed  \\\n",
       "count        495    488     493        483       495           466   \n",
       "unique       495      2       2          4         2             2   \n",
       "top     LP001002   Male     Yes          0  Graduate            No   \n",
       "freq           1    391     315        282       369           414   \n",
       "\n",
       "       Property_Area  \n",
       "count            495  \n",
       "unique             3  \n",
       "top        Semiurban  \n",
       "freq             189  "
      ]
     },
     "execution_count": 24,
     "metadata": {},
     "output_type": "execute_result"
    }
   ],
   "source": [
    "loan.describe(include = ['object'])"
   ]
  },
  {
   "cell_type": "code",
   "execution_count": 25,
   "id": "5496b2ca",
   "metadata": {},
   "outputs": [
    {
     "data": {
      "image/png": "[encoded data removed]",
      "text/plain": [
       "<Figure size 640x480 with 1 Axes>"
      ]
     },
     "metadata": {},
     "output_type": "display_data"
    }
   ],
   "source": [
    "#Plot\n",
    "sns.countplot(data = loan, x = 'Gender', label = 'Count');"
   ]
  },
  {
   "cell_type": "code",
   "execution_count": 26,
   "id": "61aa33f4",
   "metadata": {},
   "outputs": [
    {
     "data": {
      "image/png": "[encoded data removed]",
      "text/plain": [
       "<Figure size 640x480 with 1 Axes>"
      ]
     },
     "metadata": {},
     "output_type": "display_data"
    }
   ],
   "source": [
    "sns.countplot(data = loan, x = 'Married', label = 'Count');"
   ]
  },
  {
   "cell_type": "code",
   "execution_count": 27,
   "id": "275c53b8",
   "metadata": {},
   "outputs": [
    {
     "data": {
      "image/png": "[encoded data removed]",
      "text/plain": [
       "<Figure size 640x480 with 1 Axes>"
      ]
     },
     "metadata": {},
     "output_type": "display_data"
    }
   ],
   "source": [
    "sns.countplot(data = loan, x = 'Dependents', label = 'Count');"
   ]
  },
  {
   "cell_type": "code",
   "execution_count": 28,
   "id": "3195fd6e",
   "metadata": {},
   "outputs": [
    {
     "data": {
      "image/png": "[encoded data removed]",
      "text/plain": [
       "<Figure size 640x480 with 1 Axes>"
      ]
     },
     "metadata": {},
     "output_type": "display_data"
    }
   ],
   "source": [
    "sns.countplot(data = loan, x = 'Education', label = 'Count');"
   ]
  },
  {
   "cell_type": "code",
   "execution_count": 29,
   "id": "af422110",
   "metadata": {},
   "outputs": [
    {
     "data": {
      "image/png": "[encoded data removed]",
      "text/plain": [
       "<Figure size 640x480 with 1 Axes>"
      ]
     },
     "metadata": {},
     "output_type": "display_data"
    }
   ],
   "source": [
    "sns.countplot(data = loan, x = 'Self_Employed', label = 'Count');"
   ]
  },
  {
   "cell_type": "code",
   "execution_count": 30,
   "id": "4ef775af",
   "metadata": {},
   "outputs": [
    {
     "data": {
      "image/png": "[encoded data removed]",
      "text/plain": [
       "<Figure size 640x480 with 1 Axes>"
      ]
     },
     "metadata": {},
     "output_type": "display_data"
    }
   ],
   "source": [
    "sns.countplot(data = loan, x = 'Property_Area', label = 'Count');"
   ]
  },
  {
   "cell_type": "markdown",
   "id": "3cf76ca0",
   "metadata": {},
   "source": [
    "### Tratamento das Variáveis Nulas"
   ]
  },
  {
   "cell_type": "code",
   "execution_count": 31,
   "id": "1c50a651",
   "metadata": {},
   "outputs": [
    {
     "data": {
      "text/plain": [
       "Loan_ID               0\n",
       "Gender                7\n",
       "Married               2\n",
       "Dependents           12\n",
       "Education             0\n",
       "Self_Employed        29\n",
       "ApplicantIncome       0\n",
       "CoapplicantIncome     0\n",
       "LoanAmount           18\n",
       "Loan_Amount_Term     12\n",
       "Credit_History       39\n",
       "Property_Area         0\n",
       "Target                0\n",
       "dtype: int64"
      ]
     },
     "execution_count": 31,
     "metadata": {},
     "output_type": "execute_result"
    }
   ],
   "source": [
    "loan.isnull().sum()"
   ]
  },
  {
   "cell_type": "code",
   "execution_count": 32,
   "id": "49fb3ef3",
   "metadata": {},
   "outputs": [
    {
     "data": {
      "text/html": [
       "<div>\n",
       "<style scoped>\n",
       "    .dataframe tbody tr th:only-of-type {\n",
       "        vertical-align: middle;\n",
       "    }\n",
       "\n",
       "    .dataframe tbody tr th {\n",
       "        vertical-align: top;\n",
       "    }\n",
       "\n",
       "    .dataframe thead th {\n",
       "        text-align: right;\n",
       "    }\n",
       "</style>\n",
       "<table border=\"1\" class=\"dataframe\">\n",
       "  <thead>\n",
       "    <tr style=\"text-align: right;\">\n",
       "      <th></th>\n",
       "      <th>Loan_ID</th>\n",
       "      <th>Gender</th>\n",
       "      <th>Married</th>\n",
       "      <th>Dependents</th>\n",
       "      <th>Education</th>\n",
       "      <th>Self_Employed</th>\n",
       "      <th>ApplicantIncome</th>\n",
       "      <th>CoapplicantIncome</th>\n",
       "      <th>LoanAmount</th>\n",
       "      <th>Loan_Amount_Term</th>\n",
       "      <th>Credit_History</th>\n",
       "      <th>Property_Area</th>\n",
       "      <th>Target</th>\n",
       "    </tr>\n",
       "  </thead>\n",
       "  <tbody>\n",
       "    <tr>\n",
       "      <th>23</th>\n",
       "      <td>LP001050</td>\n",
       "      <td>NaN</td>\n",
       "      <td>Yes</td>\n",
       "      <td>2</td>\n",
       "      <td>Not Graduate</td>\n",
       "      <td>No</td>\n",
       "      <td>3365</td>\n",
       "      <td>1917.0</td>\n",
       "      <td>112.0</td>\n",
       "      <td>360.0</td>\n",
       "      <td>0.0</td>\n",
       "      <td>Rural</td>\n",
       "      <td>0</td>\n",
       "    </tr>\n",
       "    <tr>\n",
       "      <th>314</th>\n",
       "      <td>LP002024</td>\n",
       "      <td>NaN</td>\n",
       "      <td>Yes</td>\n",
       "      <td>0</td>\n",
       "      <td>Graduate</td>\n",
       "      <td>No</td>\n",
       "      <td>2473</td>\n",
       "      <td>1843.0</td>\n",
       "      <td>159.0</td>\n",
       "      <td>360.0</td>\n",
       "      <td>1.0</td>\n",
       "      <td>Rural</td>\n",
       "      <td>0</td>\n",
       "    </tr>\n",
       "    <tr>\n",
       "      <th>477</th>\n",
       "      <td>LP002530</td>\n",
       "      <td>NaN</td>\n",
       "      <td>Yes</td>\n",
       "      <td>2</td>\n",
       "      <td>Graduate</td>\n",
       "      <td>No</td>\n",
       "      <td>2873</td>\n",
       "      <td>1872.0</td>\n",
       "      <td>132.0</td>\n",
       "      <td>360.0</td>\n",
       "      <td>0.0</td>\n",
       "      <td>Semiurban</td>\n",
       "      <td>0</td>\n",
       "    </tr>\n",
       "    <tr>\n",
       "      <th>507</th>\n",
       "      <td>LP002625</td>\n",
       "      <td>NaN</td>\n",
       "      <td>No</td>\n",
       "      <td>0</td>\n",
       "      <td>Graduate</td>\n",
       "      <td>No</td>\n",
       "      <td>3583</td>\n",
       "      <td>0.0</td>\n",
       "      <td>96.0</td>\n",
       "      <td>360.0</td>\n",
       "      <td>1.0</td>\n",
       "      <td>Urban</td>\n",
       "      <td>0</td>\n",
       "    </tr>\n",
       "    <tr>\n",
       "      <th>576</th>\n",
       "      <td>LP002872</td>\n",
       "      <td>NaN</td>\n",
       "      <td>Yes</td>\n",
       "      <td>0</td>\n",
       "      <td>Graduate</td>\n",
       "      <td>No</td>\n",
       "      <td>3087</td>\n",
       "      <td>2210.0</td>\n",
       "      <td>136.0</td>\n",
       "      <td>360.0</td>\n",
       "      <td>0.0</td>\n",
       "      <td>Semiurban</td>\n",
       "      <td>0</td>\n",
       "    </tr>\n",
       "    <tr>\n",
       "      <th>588</th>\n",
       "      <td>LP002925</td>\n",
       "      <td>NaN</td>\n",
       "      <td>No</td>\n",
       "      <td>0</td>\n",
       "      <td>Graduate</td>\n",
       "      <td>No</td>\n",
       "      <td>4750</td>\n",
       "      <td>0.0</td>\n",
       "      <td>94.0</td>\n",
       "      <td>360.0</td>\n",
       "      <td>1.0</td>\n",
       "      <td>Semiurban</td>\n",
       "      <td>1</td>\n",
       "    </tr>\n",
       "    <tr>\n",
       "      <th>592</th>\n",
       "      <td>LP002933</td>\n",
       "      <td>NaN</td>\n",
       "      <td>No</td>\n",
       "      <td>3+</td>\n",
       "      <td>Graduate</td>\n",
       "      <td>Yes</td>\n",
       "      <td>9357</td>\n",
       "      <td>0.0</td>\n",
       "      <td>292.0</td>\n",
       "      <td>360.0</td>\n",
       "      <td>1.0</td>\n",
       "      <td>Semiurban</td>\n",
       "      <td>1</td>\n",
       "    </tr>\n",
       "  </tbody>\n",
       "</table>\n",
       "</div>"
      ],
      "text/plain": [
       "      Loan_ID Gender Married Dependents     Education Self_Employed  \\\n",
       "23   LP001050    NaN     Yes          2  Not Graduate            No   \n",
       "314  LP002024    NaN     Yes          0      Graduate            No   \n",
       "477  LP002530    NaN     Yes          2      Graduate            No   \n",
       "507  LP002625    NaN      No          0      Graduate            No   \n",
       "576  LP002872    NaN     Yes          0      Graduate            No   \n",
       "588  LP002925    NaN      No          0      Graduate            No   \n",
       "592  LP002933    NaN      No         3+      Graduate           Yes   \n",
       "\n",
       "     ApplicantIncome  CoapplicantIncome  LoanAmount  Loan_Amount_Term  \\\n",
       "23              3365             1917.0       112.0             360.0   \n",
       "314             2473             1843.0       159.0             360.0   \n",
       "477             2873             1872.0       132.0             360.0   \n",
       "507             3583                0.0        96.0             360.0   \n",
       "576             3087             2210.0       136.0             360.0   \n",
       "588             4750                0.0        94.0             360.0   \n",
       "592             9357                0.0       292.0             360.0   \n",
       "\n",
       "     Credit_History Property_Area  Target  \n",
       "23              0.0         Rural       0  \n",
       "314             1.0         Rural       0  \n",
       "477             0.0     Semiurban       0  \n",
       "507             1.0         Urban       0  \n",
       "576             0.0     Semiurban       0  \n",
       "588             1.0     Semiurban       1  \n",
       "592             1.0     Semiurban       1  "
      ]
     },
     "execution_count": 32,
     "metadata": {},
     "output_type": "execute_result"
    }
   ],
   "source": [
    "loan[loan['Gender'].isnull() == True]"
   ]
  },
  {
   "cell_type": "code",
   "execution_count": 33,
   "id": "77d0ff03",
   "metadata": {},
   "outputs": [],
   "source": [
    "#Extração da moda para a variável Gender\n",
    "moda_Gender = loan['Gender'].value_counts().index[0]"
   ]
  },
  {
   "cell_type": "code",
   "execution_count": 34,
   "id": "68f9004a",
   "metadata": {},
   "outputs": [],
   "source": [
    "#Extração da moda para a variável Married\n",
    "moda_Married = loan['Married'].value_counts().index[0]"
   ]
  },
  {
   "cell_type": "code",
   "execution_count": 35,
   "id": "abde6ca9",
   "metadata": {},
   "outputs": [],
   "source": [
    "#Extração da moda para a variável Dependents\n",
    "moda_Dependets = loan['Dependents'].value_counts().index[0]"
   ]
  },
  {
   "cell_type": "code",
   "execution_count": 36,
   "id": "0036cb8f",
   "metadata": {},
   "outputs": [],
   "source": [
    "#Extração da moda para a variável Self_Employed\n",
    "moda_Self_Employed = loan['Self_Employed'].value_counts().index[0]"
   ]
  },
  {
   "cell_type": "code",
   "execution_count": 37,
   "id": "45d29561",
   "metadata": {},
   "outputs": [],
   "source": [
    "#Extração da moda para a variável Credit History\n",
    "moda_Credit_History = loan['Credit_History'].value_counts().index[0]"
   ]
  },
  {
   "cell_type": "code",
   "execution_count": 38,
   "id": "3b20de3f",
   "metadata": {},
   "outputs": [],
   "source": [
    "#Preenchimento dos valores ausentes de variáveis categóricas \n",
    "loan['Gender'].fillna(value = moda_Gender, inplace = True)\n",
    "loan['Married'].fillna(value = moda_Married, inplace = True)\n",
    "loan['Dependents'].fillna(value = moda_Dependets, inplace = True)\n",
    "loan['Self_Employed'].fillna(value = moda_Self_Employed, inplace = True)\n",
    "loan['Credit_History'].fillna(value = moda_Credit_History, inplace = True)"
   ]
  },
  {
   "cell_type": "code",
   "execution_count": 39,
   "id": "1df6de82",
   "metadata": {},
   "outputs": [],
   "source": [
    "#Preenchimento dos valores ausentes de variáveis numéricas\n",
    "loan['LoanAmount'].fillna(value = loan['LoanAmount'].median(), inplace = True)\n",
    "loan['Loan_Amount_Term'].fillna(value = loan['Loan_Amount_Term'].mean(), inplace = True)"
   ]
  },
  {
   "cell_type": "code",
   "execution_count": 40,
   "id": "2291f07a",
   "metadata": {},
   "outputs": [
    {
     "data": {
      "text/plain": [
       "Loan_ID              0\n",
       "Gender               0\n",
       "Married              0\n",
       "Dependents           0\n",
       "Education            0\n",
       "Self_Employed        0\n",
       "ApplicantIncome      0\n",
       "CoapplicantIncome    0\n",
       "LoanAmount           0\n",
       "Loan_Amount_Term     0\n",
       "Credit_History       0\n",
       "Property_Area        0\n",
       "Target               0\n",
       "dtype: int64"
      ]
     },
     "execution_count": 40,
     "metadata": {},
     "output_type": "execute_result"
    }
   ],
   "source": [
    "#Conferência de Valores Nulos\n",
    "loan.isnull().sum()"
   ]
  },
  {
   "cell_type": "code",
   "execution_count": 41,
   "id": "1304a493",
   "metadata": {},
   "outputs": [
    {
     "data": {
      "text/plain": [
       "0"
      ]
     },
     "execution_count": 41,
     "metadata": {},
     "output_type": "execute_result"
    }
   ],
   "source": [
    "#Conferência de valores duplicados\n",
    "loan.duplicated().sum()"
   ]
  },
  {
   "cell_type": "code",
   "execution_count": 42,
   "id": "ca2a43ab",
   "metadata": {},
   "outputs": [
    {
     "data": {
      "text/plain": [
       "Index(['Loan_ID', 'Gender', 'Married', 'Dependents', 'Education',\n",
       "       'Self_Employed', 'ApplicantIncome', 'CoapplicantIncome', 'LoanAmount',\n",
       "       'Loan_Amount_Term', 'Credit_History', 'Property_Area', 'Target'],\n",
       "      dtype='object')"
      ]
     },
     "execution_count": 42,
     "metadata": {},
     "output_type": "execute_result"
    }
   ],
   "source": [
    "loan.columns"
   ]
  },
  {
   "cell_type": "markdown",
   "id": "7bdaa5b8",
   "metadata": {},
   "source": [
    "### Engenharia de Atributos - Novas variáveis"
   ]
  },
  {
   "cell_type": "code",
   "execution_count": 43,
   "id": "b7b47991",
   "metadata": {},
   "outputs": [],
   "source": [
    "loan['razao_renda_total'] = loan['LoanAmount']  / ( loan['ApplicantIncome'] + loan['CoapplicantIncome'] ) *100"
   ]
  },
  {
   "cell_type": "code",
   "execution_count": 44,
   "id": "82306c79",
   "metadata": {},
   "outputs": [
    {
     "data": {
      "text/plain": [
       "<AxesSubplot:>"
      ]
     },
     "execution_count": 44,
     "metadata": {},
     "output_type": "execute_result"
    },
    {
     "data": {
      "image/png": "[encoded data removed]",
      "text/plain": [
       "<Figure size 640x480 with 1 Axes>"
      ]
     },
     "metadata": {},
     "output_type": "display_data"
    }
   ],
   "source": [
    "loan['razao_renda_total'].hist(bins = 20)"
   ]
  },
  {
   "cell_type": "code",
   "execution_count": null,
   "id": "d24ec612",
   "metadata": {},
   "outputs": [],
   "source": []
  },
  {
   "cell_type": "markdown",
   "id": "12644554",
   "metadata": {},
   "source": [
    "### Label Encoding e One Hot Encoding"
   ]
  },
  {
   "cell_type": "code",
   "execution_count": 45,
   "id": "c3a3dba2",
   "metadata": {},
   "outputs": [],
   "source": [
    "#Função para label encoding da váriavel Gender\n",
    "\n",
    "def enc_gender(x):\n",
    "    if x == 'Male':\n",
    "        return 0\n",
    "    return 1"
   ]
  },
  {
   "cell_type": "code",
   "execution_count": 46,
   "id": "1dff2f1e",
   "metadata": {},
   "outputs": [],
   "source": [
    "#Aplica a função\n",
    "loan['Gender'] = loan['Gender'].map(enc_gender)"
   ]
  },
  {
   "cell_type": "code",
   "execution_count": 47,
   "id": "23bb2858",
   "metadata": {},
   "outputs": [],
   "source": [
    "#Função para label encoding da variável Married\n",
    "def enc_married(x):\n",
    "    if x == 'No':\n",
    "        return 0\n",
    "    return 1 "
   ]
  },
  {
   "cell_type": "code",
   "execution_count": 48,
   "id": "34883e77",
   "metadata": {},
   "outputs": [],
   "source": [
    "loan['Married'] = loan['Married'].map(enc_married)"
   ]
  },
  {
   "cell_type": "code",
   "execution_count": 49,
   "id": "9d1db7af",
   "metadata": {},
   "outputs": [],
   "source": [
    "#Função para label encoding da variável Education\n",
    "def enc_education(x):\n",
    "    if x == 'Not Graduate':\n",
    "        return 0\n",
    "    return 1"
   ]
  },
  {
   "cell_type": "code",
   "execution_count": 50,
   "id": "2c9259f7",
   "metadata": {},
   "outputs": [],
   "source": [
    "loan['Education'] = loan['Education'].map(enc_education)"
   ]
  },
  {
   "cell_type": "code",
   "execution_count": 51,
   "id": "28c1df5a",
   "metadata": {},
   "outputs": [],
   "source": [
    "#Função para label encoding da variável Self Employed\n",
    "def enc_employed(x):\n",
    "    if x == 'No':\n",
    "        return 0\n",
    "    return 1 "
   ]
  },
  {
   "cell_type": "code",
   "execution_count": 52,
   "id": "b544e056",
   "metadata": {},
   "outputs": [],
   "source": [
    "loan['Self_Employed'] = loan['Self_Employed'].map(enc_employed)"
   ]
  },
  {
   "cell_type": "code",
   "execution_count": 53,
   "id": "3e625212",
   "metadata": {},
   "outputs": [],
   "source": [
    "#One Hot Encoding para variável Property_Area \n",
    "onehot = pd.get_dummies(loan['Property_Area']) "
   ]
  },
  {
   "cell_type": "code",
   "execution_count": 54,
   "id": "cbc30bd1",
   "metadata": {},
   "outputs": [],
   "source": [
    "loan = loan.join(onehot)"
   ]
  },
  {
   "cell_type": "code",
   "execution_count": 55,
   "id": "f3dbea3f",
   "metadata": {},
   "outputs": [],
   "source": [
    "loan.drop('Property_Area', axis = 1, inplace = True)"
   ]
  },
  {
   "cell_type": "code",
   "execution_count": 56,
   "id": "f3160fb6",
   "metadata": {},
   "outputs": [],
   "source": [
    "#Tratamento da variável 'Dependents'\n",
    "loan.loc[:,'Dependents'] = loan.Dependents.replace('3+',3)"
   ]
  },
  {
   "cell_type": "code",
   "execution_count": 57,
   "id": "12e41b8e",
   "metadata": {},
   "outputs": [
    {
     "data": {
      "text/plain": [
       "0    294\n",
       "2     83\n",
       "1     80\n",
       "3     38\n",
       "Name: Dependents, dtype: int64"
      ]
     },
     "execution_count": 57,
     "metadata": {},
     "output_type": "execute_result"
    }
   ],
   "source": [
    "loan.Dependents.value_counts()"
   ]
  },
  {
   "cell_type": "code",
   "execution_count": 58,
   "id": "706c6acd",
   "metadata": {},
   "outputs": [],
   "source": [
    "loan['Dependents'] = loan['Dependents'].astype(int)"
   ]
  },
  {
   "cell_type": "code",
   "execution_count": 59,
   "id": "878e4dc7",
   "metadata": {},
   "outputs": [],
   "source": [
    "#Remoção da coluna ID\n",
    "loan = loan.drop(columns = 'Loan_ID')"
   ]
  },
  {
   "cell_type": "code",
   "execution_count": 60,
   "id": "278f8489",
   "metadata": {},
   "outputs": [
    {
     "data": {
      "text/html": [
       "<div>\n",
       "<style scoped>\n",
       "    .dataframe tbody tr th:only-of-type {\n",
       "        vertical-align: middle;\n",
       "    }\n",
       "\n",
       "    .dataframe tbody tr th {\n",
       "        vertical-align: top;\n",
       "    }\n",
       "\n",
       "    .dataframe thead th {\n",
       "        text-align: right;\n",
       "    }\n",
       "</style>\n",
       "<table border=\"1\" class=\"dataframe\">\n",
       "  <thead>\n",
       "    <tr style=\"text-align: right;\">\n",
       "      <th></th>\n",
       "      <th>Gender</th>\n",
       "      <th>Married</th>\n",
       "      <th>Dependents</th>\n",
       "      <th>Education</th>\n",
       "      <th>Self_Employed</th>\n",
       "      <th>ApplicantIncome</th>\n",
       "      <th>CoapplicantIncome</th>\n",
       "      <th>LoanAmount</th>\n",
       "      <th>Loan_Amount_Term</th>\n",
       "      <th>Credit_History</th>\n",
       "      <th>Target</th>\n",
       "      <th>razao_renda_total</th>\n",
       "      <th>Rural</th>\n",
       "      <th>Semiurban</th>\n",
       "      <th>Urban</th>\n",
       "    </tr>\n",
       "  </thead>\n",
       "  <tbody>\n",
       "    <tr>\n",
       "      <th>0</th>\n",
       "      <td>0</td>\n",
       "      <td>0</td>\n",
       "      <td>0</td>\n",
       "      <td>1</td>\n",
       "      <td>0</td>\n",
       "      <td>5849</td>\n",
       "      <td>0.0</td>\n",
       "      <td>120.0</td>\n",
       "      <td>360.0</td>\n",
       "      <td>1.0</td>\n",
       "      <td>1</td>\n",
       "      <td>2.051633</td>\n",
       "      <td>0</td>\n",
       "      <td>0</td>\n",
       "      <td>1</td>\n",
       "    </tr>\n",
       "    <tr>\n",
       "      <th>1</th>\n",
       "      <td>0</td>\n",
       "      <td>1</td>\n",
       "      <td>1</td>\n",
       "      <td>1</td>\n",
       "      <td>0</td>\n",
       "      <td>4583</td>\n",
       "      <td>1508.0</td>\n",
       "      <td>128.0</td>\n",
       "      <td>360.0</td>\n",
       "      <td>1.0</td>\n",
       "      <td>0</td>\n",
       "      <td>2.101461</td>\n",
       "      <td>1</td>\n",
       "      <td>0</td>\n",
       "      <td>0</td>\n",
       "    </tr>\n",
       "    <tr>\n",
       "      <th>2</th>\n",
       "      <td>0</td>\n",
       "      <td>1</td>\n",
       "      <td>0</td>\n",
       "      <td>1</td>\n",
       "      <td>1</td>\n",
       "      <td>3000</td>\n",
       "      <td>0.0</td>\n",
       "      <td>66.0</td>\n",
       "      <td>360.0</td>\n",
       "      <td>1.0</td>\n",
       "      <td>1</td>\n",
       "      <td>2.200000</td>\n",
       "      <td>0</td>\n",
       "      <td>0</td>\n",
       "      <td>1</td>\n",
       "    </tr>\n",
       "    <tr>\n",
       "      <th>3</th>\n",
       "      <td>0</td>\n",
       "      <td>1</td>\n",
       "      <td>0</td>\n",
       "      <td>0</td>\n",
       "      <td>0</td>\n",
       "      <td>2583</td>\n",
       "      <td>2358.0</td>\n",
       "      <td>120.0</td>\n",
       "      <td>360.0</td>\n",
       "      <td>1.0</td>\n",
       "      <td>1</td>\n",
       "      <td>2.428658</td>\n",
       "      <td>0</td>\n",
       "      <td>0</td>\n",
       "      <td>1</td>\n",
       "    </tr>\n",
       "    <tr>\n",
       "      <th>4</th>\n",
       "      <td>0</td>\n",
       "      <td>0</td>\n",
       "      <td>0</td>\n",
       "      <td>1</td>\n",
       "      <td>0</td>\n",
       "      <td>6000</td>\n",
       "      <td>0.0</td>\n",
       "      <td>141.0</td>\n",
       "      <td>360.0</td>\n",
       "      <td>1.0</td>\n",
       "      <td>1</td>\n",
       "      <td>2.350000</td>\n",
       "      <td>0</td>\n",
       "      <td>0</td>\n",
       "      <td>1</td>\n",
       "    </tr>\n",
       "  </tbody>\n",
       "</table>\n",
       "</div>"
      ],
      "text/plain": [
       "   Gender  Married  Dependents  Education  Self_Employed  ApplicantIncome  \\\n",
       "0       0        0           0          1              0             5849   \n",
       "1       0        1           1          1              0             4583   \n",
       "2       0        1           0          1              1             3000   \n",
       "3       0        1           0          0              0             2583   \n",
       "4       0        0           0          1              0             6000   \n",
       "\n",
       "   CoapplicantIncome  LoanAmount  Loan_Amount_Term  Credit_History  Target  \\\n",
       "0                0.0       120.0             360.0             1.0       1   \n",
       "1             1508.0       128.0             360.0             1.0       0   \n",
       "2                0.0        66.0             360.0             1.0       1   \n",
       "3             2358.0       120.0             360.0             1.0       1   \n",
       "4                0.0       141.0             360.0             1.0       1   \n",
       "\n",
       "   razao_renda_total  Rural  Semiurban  Urban  \n",
       "0           2.051633      0          0      1  \n",
       "1           2.101461      1          0      0  \n",
       "2           2.200000      0          0      1  \n",
       "3           2.428658      0          0      1  \n",
       "4           2.350000      0          0      1  "
      ]
     },
     "execution_count": 60,
     "metadata": {},
     "output_type": "execute_result"
    }
   ],
   "source": [
    "loan.head()"
   ]
  },
  {
   "cell_type": "markdown",
   "id": "f31221c9",
   "metadata": {},
   "source": [
    "### Divisão do Conjunto de Dados em Treino e Teste"
   ]
  },
  {
   "cell_type": "code",
   "execution_count": 61,
   "id": "0dd42e36",
   "metadata": {},
   "outputs": [],
   "source": [
    "from sklearn.model_selection import train_test_split"
   ]
  },
  {
   "cell_type": "code",
   "execution_count": 62,
   "id": "fe4ba8ba",
   "metadata": {},
   "outputs": [],
   "source": [
    "X = loan.drop('Target', axis = 1)\n",
    "y = loan.Target"
   ]
  },
  {
   "cell_type": "code",
   "execution_count": 63,
   "id": "76c944e5",
   "metadata": {},
   "outputs": [],
   "source": [
    "X_tr, X_ts, y_tr, y_ts = train_test_split(X,y, test_size = 0.3, random_state = 61658)"
   ]
  },
  {
   "cell_type": "code",
   "execution_count": 64,
   "id": "cad3e36c",
   "metadata": {},
   "outputs": [
    {
     "data": {
      "text/plain": [
       "(4844, 2086)"
      ]
     },
     "execution_count": 64,
     "metadata": {},
     "output_type": "execute_result"
    }
   ],
   "source": [
    "X_tr.size, X_ts.size"
   ]
  },
  {
   "cell_type": "code",
   "execution_count": 65,
   "id": "f4a98345",
   "metadata": {},
   "outputs": [],
   "source": [
    "#Variável para armazenar o resultado dos modelos\n",
    "modelos = pd.DataFrame()"
   ]
  },
  {
   "cell_type": "markdown",
   "id": "ff7d04c9",
   "metadata": {},
   "source": [
    "### Normalização e Padronização dos Dados"
   ]
  },
  {
   "cell_type": "code",
   "execution_count": 66,
   "id": "371c278f",
   "metadata": {},
   "outputs": [],
   "source": [
    "from sklearn.preprocessing import MinMaxScaler\n",
    "from sklearn.preprocessing import StandardScaler"
   ]
  },
  {
   "cell_type": "code",
   "execution_count": 67,
   "id": "08c5e692",
   "metadata": {},
   "outputs": [],
   "source": [
    "#Separação das variáveis para aplicar a normaliação e padronização dos dados\n",
    "min_max_num = ['ApplicantIncome','CoapplicantIncome','LoanAmount','Loan_Amount_Term']\n",
    "stand_num = ['razao_renda_total']"
   ]
  },
  {
   "cell_type": "code",
   "execution_count": 68,
   "id": "e1a0b5a4",
   "metadata": {},
   "outputs": [],
   "source": [
    "min_max_scaler = MinMaxScaler()\n",
    "stand_scaler = StandardScaler()"
   ]
  },
  {
   "cell_type": "code",
   "execution_count": 69,
   "id": "bcd1b278",
   "metadata": {},
   "outputs": [
    {
     "data": {
      "text/plain": [
       "MinMaxScaler()"
      ]
     },
     "execution_count": 69,
     "metadata": {},
     "output_type": "execute_result"
    }
   ],
   "source": [
    "#Treinamento do MinMaxScaler e StandardScaler no conjunto de treino.\n",
    "min_max_scaler.fit(X_tr[min_max_num])"
   ]
  },
  {
   "cell_type": "code",
   "execution_count": 70,
   "id": "3608afa2",
   "metadata": {},
   "outputs": [
    {
     "data": {
      "text/plain": [
       "StandardScaler()"
      ]
     },
     "execution_count": 70,
     "metadata": {},
     "output_type": "execute_result"
    }
   ],
   "source": [
    "stand_scaler.fit(X_tr[stand_num])"
   ]
  },
  {
   "cell_type": "code",
   "execution_count": 71,
   "id": "61532c53",
   "metadata": {},
   "outputs": [],
   "source": [
    "#Aplicar a normalização e a padronização nos conjuntos de treino e teste\n",
    "X_tr[min_max_num] = min_max_scaler.transform(X_tr[min_max_num])\n",
    "X_ts[min_max_num] = min_max_scaler.transform(X_ts[min_max_num])\n",
    "\n"
   ]
  },
  {
   "cell_type": "code",
   "execution_count": 72,
   "id": "dd462d93",
   "metadata": {},
   "outputs": [],
   "source": [
    "X_tr[stand_num] = stand_scaler.transform(X_tr[stand_num])\n",
    "X_ts[stand_num] = stand_scaler.transform(X_ts[stand_num])"
   ]
  },
  {
   "cell_type": "markdown",
   "id": "33c7eaa2",
   "metadata": {},
   "source": [
    "### Construção do Modelo de Machine Learning (Benchmark)"
   ]
  },
  {
   "cell_type": "code",
   "execution_count": 73,
   "id": "178b1e56",
   "metadata": {},
   "outputs": [],
   "source": [
    "from sklearn.ensemble import RandomForestClassifier\n"
   ]
  },
  {
   "cell_type": "code",
   "execution_count": 74,
   "id": "e1c7969a",
   "metadata": {},
   "outputs": [],
   "source": [
    "params_1 = {'n_estimators' : [100,300,500], \n",
    "            'criterion' : ['gini', 'entropy'],\n",
    "            'max_depth' : [3,5,7,9,11],\n",
    "            'min_samples_split' :[2,3,5]\n",
    "           }\n"
   ]
  },
  {
   "cell_type": "code",
   "execution_count": 75,
   "id": "3ca4a451",
   "metadata": {},
   "outputs": [],
   "source": [
    "model_1 = GridSearchCV(RandomForestClassifier(random_state = 61658, n_jobs = 2),\n",
    "                      params_1,\n",
    "                      cv = 5,\n",
    "                      scoring = 'roc_auc',\n",
    "                      verbose = 10)"
   ]
  },
  {
   "cell_type": "code",
   "execution_count": 76,
   "id": "c52bd4cf",
   "metadata": {},
   "outputs": [
    {
     "name": "stdout",
     "output_type": "stream",
     "text": [
      "Fitting 5 folds for each of 90 candidates, totalling 450 fits\n",
      "[CV 1/5; 1/90] START criterion=gini, max_depth=3, min_samples_split=2, n_estimators=100\n",
      "[CV 1/5; 1/90] END criterion=gini, max_depth=3, min_samples_split=2, n_estimators=100;, score=0.771 total time=   1.5s\n",
      "[CV 2/5; 1/90] START criterion=gini, max_depth=3, min_samples_split=2, n_estimators=100\n",
      "[CV 2/5; 1/90] END criterion=gini, max_depth=3, min_samples_split=2, n_estimators=100;, score=0.784 total time=   0.0s\n",
      "[CV 3/5; 1/90] START criterion=gini, max_depth=3, min_samples_split=2, n_estimators=100\n",
      "[CV 3/5; 1/90] END criterion=gini, max_depth=3, min_samples_split=2, n_estimators=100;, score=0.814 total time=   0.0s\n",
      "[CV 4/5; 1/90] START criterion=gini, max_depth=3, min_samples_split=2, n_estimators=100\n",
      "[CV 4/5; 1/90] END criterion=gini, max_depth=3, min_samples_split=2, n_estimators=100;, score=0.836 total time=   0.0s\n",
      "[CV 5/5; 1/90] START criterion=gini, max_depth=3, min_samples_split=2, n_estimators=100\n",
      "[CV 5/5; 1/90] END criterion=gini, max_depth=3, min_samples_split=2, n_estimators=100;, score=0.764 total time=   0.0s\n",
      "[CV 1/5; 2/90] START criterion=gini, max_depth=3, min_samples_split=2, n_estimators=300\n",
      "[CV 1/5; 2/90] END criterion=gini, max_depth=3, min_samples_split=2, n_estimators=300;, score=0.789 total time=   0.1s\n",
      "[CV 2/5; 2/90] START criterion=gini, max_depth=3, min_samples_split=2, n_estimators=300\n",
      "[CV 2/5; 2/90] END criterion=gini, max_depth=3, min_samples_split=2, n_estimators=300;, score=0.777 total time=   0.2s\n",
      "[CV 3/5; 2/90] START criterion=gini, max_depth=3, min_samples_split=2, n_estimators=300\n",
      "[CV 3/5; 2/90] END criterion=gini, max_depth=3, min_samples_split=2, n_estimators=300;, score=0.815 total time=   0.1s\n",
      "[CV 4/5; 2/90] START criterion=gini, max_depth=3, min_samples_split=2, n_estimators=300\n",
      "[CV 4/5; 2/90] END criterion=gini, max_depth=3, min_samples_split=2, n_estimators=300;, score=0.828 total time=   0.2s\n",
      "[CV 5/5; 2/90] START criterion=gini, max_depth=3, min_samples_split=2, n_estimators=300\n",
      "[CV 5/5; 2/90] END criterion=gini, max_depth=3, min_samples_split=2, n_estimators=300;, score=0.772 total time=   0.1s\n",
      "[CV 1/5; 3/90] START criterion=gini, max_depth=3, min_samples_split=2, n_estimators=500\n",
      "[CV 1/5; 3/90] END criterion=gini, max_depth=3, min_samples_split=2, n_estimators=500;, score=0.770 total time=   0.3s\n",
      "[CV 2/5; 3/90] START criterion=gini, max_depth=3, min_samples_split=2, n_estimators=500\n",
      "[CV 2/5; 3/90] END criterion=gini, max_depth=3, min_samples_split=2, n_estimators=500;, score=0.778 total time=   0.3s\n",
      "[CV 3/5; 3/90] START criterion=gini, max_depth=3, min_samples_split=2, n_estimators=500\n",
      "[CV 3/5; 3/90] END criterion=gini, max_depth=3, min_samples_split=2, n_estimators=500;, score=0.824 total time=   0.3s\n",
      "[CV 4/5; 3/90] START criterion=gini, max_depth=3, min_samples_split=2, n_estimators=500\n",
      "[CV 4/5; 3/90] END criterion=gini, max_depth=3, min_samples_split=2, n_estimators=500;, score=0.826 total time=   0.3s\n",
      "[CV 5/5; 3/90] START criterion=gini, max_depth=3, min_samples_split=2, n_estimators=500\n",
      "[CV 5/5; 3/90] END criterion=gini, max_depth=3, min_samples_split=2, n_estimators=500;, score=0.767 total time=   0.3s\n",
      "[CV 1/5; 4/90] START criterion=gini, max_depth=3, min_samples_split=3, n_estimators=100\n",
      "[CV 1/5; 4/90] END criterion=gini, max_depth=3, min_samples_split=3, n_estimators=100;, score=0.773 total time=   0.0s\n",
      "[CV 2/5; 4/90] START criterion=gini, max_depth=3, min_samples_split=3, n_estimators=100\n",
      "[CV 2/5; 4/90] END criterion=gini, max_depth=3, min_samples_split=3, n_estimators=100;, score=0.784 total time=   0.0s\n",
      "[CV 3/5; 4/90] START criterion=gini, max_depth=3, min_samples_split=3, n_estimators=100\n",
      "[CV 3/5; 4/90] END criterion=gini, max_depth=3, min_samples_split=3, n_estimators=100;, score=0.813 total time=   0.0s\n",
      "[CV 4/5; 4/90] START criterion=gini, max_depth=3, min_samples_split=3, n_estimators=100\n",
      "[CV 4/5; 4/90] END criterion=gini, max_depth=3, min_samples_split=3, n_estimators=100;, score=0.838 total time=   0.0s\n",
      "[CV 5/5; 4/90] START criterion=gini, max_depth=3, min_samples_split=3, n_estimators=100\n",
      "[CV 5/5; 4/90] END criterion=gini, max_depth=3, min_samples_split=3, n_estimators=100;, score=0.760 total time=   0.0s\n",
      "[CV 1/5; 5/90] START criterion=gini, max_depth=3, min_samples_split=3, n_estimators=300\n",
      "[CV 1/5; 5/90] END criterion=gini, max_depth=3, min_samples_split=3, n_estimators=300;, score=0.787 total time=   0.1s\n",
      "[CV 2/5; 5/90] START criterion=gini, max_depth=3, min_samples_split=3, n_estimators=300\n",
      "[CV 2/5; 5/90] END criterion=gini, max_depth=3, min_samples_split=3, n_estimators=300;, score=0.777 total time=   0.1s\n",
      "[CV 3/5; 5/90] START criterion=gini, max_depth=3, min_samples_split=3, n_estimators=300\n",
      "[CV 3/5; 5/90] END criterion=gini, max_depth=3, min_samples_split=3, n_estimators=300;, score=0.817 total time=   0.2s\n",
      "[CV 4/5; 5/90] START criterion=gini, max_depth=3, min_samples_split=3, n_estimators=300\n",
      "[CV 4/5; 5/90] END criterion=gini, max_depth=3, min_samples_split=3, n_estimators=300;, score=0.828 total time=   0.2s\n",
      "[CV 5/5; 5/90] START criterion=gini, max_depth=3, min_samples_split=3, n_estimators=300\n",
      "[CV 5/5; 5/90] END criterion=gini, max_depth=3, min_samples_split=3, n_estimators=300;, score=0.770 total time=   0.1s\n",
      "[CV 1/5; 6/90] START criterion=gini, max_depth=3, min_samples_split=3, n_estimators=500\n",
      "[CV 1/5; 6/90] END criterion=gini, max_depth=3, min_samples_split=3, n_estimators=500;, score=0.771 total time=   0.3s\n",
      "[CV 2/5; 6/90] START criterion=gini, max_depth=3, min_samples_split=3, n_estimators=500\n",
      "[CV 2/5; 6/90] END criterion=gini, max_depth=3, min_samples_split=3, n_estimators=500;, score=0.776 total time=   0.3s\n",
      "[CV 3/5; 6/90] START criterion=gini, max_depth=3, min_samples_split=3, n_estimators=500\n",
      "[CV 3/5; 6/90] END criterion=gini, max_depth=3, min_samples_split=3, n_estimators=500;, score=0.822 total time=   0.3s\n",
      "[CV 4/5; 6/90] START criterion=gini, max_depth=3, min_samples_split=3, n_estimators=500\n",
      "[CV 4/5; 6/90] END criterion=gini, max_depth=3, min_samples_split=3, n_estimators=500;, score=0.826 total time=   0.3s\n",
      "[CV 5/5; 6/90] START criterion=gini, max_depth=3, min_samples_split=3, n_estimators=500\n",
      "[CV 5/5; 6/90] END criterion=gini, max_depth=3, min_samples_split=3, n_estimators=500;, score=0.763 total time=   0.4s\n",
      "[CV 1/5; 7/90] START criterion=gini, max_depth=3, min_samples_split=5, n_estimators=100\n",
      "[CV 1/5; 7/90] END criterion=gini, max_depth=3, min_samples_split=5, n_estimators=100;, score=0.782 total time=   0.0s\n",
      "[CV 2/5; 7/90] START criterion=gini, max_depth=3, min_samples_split=5, n_estimators=100\n",
      "[CV 2/5; 7/90] END criterion=gini, max_depth=3, min_samples_split=5, n_estimators=100;, score=0.786 total time=   0.0s\n",
      "[CV 3/5; 7/90] START criterion=gini, max_depth=3, min_samples_split=5, n_estimators=100\n",
      "[CV 3/5; 7/90] END criterion=gini, max_depth=3, min_samples_split=5, n_estimators=100;, score=0.821 total time=   0.0s\n",
      "[CV 4/5; 7/90] START criterion=gini, max_depth=3, min_samples_split=5, n_estimators=100\n",
      "[CV 4/5; 7/90] END criterion=gini, max_depth=3, min_samples_split=5, n_estimators=100;, score=0.850 total time=   0.0s\n",
      "[CV 5/5; 7/90] START criterion=gini, max_depth=3, min_samples_split=5, n_estimators=100\n",
      "[CV 5/5; 7/90] END criterion=gini, max_depth=3, min_samples_split=5, n_estimators=100;, score=0.769 total time=   0.0s\n",
      "[CV 1/5; 8/90] START criterion=gini, max_depth=3, min_samples_split=5, n_estimators=300\n",
      "[CV 1/5; 8/90] END criterion=gini, max_depth=3, min_samples_split=5, n_estimators=300;, score=0.793 total time=   0.2s\n",
      "[CV 2/5; 8/90] START criterion=gini, max_depth=3, min_samples_split=5, n_estimators=300\n",
      "[CV 2/5; 8/90] END criterion=gini, max_depth=3, min_samples_split=5, n_estimators=300;, score=0.774 total time=   0.1s\n",
      "[CV 3/5; 8/90] START criterion=gini, max_depth=3, min_samples_split=5, n_estimators=300\n",
      "[CV 3/5; 8/90] END criterion=gini, max_depth=3, min_samples_split=5, n_estimators=300;, score=0.818 total time=   0.2s\n",
      "[CV 4/5; 8/90] START criterion=gini, max_depth=3, min_samples_split=5, n_estimators=300\n",
      "[CV 4/5; 8/90] END criterion=gini, max_depth=3, min_samples_split=5, n_estimators=300;, score=0.834 total time=   0.2s\n",
      "[CV 5/5; 8/90] START criterion=gini, max_depth=3, min_samples_split=5, n_estimators=300\n"
     ]
    },
    {
     "name": "stdout",
     "output_type": "stream",
     "text": [
      "[CV 5/5; 8/90] END criterion=gini, max_depth=3, min_samples_split=5, n_estimators=300;, score=0.773 total time=   0.2s\n",
      "[CV 1/5; 9/90] START criterion=gini, max_depth=3, min_samples_split=5, n_estimators=500\n",
      "[CV 1/5; 9/90] END criterion=gini, max_depth=3, min_samples_split=5, n_estimators=500;, score=0.773 total time=   0.3s\n",
      "[CV 2/5; 9/90] START criterion=gini, max_depth=3, min_samples_split=5, n_estimators=500\n",
      "[CV 2/5; 9/90] END criterion=gini, max_depth=3, min_samples_split=5, n_estimators=500;, score=0.775 total time=   0.3s\n",
      "[CV 3/5; 9/90] START criterion=gini, max_depth=3, min_samples_split=5, n_estimators=500\n",
      "[CV 3/5; 9/90] END criterion=gini, max_depth=3, min_samples_split=5, n_estimators=500;, score=0.826 total time=   0.3s\n",
      "[CV 4/5; 9/90] START criterion=gini, max_depth=3, min_samples_split=5, n_estimators=500\n",
      "[CV 4/5; 9/90] END criterion=gini, max_depth=3, min_samples_split=5, n_estimators=500;, score=0.830 total time=   0.3s\n",
      "[CV 5/5; 9/90] START criterion=gini, max_depth=3, min_samples_split=5, n_estimators=500\n",
      "[CV 5/5; 9/90] END criterion=gini, max_depth=3, min_samples_split=5, n_estimators=500;, score=0.763 total time=   0.3s\n",
      "[CV 1/5; 10/90] START criterion=gini, max_depth=5, min_samples_split=2, n_estimators=100\n",
      "[CV 1/5; 10/90] END criterion=gini, max_depth=5, min_samples_split=2, n_estimators=100;, score=0.803 total time=   0.0s\n",
      "[CV 2/5; 10/90] START criterion=gini, max_depth=5, min_samples_split=2, n_estimators=100\n",
      "[CV 2/5; 10/90] END criterion=gini, max_depth=5, min_samples_split=2, n_estimators=100;, score=0.798 total time=   0.0s\n",
      "[CV 3/5; 10/90] START criterion=gini, max_depth=5, min_samples_split=2, n_estimators=100\n",
      "[CV 3/5; 10/90] END criterion=gini, max_depth=5, min_samples_split=2, n_estimators=100;, score=0.824 total time=   0.0s\n",
      "[CV 4/5; 10/90] START criterion=gini, max_depth=5, min_samples_split=2, n_estimators=100\n",
      "[CV 4/5; 10/90] END criterion=gini, max_depth=5, min_samples_split=2, n_estimators=100;, score=0.830 total time=   0.0s\n",
      "[CV 5/5; 10/90] START criterion=gini, max_depth=5, min_samples_split=2, n_estimators=100\n",
      "[CV 5/5; 10/90] END criterion=gini, max_depth=5, min_samples_split=2, n_estimators=100;, score=0.762 total time=   0.0s\n",
      "[CV 1/5; 11/90] START criterion=gini, max_depth=5, min_samples_split=2, n_estimators=300\n",
      "[CV 1/5; 11/90] END criterion=gini, max_depth=5, min_samples_split=2, n_estimators=300;, score=0.789 total time=   0.1s\n",
      "[CV 2/5; 11/90] START criterion=gini, max_depth=5, min_samples_split=2, n_estimators=300\n",
      "[CV 2/5; 11/90] END criterion=gini, max_depth=5, min_samples_split=2, n_estimators=300;, score=0.798 total time=   0.2s\n",
      "[CV 3/5; 11/90] START criterion=gini, max_depth=5, min_samples_split=2, n_estimators=300\n",
      "[CV 3/5; 11/90] END criterion=gini, max_depth=5, min_samples_split=2, n_estimators=300;, score=0.823 total time=   0.2s\n",
      "[CV 4/5; 11/90] START criterion=gini, max_depth=5, min_samples_split=2, n_estimators=300\n",
      "[CV 4/5; 11/90] END criterion=gini, max_depth=5, min_samples_split=2, n_estimators=300;, score=0.830 total time=   0.1s\n",
      "[CV 5/5; 11/90] START criterion=gini, max_depth=5, min_samples_split=2, n_estimators=300\n",
      "[CV 5/5; 11/90] END criterion=gini, max_depth=5, min_samples_split=2, n_estimators=300;, score=0.750 total time=   0.2s\n",
      "[CV 1/5; 12/90] START criterion=gini, max_depth=5, min_samples_split=2, n_estimators=500\n",
      "[CV 1/5; 12/90] END criterion=gini, max_depth=5, min_samples_split=2, n_estimators=500;, score=0.780 total time=   0.3s\n",
      "[CV 2/5; 12/90] START criterion=gini, max_depth=5, min_samples_split=2, n_estimators=500\n",
      "[CV 2/5; 12/90] END criterion=gini, max_depth=5, min_samples_split=2, n_estimators=500;, score=0.800 total time=   0.3s\n",
      "[CV 3/5; 12/90] START criterion=gini, max_depth=5, min_samples_split=2, n_estimators=500\n",
      "[CV 3/5; 12/90] END criterion=gini, max_depth=5, min_samples_split=2, n_estimators=500;, score=0.819 total time=   0.4s\n",
      "[CV 4/5; 12/90] START criterion=gini, max_depth=5, min_samples_split=2, n_estimators=500\n",
      "[CV 4/5; 12/90] END criterion=gini, max_depth=5, min_samples_split=2, n_estimators=500;, score=0.838 total time=   0.3s\n",
      "[CV 5/5; 12/90] START criterion=gini, max_depth=5, min_samples_split=2, n_estimators=500\n",
      "[CV 5/5; 12/90] END criterion=gini, max_depth=5, min_samples_split=2, n_estimators=500;, score=0.743 total time=   0.3s\n",
      "[CV 1/5; 13/90] START criterion=gini, max_depth=5, min_samples_split=3, n_estimators=100\n",
      "[CV 1/5; 13/90] END criterion=gini, max_depth=5, min_samples_split=3, n_estimators=100;, score=0.820 total time=   0.0s\n",
      "[CV 2/5; 13/90] START criterion=gini, max_depth=5, min_samples_split=3, n_estimators=100\n",
      "[CV 2/5; 13/90] END criterion=gini, max_depth=5, min_samples_split=3, n_estimators=100;, score=0.794 total time=   0.0s\n",
      "[CV 3/5; 13/90] START criterion=gini, max_depth=5, min_samples_split=3, n_estimators=100\n",
      "[CV 3/5; 13/90] END criterion=gini, max_depth=5, min_samples_split=3, n_estimators=100;, score=0.816 total time=   0.0s\n",
      "[CV 4/5; 13/90] START criterion=gini, max_depth=5, min_samples_split=3, n_estimators=100\n",
      "[CV 4/5; 13/90] END criterion=gini, max_depth=5, min_samples_split=3, n_estimators=100;, score=0.828 total time=   0.0s\n",
      "[CV 5/5; 13/90] START criterion=gini, max_depth=5, min_samples_split=3, n_estimators=100\n",
      "[CV 5/5; 13/90] END criterion=gini, max_depth=5, min_samples_split=3, n_estimators=100;, score=0.758 total time=   0.0s\n",
      "[CV 1/5; 14/90] START criterion=gini, max_depth=5, min_samples_split=3, n_estimators=300\n",
      "[CV 1/5; 14/90] END criterion=gini, max_depth=5, min_samples_split=3, n_estimators=300;, score=0.802 total time=   0.2s\n",
      "[CV 2/5; 14/90] START criterion=gini, max_depth=5, min_samples_split=3, n_estimators=300\n",
      "[CV 2/5; 14/90] END criterion=gini, max_depth=5, min_samples_split=3, n_estimators=300;, score=0.797 total time=   0.1s\n",
      "[CV 3/5; 14/90] START criterion=gini, max_depth=5, min_samples_split=3, n_estimators=300\n",
      "[CV 3/5; 14/90] END criterion=gini, max_depth=5, min_samples_split=3, n_estimators=300;, score=0.830 total time=   0.2s\n",
      "[CV 4/5; 14/90] START criterion=gini, max_depth=5, min_samples_split=3, n_estimators=300\n",
      "[CV 4/5; 14/90] END criterion=gini, max_depth=5, min_samples_split=3, n_estimators=300;, score=0.834 total time=   0.2s\n",
      "[CV 5/5; 14/90] START criterion=gini, max_depth=5, min_samples_split=3, n_estimators=300\n",
      "[CV 5/5; 14/90] END criterion=gini, max_depth=5, min_samples_split=3, n_estimators=300;, score=0.756 total time=   0.2s\n",
      "[CV 1/5; 15/90] START criterion=gini, max_depth=5, min_samples_split=3, n_estimators=500\n",
      "[CV 1/5; 15/90] END criterion=gini, max_depth=5, min_samples_split=3, n_estimators=500;, score=0.780 total time=   0.3s\n",
      "[CV 2/5; 15/90] START criterion=gini, max_depth=5, min_samples_split=3, n_estimators=500\n",
      "[CV 2/5; 15/90] END criterion=gini, max_depth=5, min_samples_split=3, n_estimators=500;, score=0.798 total time=   0.3s\n",
      "[CV 3/5; 15/90] START criterion=gini, max_depth=5, min_samples_split=3, n_estimators=500\n",
      "[CV 3/5; 15/90] END criterion=gini, max_depth=5, min_samples_split=3, n_estimators=500;, score=0.832 total time=   0.3s\n",
      "[CV 4/5; 15/90] START criterion=gini, max_depth=5, min_samples_split=3, n_estimators=500\n",
      "[CV 4/5; 15/90] END criterion=gini, max_depth=5, min_samples_split=3, n_estimators=500;, score=0.835 total time=   0.3s\n",
      "[CV 5/5; 15/90] START criterion=gini, max_depth=5, min_samples_split=3, n_estimators=500\n",
      "[CV 5/5; 15/90] END criterion=gini, max_depth=5, min_samples_split=3, n_estimators=500;, score=0.750 total time=   0.3s\n",
      "[CV 1/5; 16/90] START criterion=gini, max_depth=5, min_samples_split=5, n_estimators=100\n",
      "[CV 1/5; 16/90] END criterion=gini, max_depth=5, min_samples_split=5, n_estimators=100;, score=0.827 total time=   0.0s\n",
      "[CV 2/5; 16/90] START criterion=gini, max_depth=5, min_samples_split=5, n_estimators=100\n",
      "[CV 2/5; 16/90] END criterion=gini, max_depth=5, min_samples_split=5, n_estimators=100;, score=0.782 total time=   0.0s\n",
      "[CV 3/5; 16/90] START criterion=gini, max_depth=5, min_samples_split=5, n_estimators=100\n",
      "[CV 3/5; 16/90] END criterion=gini, max_depth=5, min_samples_split=5, n_estimators=100;, score=0.804 total time=   0.0s\n",
      "[CV 4/5; 16/90] START criterion=gini, max_depth=5, min_samples_split=5, n_estimators=100\n",
      "[CV 4/5; 16/90] END criterion=gini, max_depth=5, min_samples_split=5, n_estimators=100;, score=0.837 total time=   0.0s\n",
      "[CV 5/5; 16/90] START criterion=gini, max_depth=5, min_samples_split=5, n_estimators=100\n"
     ]
    },
    {
     "name": "stdout",
     "output_type": "stream",
     "text": [
      "[CV 5/5; 16/90] END criterion=gini, max_depth=5, min_samples_split=5, n_estimators=100;, score=0.744 total time=   0.0s\n",
      "[CV 1/5; 17/90] START criterion=gini, max_depth=5, min_samples_split=5, n_estimators=300\n",
      "[CV 1/5; 17/90] END criterion=gini, max_depth=5, min_samples_split=5, n_estimators=300;, score=0.811 total time=   0.1s\n",
      "[CV 2/5; 17/90] START criterion=gini, max_depth=5, min_samples_split=5, n_estimators=300\n",
      "[CV 2/5; 17/90] END criterion=gini, max_depth=5, min_samples_split=5, n_estimators=300;, score=0.794 total time=   0.2s\n",
      "[CV 3/5; 17/90] START criterion=gini, max_depth=5, min_samples_split=5, n_estimators=300\n",
      "[CV 3/5; 17/90] END criterion=gini, max_depth=5, min_samples_split=5, n_estimators=300;, score=0.817 total time=   0.1s\n",
      "[CV 4/5; 17/90] START criterion=gini, max_depth=5, min_samples_split=5, n_estimators=300\n",
      "[CV 4/5; 17/90] END criterion=gini, max_depth=5, min_samples_split=5, n_estimators=300;, score=0.841 total time=   0.2s\n",
      "[CV 5/5; 17/90] START criterion=gini, max_depth=5, min_samples_split=5, n_estimators=300\n",
      "[CV 5/5; 17/90] END criterion=gini, max_depth=5, min_samples_split=5, n_estimators=300;, score=0.752 total time=   0.2s\n",
      "[CV 1/5; 18/90] START criterion=gini, max_depth=5, min_samples_split=5, n_estimators=500\n",
      "[CV 1/5; 18/90] END criterion=gini, max_depth=5, min_samples_split=5, n_estimators=500;, score=0.792 total time=   0.3s\n",
      "[CV 2/5; 18/90] START criterion=gini, max_depth=5, min_samples_split=5, n_estimators=500\n",
      "[CV 2/5; 18/90] END criterion=gini, max_depth=5, min_samples_split=5, n_estimators=500;, score=0.800 total time=   0.3s\n",
      "[CV 3/5; 18/90] START criterion=gini, max_depth=5, min_samples_split=5, n_estimators=500\n",
      "[CV 3/5; 18/90] END criterion=gini, max_depth=5, min_samples_split=5, n_estimators=500;, score=0.824 total time=   0.3s\n",
      "[CV 4/5; 18/90] START criterion=gini, max_depth=5, min_samples_split=5, n_estimators=500\n",
      "[CV 4/5; 18/90] END criterion=gini, max_depth=5, min_samples_split=5, n_estimators=500;, score=0.843 total time=   0.3s\n",
      "[CV 5/5; 18/90] START criterion=gini, max_depth=5, min_samples_split=5, n_estimators=500\n",
      "[CV 5/5; 18/90] END criterion=gini, max_depth=5, min_samples_split=5, n_estimators=500;, score=0.761 total time=   0.3s\n",
      "[CV 1/5; 19/90] START criterion=gini, max_depth=7, min_samples_split=2, n_estimators=100\n",
      "[CV 1/5; 19/90] END criterion=gini, max_depth=7, min_samples_split=2, n_estimators=100;, score=0.799 total time=   0.0s\n",
      "[CV 2/5; 19/90] START criterion=gini, max_depth=7, min_samples_split=2, n_estimators=100\n",
      "[CV 2/5; 19/90] END criterion=gini, max_depth=7, min_samples_split=2, n_estimators=100;, score=0.797 total time=   0.0s\n",
      "[CV 3/5; 19/90] START criterion=gini, max_depth=7, min_samples_split=2, n_estimators=100\n",
      "[CV 3/5; 19/90] END criterion=gini, max_depth=7, min_samples_split=2, n_estimators=100;, score=0.822 total time=   0.0s\n",
      "[CV 4/5; 19/90] START criterion=gini, max_depth=7, min_samples_split=2, n_estimators=100\n",
      "[CV 4/5; 19/90] END criterion=gini, max_depth=7, min_samples_split=2, n_estimators=100;, score=0.847 total time=   0.0s\n",
      "[CV 5/5; 19/90] START criterion=gini, max_depth=7, min_samples_split=2, n_estimators=100\n",
      "[CV 5/5; 19/90] END criterion=gini, max_depth=7, min_samples_split=2, n_estimators=100;, score=0.733 total time=   0.0s\n",
      "[CV 1/5; 20/90] START criterion=gini, max_depth=7, min_samples_split=2, n_estimators=300\n",
      "[CV 1/5; 20/90] END criterion=gini, max_depth=7, min_samples_split=2, n_estimators=300;, score=0.785 total time=   0.2s\n",
      "[CV 2/5; 20/90] START criterion=gini, max_depth=7, min_samples_split=2, n_estimators=300\n",
      "[CV 2/5; 20/90] END criterion=gini, max_depth=7, min_samples_split=2, n_estimators=300;, score=0.798 total time=   0.2s\n",
      "[CV 3/5; 20/90] START criterion=gini, max_depth=7, min_samples_split=2, n_estimators=300\n",
      "[CV 3/5; 20/90] END criterion=gini, max_depth=7, min_samples_split=2, n_estimators=300;, score=0.811 total time=   0.2s\n",
      "[CV 4/5; 20/90] START criterion=gini, max_depth=7, min_samples_split=2, n_estimators=300\n",
      "[CV 4/5; 20/90] END criterion=gini, max_depth=7, min_samples_split=2, n_estimators=300;, score=0.855 total time=   0.2s\n",
      "[CV 5/5; 20/90] START criterion=gini, max_depth=7, min_samples_split=2, n_estimators=300\n",
      "[CV 5/5; 20/90] END criterion=gini, max_depth=7, min_samples_split=2, n_estimators=300;, score=0.730 total time=   0.2s\n",
      "[CV 1/5; 21/90] START criterion=gini, max_depth=7, min_samples_split=2, n_estimators=500\n",
      "[CV 1/5; 21/90] END criterion=gini, max_depth=7, min_samples_split=2, n_estimators=500;, score=0.786 total time=   0.3s\n",
      "[CV 2/5; 21/90] START criterion=gini, max_depth=7, min_samples_split=2, n_estimators=500\n",
      "[CV 2/5; 21/90] END criterion=gini, max_depth=7, min_samples_split=2, n_estimators=500;, score=0.802 total time=   0.4s\n",
      "[CV 3/5; 21/90] START criterion=gini, max_depth=7, min_samples_split=2, n_estimators=500\n",
      "[CV 3/5; 21/90] END criterion=gini, max_depth=7, min_samples_split=2, n_estimators=500;, score=0.823 total time=   0.3s\n",
      "[CV 4/5; 21/90] START criterion=gini, max_depth=7, min_samples_split=2, n_estimators=500\n",
      "[CV 4/5; 21/90] END criterion=gini, max_depth=7, min_samples_split=2, n_estimators=500;, score=0.855 total time=   0.3s\n",
      "[CV 5/5; 21/90] START criterion=gini, max_depth=7, min_samples_split=2, n_estimators=500\n",
      "[CV 5/5; 21/90] END criterion=gini, max_depth=7, min_samples_split=2, n_estimators=500;, score=0.728 total time=   0.3s\n",
      "[CV 1/5; 22/90] START criterion=gini, max_depth=7, min_samples_split=3, n_estimators=100\n",
      "[CV 1/5; 22/90] END criterion=gini, max_depth=7, min_samples_split=3, n_estimators=100;, score=0.772 total time=   0.0s\n",
      "[CV 2/5; 22/90] START criterion=gini, max_depth=7, min_samples_split=3, n_estimators=100\n",
      "[CV 2/5; 22/90] END criterion=gini, max_depth=7, min_samples_split=3, n_estimators=100;, score=0.821 total time=   0.0s\n",
      "[CV 3/5; 22/90] START criterion=gini, max_depth=7, min_samples_split=3, n_estimators=100\n",
      "[CV 3/5; 22/90] END criterion=gini, max_depth=7, min_samples_split=3, n_estimators=100;, score=0.824 total time=   0.0s\n",
      "[CV 4/5; 22/90] START criterion=gini, max_depth=7, min_samples_split=3, n_estimators=100\n",
      "[CV 4/5; 22/90] END criterion=gini, max_depth=7, min_samples_split=3, n_estimators=100;, score=0.861 total time=   0.0s\n",
      "[CV 5/5; 22/90] START criterion=gini, max_depth=7, min_samples_split=3, n_estimators=100\n",
      "[CV 5/5; 22/90] END criterion=gini, max_depth=7, min_samples_split=3, n_estimators=100;, score=0.733 total time=   0.0s\n",
      "[CV 1/5; 23/90] START criterion=gini, max_depth=7, min_samples_split=3, n_estimators=300\n",
      "[CV 1/5; 23/90] END criterion=gini, max_depth=7, min_samples_split=3, n_estimators=300;, score=0.774 total time=   0.2s\n",
      "[CV 2/5; 23/90] START criterion=gini, max_depth=7, min_samples_split=3, n_estimators=300\n",
      "[CV 2/5; 23/90] END criterion=gini, max_depth=7, min_samples_split=3, n_estimators=300;, score=0.808 total time=   0.1s\n",
      "[CV 3/5; 23/90] START criterion=gini, max_depth=7, min_samples_split=3, n_estimators=300\n",
      "[CV 3/5; 23/90] END criterion=gini, max_depth=7, min_samples_split=3, n_estimators=300;, score=0.810 total time=   0.2s\n",
      "[CV 4/5; 23/90] START criterion=gini, max_depth=7, min_samples_split=3, n_estimators=300\n",
      "[CV 4/5; 23/90] END criterion=gini, max_depth=7, min_samples_split=3, n_estimators=300;, score=0.855 total time=   0.2s\n",
      "[CV 5/5; 23/90] START criterion=gini, max_depth=7, min_samples_split=3, n_estimators=300\n",
      "[CV 5/5; 23/90] END criterion=gini, max_depth=7, min_samples_split=3, n_estimators=300;, score=0.741 total time=   0.2s\n",
      "[CV 1/5; 24/90] START criterion=gini, max_depth=7, min_samples_split=3, n_estimators=500\n",
      "[CV 1/5; 24/90] END criterion=gini, max_depth=7, min_samples_split=3, n_estimators=500;, score=0.787 total time=   0.3s\n",
      "[CV 2/5; 24/90] START criterion=gini, max_depth=7, min_samples_split=3, n_estimators=500\n",
      "[CV 2/5; 24/90] END criterion=gini, max_depth=7, min_samples_split=3, n_estimators=500;, score=0.813 total time=   0.3s\n",
      "[CV 3/5; 24/90] START criterion=gini, max_depth=7, min_samples_split=3, n_estimators=500\n",
      "[CV 3/5; 24/90] END criterion=gini, max_depth=7, min_samples_split=3, n_estimators=500;, score=0.822 total time=   0.3s\n",
      "[CV 4/5; 24/90] START criterion=gini, max_depth=7, min_samples_split=3, n_estimators=500\n",
      "[CV 4/5; 24/90] END criterion=gini, max_depth=7, min_samples_split=3, n_estimators=500;, score=0.848 total time=   0.3s\n",
      "[CV 5/5; 24/90] START criterion=gini, max_depth=7, min_samples_split=3, n_estimators=500\n"
     ]
    },
    {
     "name": "stdout",
     "output_type": "stream",
     "text": [
      "[CV 5/5; 24/90] END criterion=gini, max_depth=7, min_samples_split=3, n_estimators=500;, score=0.736 total time=   0.3s\n",
      "[CV 1/5; 25/90] START criterion=gini, max_depth=7, min_samples_split=5, n_estimators=100\n",
      "[CV 1/5; 25/90] END criterion=gini, max_depth=7, min_samples_split=5, n_estimators=100;, score=0.759 total time=   0.0s\n",
      "[CV 2/5; 25/90] START criterion=gini, max_depth=7, min_samples_split=5, n_estimators=100\n",
      "[CV 2/5; 25/90] END criterion=gini, max_depth=7, min_samples_split=5, n_estimators=100;, score=0.802 total time=   0.0s\n",
      "[CV 3/5; 25/90] START criterion=gini, max_depth=7, min_samples_split=5, n_estimators=100\n",
      "[CV 3/5; 25/90] END criterion=gini, max_depth=7, min_samples_split=5, n_estimators=100;, score=0.795 total time=   0.0s\n",
      "[CV 4/5; 25/90] START criterion=gini, max_depth=7, min_samples_split=5, n_estimators=100\n",
      "[CV 4/5; 25/90] END criterion=gini, max_depth=7, min_samples_split=5, n_estimators=100;, score=0.860 total time=   0.0s\n",
      "[CV 5/5; 25/90] START criterion=gini, max_depth=7, min_samples_split=5, n_estimators=100\n",
      "[CV 5/5; 25/90] END criterion=gini, max_depth=7, min_samples_split=5, n_estimators=100;, score=0.739 total time=   0.0s\n",
      "[CV 1/5; 26/90] START criterion=gini, max_depth=7, min_samples_split=5, n_estimators=300\n",
      "[CV 1/5; 26/90] END criterion=gini, max_depth=7, min_samples_split=5, n_estimators=300;, score=0.784 total time=   0.1s\n",
      "[CV 2/5; 26/90] START criterion=gini, max_depth=7, min_samples_split=5, n_estimators=300\n",
      "[CV 2/5; 26/90] END criterion=gini, max_depth=7, min_samples_split=5, n_estimators=300;, score=0.800 total time=   0.2s\n",
      "[CV 3/5; 26/90] START criterion=gini, max_depth=7, min_samples_split=5, n_estimators=300\n",
      "[CV 3/5; 26/90] END criterion=gini, max_depth=7, min_samples_split=5, n_estimators=300;, score=0.806 total time=   0.2s\n",
      "[CV 4/5; 26/90] START criterion=gini, max_depth=7, min_samples_split=5, n_estimators=300\n",
      "[CV 4/5; 26/90] END criterion=gini, max_depth=7, min_samples_split=5, n_estimators=300;, score=0.846 total time=   0.2s\n",
      "[CV 5/5; 26/90] START criterion=gini, max_depth=7, min_samples_split=5, n_estimators=300\n",
      "[CV 5/5; 26/90] END criterion=gini, max_depth=7, min_samples_split=5, n_estimators=300;, score=0.745 total time=   0.1s\n",
      "[CV 1/5; 27/90] START criterion=gini, max_depth=7, min_samples_split=5, n_estimators=500\n",
      "[CV 1/5; 27/90] END criterion=gini, max_depth=7, min_samples_split=5, n_estimators=500;, score=0.787 total time=   0.3s\n",
      "[CV 2/5; 27/90] START criterion=gini, max_depth=7, min_samples_split=5, n_estimators=500\n",
      "[CV 2/5; 27/90] END criterion=gini, max_depth=7, min_samples_split=5, n_estimators=500;, score=0.813 total time=   0.3s\n",
      "[CV 3/5; 27/90] START criterion=gini, max_depth=7, min_samples_split=5, n_estimators=500\n",
      "[CV 3/5; 27/90] END criterion=gini, max_depth=7, min_samples_split=5, n_estimators=500;, score=0.816 total time=   0.3s\n",
      "[CV 4/5; 27/90] START criterion=gini, max_depth=7, min_samples_split=5, n_estimators=500\n",
      "[CV 4/5; 27/90] END criterion=gini, max_depth=7, min_samples_split=5, n_estimators=500;, score=0.853 total time=   0.3s\n",
      "[CV 5/5; 27/90] START criterion=gini, max_depth=7, min_samples_split=5, n_estimators=500\n",
      "[CV 5/5; 27/90] END criterion=gini, max_depth=7, min_samples_split=5, n_estimators=500;, score=0.738 total time=   0.3s\n",
      "[CV 1/5; 28/90] START criterion=gini, max_depth=9, min_samples_split=2, n_estimators=100\n",
      "[CV 1/5; 28/90] END criterion=gini, max_depth=9, min_samples_split=2, n_estimators=100;, score=0.783 total time=   0.0s\n",
      "[CV 2/5; 28/90] START criterion=gini, max_depth=9, min_samples_split=2, n_estimators=100\n",
      "[CV 2/5; 28/90] END criterion=gini, max_depth=9, min_samples_split=2, n_estimators=100;, score=0.818 total time=   0.0s\n",
      "[CV 3/5; 28/90] START criterion=gini, max_depth=9, min_samples_split=2, n_estimators=100\n",
      "[CV 3/5; 28/90] END criterion=gini, max_depth=9, min_samples_split=2, n_estimators=100;, score=0.819 total time=   0.0s\n",
      "[CV 4/5; 28/90] START criterion=gini, max_depth=9, min_samples_split=2, n_estimators=100\n",
      "[CV 4/5; 28/90] END criterion=gini, max_depth=9, min_samples_split=2, n_estimators=100;, score=0.866 total time=   0.0s\n",
      "[CV 5/5; 28/90] START criterion=gini, max_depth=9, min_samples_split=2, n_estimators=100\n",
      "[CV 5/5; 28/90] END criterion=gini, max_depth=9, min_samples_split=2, n_estimators=100;, score=0.748 total time=   0.0s\n",
      "[CV 1/5; 29/90] START criterion=gini, max_depth=9, min_samples_split=2, n_estimators=300\n",
      "[CV 1/5; 29/90] END criterion=gini, max_depth=9, min_samples_split=2, n_estimators=300;, score=0.772 total time=   0.2s\n",
      "[CV 2/5; 29/90] START criterion=gini, max_depth=9, min_samples_split=2, n_estimators=300\n",
      "[CV 2/5; 29/90] END criterion=gini, max_depth=9, min_samples_split=2, n_estimators=300;, score=0.802 total time=   0.2s\n",
      "[CV 3/5; 29/90] START criterion=gini, max_depth=9, min_samples_split=2, n_estimators=300\n",
      "[CV 3/5; 29/90] END criterion=gini, max_depth=9, min_samples_split=2, n_estimators=300;, score=0.818 total time=   0.2s\n",
      "[CV 4/5; 29/90] START criterion=gini, max_depth=9, min_samples_split=2, n_estimators=300\n",
      "[CV 4/5; 29/90] END criterion=gini, max_depth=9, min_samples_split=2, n_estimators=300;, score=0.861 total time=   0.2s\n",
      "[CV 5/5; 29/90] START criterion=gini, max_depth=9, min_samples_split=2, n_estimators=300\n",
      "[CV 5/5; 29/90] END criterion=gini, max_depth=9, min_samples_split=2, n_estimators=300;, score=0.733 total time=   0.2s\n",
      "[CV 1/5; 30/90] START criterion=gini, max_depth=9, min_samples_split=2, n_estimators=500\n",
      "[CV 1/5; 30/90] END criterion=gini, max_depth=9, min_samples_split=2, n_estimators=500;, score=0.777 total time=   0.3s\n",
      "[CV 2/5; 30/90] START criterion=gini, max_depth=9, min_samples_split=2, n_estimators=500\n",
      "[CV 2/5; 30/90] END criterion=gini, max_depth=9, min_samples_split=2, n_estimators=500;, score=0.806 total time=   0.3s\n",
      "[CV 3/5; 30/90] START criterion=gini, max_depth=9, min_samples_split=2, n_estimators=500\n",
      "[CV 3/5; 30/90] END criterion=gini, max_depth=9, min_samples_split=2, n_estimators=500;, score=0.821 total time=   0.3s\n",
      "[CV 4/5; 30/90] START criterion=gini, max_depth=9, min_samples_split=2, n_estimators=500\n",
      "[CV 4/5; 30/90] END criterion=gini, max_depth=9, min_samples_split=2, n_estimators=500;, score=0.852 total time=   0.3s\n",
      "[CV 5/5; 30/90] START criterion=gini, max_depth=9, min_samples_split=2, n_estimators=500\n",
      "[CV 5/5; 30/90] END criterion=gini, max_depth=9, min_samples_split=2, n_estimators=500;, score=0.732 total time=   0.3s\n",
      "[CV 1/5; 31/90] START criterion=gini, max_depth=9, min_samples_split=3, n_estimators=100\n",
      "[CV 1/5; 31/90] END criterion=gini, max_depth=9, min_samples_split=3, n_estimators=100;, score=0.775 total time=   0.0s\n",
      "[CV 2/5; 31/90] START criterion=gini, max_depth=9, min_samples_split=3, n_estimators=100\n",
      "[CV 2/5; 31/90] END criterion=gini, max_depth=9, min_samples_split=3, n_estimators=100;, score=0.821 total time=   0.0s\n",
      "[CV 3/5; 31/90] START criterion=gini, max_depth=9, min_samples_split=3, n_estimators=100\n",
      "[CV 3/5; 31/90] END criterion=gini, max_depth=9, min_samples_split=3, n_estimators=100;, score=0.814 total time=   0.0s\n",
      "[CV 4/5; 31/90] START criterion=gini, max_depth=9, min_samples_split=3, n_estimators=100\n",
      "[CV 4/5; 31/90] END criterion=gini, max_depth=9, min_samples_split=3, n_estimators=100;, score=0.856 total time=   0.0s\n",
      "[CV 5/5; 31/90] START criterion=gini, max_depth=9, min_samples_split=3, n_estimators=100\n",
      "[CV 5/5; 31/90] END criterion=gini, max_depth=9, min_samples_split=3, n_estimators=100;, score=0.744 total time=   0.0s\n",
      "[CV 1/5; 32/90] START criterion=gini, max_depth=9, min_samples_split=3, n_estimators=300\n",
      "[CV 1/5; 32/90] END criterion=gini, max_depth=9, min_samples_split=3, n_estimators=300;, score=0.767 total time=   0.2s\n",
      "[CV 2/5; 32/90] START criterion=gini, max_depth=9, min_samples_split=3, n_estimators=300\n",
      "[CV 2/5; 32/90] END criterion=gini, max_depth=9, min_samples_split=3, n_estimators=300;, score=0.809 total time=   0.2s\n",
      "[CV 3/5; 32/90] START criterion=gini, max_depth=9, min_samples_split=3, n_estimators=300\n",
      "[CV 3/5; 32/90] END criterion=gini, max_depth=9, min_samples_split=3, n_estimators=300;, score=0.804 total time=   0.2s\n",
      "[CV 4/5; 32/90] START criterion=gini, max_depth=9, min_samples_split=3, n_estimators=300\n",
      "[CV 4/5; 32/90] END criterion=gini, max_depth=9, min_samples_split=3, n_estimators=300;, score=0.842 total time=   0.1s\n",
      "[CV 5/5; 32/90] START criterion=gini, max_depth=9, min_samples_split=3, n_estimators=300\n"
     ]
    },
    {
     "name": "stdout",
     "output_type": "stream",
     "text": [
      "[CV 5/5; 32/90] END criterion=gini, max_depth=9, min_samples_split=3, n_estimators=300;, score=0.745 total time=   0.2s\n",
      "[CV 1/5; 33/90] START criterion=gini, max_depth=9, min_samples_split=3, n_estimators=500\n",
      "[CV 1/5; 33/90] END criterion=gini, max_depth=9, min_samples_split=3, n_estimators=500;, score=0.778 total time=   0.3s\n",
      "[CV 2/5; 33/90] START criterion=gini, max_depth=9, min_samples_split=3, n_estimators=500\n",
      "[CV 2/5; 33/90] END criterion=gini, max_depth=9, min_samples_split=3, n_estimators=500;, score=0.806 total time=   0.3s\n",
      "[CV 3/5; 33/90] START criterion=gini, max_depth=9, min_samples_split=3, n_estimators=500\n",
      "[CV 3/5; 33/90] END criterion=gini, max_depth=9, min_samples_split=3, n_estimators=500;, score=0.812 total time=   0.3s\n",
      "[CV 4/5; 33/90] START criterion=gini, max_depth=9, min_samples_split=3, n_estimators=500\n",
      "[CV 4/5; 33/90] END criterion=gini, max_depth=9, min_samples_split=3, n_estimators=500;, score=0.851 total time=   0.3s\n",
      "[CV 5/5; 33/90] START criterion=gini, max_depth=9, min_samples_split=3, n_estimators=500\n",
      "[CV 5/5; 33/90] END criterion=gini, max_depth=9, min_samples_split=3, n_estimators=500;, score=0.736 total time=   0.3s\n",
      "[CV 1/5; 34/90] START criterion=gini, max_depth=9, min_samples_split=5, n_estimators=100\n",
      "[CV 1/5; 34/90] END criterion=gini, max_depth=9, min_samples_split=5, n_estimators=100;, score=0.772 total time=   0.0s\n",
      "[CV 2/5; 34/90] START criterion=gini, max_depth=9, min_samples_split=5, n_estimators=100\n",
      "[CV 2/5; 34/90] END criterion=gini, max_depth=9, min_samples_split=5, n_estimators=100;, score=0.804 total time=   0.0s\n",
      "[CV 3/5; 34/90] START criterion=gini, max_depth=9, min_samples_split=5, n_estimators=100\n",
      "[CV 3/5; 34/90] END criterion=gini, max_depth=9, min_samples_split=5, n_estimators=100;, score=0.790 total time=   0.0s\n",
      "[CV 4/5; 34/90] START criterion=gini, max_depth=9, min_samples_split=5, n_estimators=100\n",
      "[CV 4/5; 34/90] END criterion=gini, max_depth=9, min_samples_split=5, n_estimators=100;, score=0.843 total time=   0.0s\n",
      "[CV 5/5; 34/90] START criterion=gini, max_depth=9, min_samples_split=5, n_estimators=100\n",
      "[CV 5/5; 34/90] END criterion=gini, max_depth=9, min_samples_split=5, n_estimators=100;, score=0.706 total time=   0.0s\n",
      "[CV 1/5; 35/90] START criterion=gini, max_depth=9, min_samples_split=5, n_estimators=300\n",
      "[CV 1/5; 35/90] END criterion=gini, max_depth=9, min_samples_split=5, n_estimators=300;, score=0.800 total time=   0.2s\n",
      "[CV 2/5; 35/90] START criterion=gini, max_depth=9, min_samples_split=5, n_estimators=300\n",
      "[CV 2/5; 35/90] END criterion=gini, max_depth=9, min_samples_split=5, n_estimators=300;, score=0.809 total time=   0.2s\n",
      "[CV 3/5; 35/90] START criterion=gini, max_depth=9, min_samples_split=5, n_estimators=300\n",
      "[CV 3/5; 35/90] END criterion=gini, max_depth=9, min_samples_split=5, n_estimators=300;, score=0.804 total time=   0.2s\n",
      "[CV 4/5; 35/90] START criterion=gini, max_depth=9, min_samples_split=5, n_estimators=300\n",
      "[CV 4/5; 35/90] END criterion=gini, max_depth=9, min_samples_split=5, n_estimators=300;, score=0.856 total time=   0.2s\n",
      "[CV 5/5; 35/90] START criterion=gini, max_depth=9, min_samples_split=5, n_estimators=300\n",
      "[CV 5/5; 35/90] END criterion=gini, max_depth=9, min_samples_split=5, n_estimators=300;, score=0.725 total time=   0.2s\n",
      "[CV 1/5; 36/90] START criterion=gini, max_depth=9, min_samples_split=5, n_estimators=500\n",
      "[CV 1/5; 36/90] END criterion=gini, max_depth=9, min_samples_split=5, n_estimators=500;, score=0.796 total time=   0.3s\n",
      "[CV 2/5; 36/90] START criterion=gini, max_depth=9, min_samples_split=5, n_estimators=500\n",
      "[CV 2/5; 36/90] END criterion=gini, max_depth=9, min_samples_split=5, n_estimators=500;, score=0.817 total time=   0.3s\n",
      "[CV 3/5; 36/90] START criterion=gini, max_depth=9, min_samples_split=5, n_estimators=500\n",
      "[CV 3/5; 36/90] END criterion=gini, max_depth=9, min_samples_split=5, n_estimators=500;, score=0.816 total time=   0.3s\n",
      "[CV 4/5; 36/90] START criterion=gini, max_depth=9, min_samples_split=5, n_estimators=500\n",
      "[CV 4/5; 36/90] END criterion=gini, max_depth=9, min_samples_split=5, n_estimators=500;, score=0.856 total time=   0.3s\n",
      "[CV 5/5; 36/90] START criterion=gini, max_depth=9, min_samples_split=5, n_estimators=500\n",
      "[CV 5/5; 36/90] END criterion=gini, max_depth=9, min_samples_split=5, n_estimators=500;, score=0.726 total time=   0.3s\n",
      "[CV 1/5; 37/90] START criterion=gini, max_depth=11, min_samples_split=2, n_estimators=100\n",
      "[CV 1/5; 37/90] END criterion=gini, max_depth=11, min_samples_split=2, n_estimators=100;, score=0.770 total time=   0.0s\n",
      "[CV 2/5; 37/90] START criterion=gini, max_depth=11, min_samples_split=2, n_estimators=100\n",
      "[CV 2/5; 37/90] END criterion=gini, max_depth=11, min_samples_split=2, n_estimators=100;, score=0.793 total time=   0.0s\n",
      "[CV 3/5; 37/90] START criterion=gini, max_depth=11, min_samples_split=2, n_estimators=100\n",
      "[CV 3/5; 37/90] END criterion=gini, max_depth=11, min_samples_split=2, n_estimators=100;, score=0.819 total time=   0.0s\n",
      "[CV 4/5; 37/90] START criterion=gini, max_depth=11, min_samples_split=2, n_estimators=100\n",
      "[CV 4/5; 37/90] END criterion=gini, max_depth=11, min_samples_split=2, n_estimators=100;, score=0.869 total time=   0.0s\n",
      "[CV 5/5; 37/90] START criterion=gini, max_depth=11, min_samples_split=2, n_estimators=100\n",
      "[CV 5/5; 37/90] END criterion=gini, max_depth=11, min_samples_split=2, n_estimators=100;, score=0.750 total time=   0.0s\n",
      "[CV 1/5; 38/90] START criterion=gini, max_depth=11, min_samples_split=2, n_estimators=300\n",
      "[CV 1/5; 38/90] END criterion=gini, max_depth=11, min_samples_split=2, n_estimators=300;, score=0.782 total time=   0.1s\n",
      "[CV 2/5; 38/90] START criterion=gini, max_depth=11, min_samples_split=2, n_estimators=300\n",
      "[CV 2/5; 38/90] END criterion=gini, max_depth=11, min_samples_split=2, n_estimators=300;, score=0.802 total time=   0.2s\n",
      "[CV 3/5; 38/90] START criterion=gini, max_depth=11, min_samples_split=2, n_estimators=300\n",
      "[CV 3/5; 38/90] END criterion=gini, max_depth=11, min_samples_split=2, n_estimators=300;, score=0.810 total time=   0.2s\n",
      "[CV 4/5; 38/90] START criterion=gini, max_depth=11, min_samples_split=2, n_estimators=300\n",
      "[CV 4/5; 38/90] END criterion=gini, max_depth=11, min_samples_split=2, n_estimators=300;, score=0.851 total time=   0.2s\n",
      "[CV 5/5; 38/90] START criterion=gini, max_depth=11, min_samples_split=2, n_estimators=300\n",
      "[CV 5/5; 38/90] END criterion=gini, max_depth=11, min_samples_split=2, n_estimators=300;, score=0.748 total time=   0.2s\n",
      "[CV 1/5; 39/90] START criterion=gini, max_depth=11, min_samples_split=2, n_estimators=500\n",
      "[CV 1/5; 39/90] END criterion=gini, max_depth=11, min_samples_split=2, n_estimators=500;, score=0.786 total time=   0.3s\n",
      "[CV 2/5; 39/90] START criterion=gini, max_depth=11, min_samples_split=2, n_estimators=500\n",
      "[CV 2/5; 39/90] END criterion=gini, max_depth=11, min_samples_split=2, n_estimators=500;, score=0.805 total time=   0.3s\n",
      "[CV 3/5; 39/90] START criterion=gini, max_depth=11, min_samples_split=2, n_estimators=500\n",
      "[CV 3/5; 39/90] END criterion=gini, max_depth=11, min_samples_split=2, n_estimators=500;, score=0.817 total time=   0.3s\n",
      "[CV 4/5; 39/90] START criterion=gini, max_depth=11, min_samples_split=2, n_estimators=500\n",
      "[CV 4/5; 39/90] END criterion=gini, max_depth=11, min_samples_split=2, n_estimators=500;, score=0.851 total time=   0.3s\n",
      "[CV 5/5; 39/90] START criterion=gini, max_depth=11, min_samples_split=2, n_estimators=500\n",
      "[CV 5/5; 39/90] END criterion=gini, max_depth=11, min_samples_split=2, n_estimators=500;, score=0.738 total time=   0.3s\n",
      "[CV 1/5; 40/90] START criterion=gini, max_depth=11, min_samples_split=3, n_estimators=100\n",
      "[CV 1/5; 40/90] END criterion=gini, max_depth=11, min_samples_split=3, n_estimators=100;, score=0.778 total time=   0.0s\n",
      "[CV 2/5; 40/90] START criterion=gini, max_depth=11, min_samples_split=3, n_estimators=100\n",
      "[CV 2/5; 40/90] END criterion=gini, max_depth=11, min_samples_split=3, n_estimators=100;, score=0.828 total time=   0.0s\n",
      "[CV 3/5; 40/90] START criterion=gini, max_depth=11, min_samples_split=3, n_estimators=100\n",
      "[CV 3/5; 40/90] END criterion=gini, max_depth=11, min_samples_split=3, n_estimators=100;, score=0.819 total time=   0.0s\n",
      "[CV 4/5; 40/90] START criterion=gini, max_depth=11, min_samples_split=3, n_estimators=100\n",
      "[CV 4/5; 40/90] END criterion=gini, max_depth=11, min_samples_split=3, n_estimators=100;, score=0.862 total time=   0.0s\n",
      "[CV 5/5; 40/90] START criterion=gini, max_depth=11, min_samples_split=3, n_estimators=100\n"
     ]
    },
    {
     "name": "stdout",
     "output_type": "stream",
     "text": [
      "[CV 5/5; 40/90] END criterion=gini, max_depth=11, min_samples_split=3, n_estimators=100;, score=0.740 total time=   0.0s\n",
      "[CV 1/5; 41/90] START criterion=gini, max_depth=11, min_samples_split=3, n_estimators=300\n",
      "[CV 1/5; 41/90] END criterion=gini, max_depth=11, min_samples_split=3, n_estimators=300;, score=0.786 total time=   0.2s\n",
      "[CV 2/5; 41/90] START criterion=gini, max_depth=11, min_samples_split=3, n_estimators=300\n",
      "[CV 2/5; 41/90] END criterion=gini, max_depth=11, min_samples_split=3, n_estimators=300;, score=0.818 total time=   0.2s\n",
      "[CV 3/5; 41/90] START criterion=gini, max_depth=11, min_samples_split=3, n_estimators=300\n",
      "[CV 3/5; 41/90] END criterion=gini, max_depth=11, min_samples_split=3, n_estimators=300;, score=0.818 total time=   0.2s\n",
      "[CV 4/5; 41/90] START criterion=gini, max_depth=11, min_samples_split=3, n_estimators=300\n",
      "[CV 4/5; 41/90] END criterion=gini, max_depth=11, min_samples_split=3, n_estimators=300;, score=0.867 total time=   0.2s\n",
      "[CV 5/5; 41/90] START criterion=gini, max_depth=11, min_samples_split=3, n_estimators=300\n",
      "[CV 5/5; 41/90] END criterion=gini, max_depth=11, min_samples_split=3, n_estimators=300;, score=0.729 total time=   0.2s\n",
      "[CV 1/5; 42/90] START criterion=gini, max_depth=11, min_samples_split=3, n_estimators=500\n",
      "[CV 1/5; 42/90] END criterion=gini, max_depth=11, min_samples_split=3, n_estimators=500;, score=0.782 total time=   0.3s\n",
      "[CV 2/5; 42/90] START criterion=gini, max_depth=11, min_samples_split=3, n_estimators=500\n",
      "[CV 2/5; 42/90] END criterion=gini, max_depth=11, min_samples_split=3, n_estimators=500;, score=0.817 total time=   0.3s\n",
      "[CV 3/5; 42/90] START criterion=gini, max_depth=11, min_samples_split=3, n_estimators=500\n",
      "[CV 3/5; 42/90] END criterion=gini, max_depth=11, min_samples_split=3, n_estimators=500;, score=0.825 total time=   0.4s\n",
      "[CV 4/5; 42/90] START criterion=gini, max_depth=11, min_samples_split=3, n_estimators=500\n",
      "[CV 4/5; 42/90] END criterion=gini, max_depth=11, min_samples_split=3, n_estimators=500;, score=0.865 total time=   0.3s\n",
      "[CV 5/5; 42/90] START criterion=gini, max_depth=11, min_samples_split=3, n_estimators=500\n",
      "[CV 5/5; 42/90] END criterion=gini, max_depth=11, min_samples_split=3, n_estimators=500;, score=0.726 total time=   0.3s\n",
      "[CV 1/5; 43/90] START criterion=gini, max_depth=11, min_samples_split=5, n_estimators=100\n",
      "[CV 1/5; 43/90] END criterion=gini, max_depth=11, min_samples_split=5, n_estimators=100;, score=0.774 total time=   0.0s\n",
      "[CV 2/5; 43/90] START criterion=gini, max_depth=11, min_samples_split=5, n_estimators=100\n",
      "[CV 2/5; 43/90] END criterion=gini, max_depth=11, min_samples_split=5, n_estimators=100;, score=0.805 total time=   0.0s\n",
      "[CV 3/5; 43/90] START criterion=gini, max_depth=11, min_samples_split=5, n_estimators=100\n",
      "[CV 3/5; 43/90] END criterion=gini, max_depth=11, min_samples_split=5, n_estimators=100;, score=0.800 total time=   0.0s\n",
      "[CV 4/5; 43/90] START criterion=gini, max_depth=11, min_samples_split=5, n_estimators=100\n",
      "[CV 4/5; 43/90] END criterion=gini, max_depth=11, min_samples_split=5, n_estimators=100;, score=0.836 total time=   0.0s\n",
      "[CV 5/5; 43/90] START criterion=gini, max_depth=11, min_samples_split=5, n_estimators=100\n",
      "[CV 5/5; 43/90] END criterion=gini, max_depth=11, min_samples_split=5, n_estimators=100;, score=0.736 total time=   0.0s\n",
      "[CV 1/5; 44/90] START criterion=gini, max_depth=11, min_samples_split=5, n_estimators=300\n",
      "[CV 1/5; 44/90] END criterion=gini, max_depth=11, min_samples_split=5, n_estimators=300;, score=0.787 total time=   0.2s\n",
      "[CV 2/5; 44/90] START criterion=gini, max_depth=11, min_samples_split=5, n_estimators=300\n",
      "[CV 2/5; 44/90] END criterion=gini, max_depth=11, min_samples_split=5, n_estimators=300;, score=0.817 total time=   0.2s\n",
      "[CV 3/5; 44/90] START criterion=gini, max_depth=11, min_samples_split=5, n_estimators=300\n",
      "[CV 3/5; 44/90] END criterion=gini, max_depth=11, min_samples_split=5, n_estimators=300;, score=0.797 total time=   0.2s\n",
      "[CV 4/5; 44/90] START criterion=gini, max_depth=11, min_samples_split=5, n_estimators=300\n",
      "[CV 4/5; 44/90] END criterion=gini, max_depth=11, min_samples_split=5, n_estimators=300;, score=0.861 total time=   0.2s\n",
      "[CV 5/5; 44/90] START criterion=gini, max_depth=11, min_samples_split=5, n_estimators=300\n",
      "[CV 5/5; 44/90] END criterion=gini, max_depth=11, min_samples_split=5, n_estimators=300;, score=0.738 total time=   0.2s\n",
      "[CV 1/5; 45/90] START criterion=gini, max_depth=11, min_samples_split=5, n_estimators=500\n",
      "[CV 1/5; 45/90] END criterion=gini, max_depth=11, min_samples_split=5, n_estimators=500;, score=0.786 total time=   0.3s\n",
      "[CV 2/5; 45/90] START criterion=gini, max_depth=11, min_samples_split=5, n_estimators=500\n",
      "[CV 2/5; 45/90] END criterion=gini, max_depth=11, min_samples_split=5, n_estimators=500;, score=0.818 total time=   0.4s\n",
      "[CV 3/5; 45/90] START criterion=gini, max_depth=11, min_samples_split=5, n_estimators=500\n",
      "[CV 3/5; 45/90] END criterion=gini, max_depth=11, min_samples_split=5, n_estimators=500;, score=0.813 total time=   0.3s\n",
      "[CV 4/5; 45/90] START criterion=gini, max_depth=11, min_samples_split=5, n_estimators=500\n",
      "[CV 4/5; 45/90] END criterion=gini, max_depth=11, min_samples_split=5, n_estimators=500;, score=0.867 total time=   0.3s\n",
      "[CV 5/5; 45/90] START criterion=gini, max_depth=11, min_samples_split=5, n_estimators=500\n",
      "[CV 5/5; 45/90] END criterion=gini, max_depth=11, min_samples_split=5, n_estimators=500;, score=0.742 total time=   0.4s\n",
      "[CV 1/5; 46/90] START criterion=entropy, max_depth=3, min_samples_split=2, n_estimators=100\n",
      "[CV 1/5; 46/90] END criterion=entropy, max_depth=3, min_samples_split=2, n_estimators=100;, score=0.792 total time=   0.0s\n",
      "[CV 2/5; 46/90] START criterion=entropy, max_depth=3, min_samples_split=2, n_estimators=100\n",
      "[CV 2/5; 46/90] END criterion=entropy, max_depth=3, min_samples_split=2, n_estimators=100;, score=0.768 total time=   0.0s\n",
      "[CV 3/5; 46/90] START criterion=entropy, max_depth=3, min_samples_split=2, n_estimators=100\n",
      "[CV 3/5; 46/90] END criterion=entropy, max_depth=3, min_samples_split=2, n_estimators=100;, score=0.799 total time=   0.0s\n",
      "[CV 4/5; 46/90] START criterion=entropy, max_depth=3, min_samples_split=2, n_estimators=100\n",
      "[CV 4/5; 46/90] END criterion=entropy, max_depth=3, min_samples_split=2, n_estimators=100;, score=0.825 total time=   0.0s\n",
      "[CV 5/5; 46/90] START criterion=entropy, max_depth=3, min_samples_split=2, n_estimators=100\n",
      "[CV 5/5; 46/90] END criterion=entropy, max_depth=3, min_samples_split=2, n_estimators=100;, score=0.781 total time=   0.0s\n",
      "[CV 1/5; 47/90] START criterion=entropy, max_depth=3, min_samples_split=2, n_estimators=300\n",
      "[CV 1/5; 47/90] END criterion=entropy, max_depth=3, min_samples_split=2, n_estimators=300;, score=0.783 total time=   0.1s\n",
      "[CV 2/5; 47/90] START criterion=entropy, max_depth=3, min_samples_split=2, n_estimators=300\n",
      "[CV 2/5; 47/90] END criterion=entropy, max_depth=3, min_samples_split=2, n_estimators=300;, score=0.785 total time=   0.2s\n",
      "[CV 3/5; 47/90] START criterion=entropy, max_depth=3, min_samples_split=2, n_estimators=300\n",
      "[CV 3/5; 47/90] END criterion=entropy, max_depth=3, min_samples_split=2, n_estimators=300;, score=0.812 total time=   0.1s\n",
      "[CV 4/5; 47/90] START criterion=entropy, max_depth=3, min_samples_split=2, n_estimators=300\n",
      "[CV 4/5; 47/90] END criterion=entropy, max_depth=3, min_samples_split=2, n_estimators=300;, score=0.821 total time=   0.2s\n",
      "[CV 5/5; 47/90] START criterion=entropy, max_depth=3, min_samples_split=2, n_estimators=300\n",
      "[CV 5/5; 47/90] END criterion=entropy, max_depth=3, min_samples_split=2, n_estimators=300;, score=0.780 total time=   0.2s\n",
      "[CV 1/5; 48/90] START criterion=entropy, max_depth=3, min_samples_split=2, n_estimators=500\n",
      "[CV 1/5; 48/90] END criterion=entropy, max_depth=3, min_samples_split=2, n_estimators=500;, score=0.770 total time=   0.3s\n",
      "[CV 2/5; 48/90] START criterion=entropy, max_depth=3, min_samples_split=2, n_estimators=500\n",
      "[CV 2/5; 48/90] END criterion=entropy, max_depth=3, min_samples_split=2, n_estimators=500;, score=0.781 total time=   0.3s\n",
      "[CV 3/5; 48/90] START criterion=entropy, max_depth=3, min_samples_split=2, n_estimators=500\n",
      "[CV 3/5; 48/90] END criterion=entropy, max_depth=3, min_samples_split=2, n_estimators=500;, score=0.822 total time=   0.3s\n",
      "[CV 4/5; 48/90] START criterion=entropy, max_depth=3, min_samples_split=2, n_estimators=500\n"
     ]
    },
    {
     "name": "stdout",
     "output_type": "stream",
     "text": [
      "[CV 4/5; 48/90] END criterion=entropy, max_depth=3, min_samples_split=2, n_estimators=500;, score=0.822 total time=   0.3s\n",
      "[CV 5/5; 48/90] START criterion=entropy, max_depth=3, min_samples_split=2, n_estimators=500\n",
      "[CV 5/5; 48/90] END criterion=entropy, max_depth=3, min_samples_split=2, n_estimators=500;, score=0.780 total time=   0.3s\n",
      "[CV 1/5; 49/90] START criterion=entropy, max_depth=3, min_samples_split=3, n_estimators=100\n",
      "[CV 1/5; 49/90] END criterion=entropy, max_depth=3, min_samples_split=3, n_estimators=100;, score=0.793 total time=   0.0s\n",
      "[CV 2/5; 49/90] START criterion=entropy, max_depth=3, min_samples_split=3, n_estimators=100\n",
      "[CV 2/5; 49/90] END criterion=entropy, max_depth=3, min_samples_split=3, n_estimators=100;, score=0.767 total time=   0.0s\n",
      "[CV 3/5; 49/90] START criterion=entropy, max_depth=3, min_samples_split=3, n_estimators=100\n",
      "[CV 3/5; 49/90] END criterion=entropy, max_depth=3, min_samples_split=3, n_estimators=100;, score=0.794 total time=   0.0s\n",
      "[CV 4/5; 49/90] START criterion=entropy, max_depth=3, min_samples_split=3, n_estimators=100\n",
      "[CV 4/5; 49/90] END criterion=entropy, max_depth=3, min_samples_split=3, n_estimators=100;, score=0.829 total time=   0.0s\n",
      "[CV 5/5; 49/90] START criterion=entropy, max_depth=3, min_samples_split=3, n_estimators=100\n",
      "[CV 5/5; 49/90] END criterion=entropy, max_depth=3, min_samples_split=3, n_estimators=100;, score=0.773 total time=   0.0s\n",
      "[CV 1/5; 50/90] START criterion=entropy, max_depth=3, min_samples_split=3, n_estimators=300\n",
      "[CV 1/5; 50/90] END criterion=entropy, max_depth=3, min_samples_split=3, n_estimators=300;, score=0.786 total time=   0.2s\n",
      "[CV 2/5; 50/90] START criterion=entropy, max_depth=3, min_samples_split=3, n_estimators=300\n",
      "[CV 2/5; 50/90] END criterion=entropy, max_depth=3, min_samples_split=3, n_estimators=300;, score=0.788 total time=   0.1s\n",
      "[CV 3/5; 50/90] START criterion=entropy, max_depth=3, min_samples_split=3, n_estimators=300\n",
      "[CV 3/5; 50/90] END criterion=entropy, max_depth=3, min_samples_split=3, n_estimators=300;, score=0.812 total time=   0.2s\n",
      "[CV 4/5; 50/90] START criterion=entropy, max_depth=3, min_samples_split=3, n_estimators=300\n",
      "[CV 4/5; 50/90] END criterion=entropy, max_depth=3, min_samples_split=3, n_estimators=300;, score=0.823 total time=   0.1s\n",
      "[CV 5/5; 50/90] START criterion=entropy, max_depth=3, min_samples_split=3, n_estimators=300\n",
      "[CV 5/5; 50/90] END criterion=entropy, max_depth=3, min_samples_split=3, n_estimators=300;, score=0.781 total time=   0.2s\n",
      "[CV 1/5; 51/90] START criterion=entropy, max_depth=3, min_samples_split=3, n_estimators=500\n",
      "[CV 1/5; 51/90] END criterion=entropy, max_depth=3, min_samples_split=3, n_estimators=500;, score=0.771 total time=   0.3s\n",
      "[CV 2/5; 51/90] START criterion=entropy, max_depth=3, min_samples_split=3, n_estimators=500\n",
      "[CV 2/5; 51/90] END criterion=entropy, max_depth=3, min_samples_split=3, n_estimators=500;, score=0.782 total time=   0.3s\n",
      "[CV 3/5; 51/90] START criterion=entropy, max_depth=3, min_samples_split=3, n_estimators=500\n",
      "[CV 3/5; 51/90] END criterion=entropy, max_depth=3, min_samples_split=3, n_estimators=500;, score=0.822 total time=   0.3s\n",
      "[CV 4/5; 51/90] START criterion=entropy, max_depth=3, min_samples_split=3, n_estimators=500\n",
      "[CV 4/5; 51/90] END criterion=entropy, max_depth=3, min_samples_split=3, n_estimators=500;, score=0.822 total time=   0.3s\n",
      "[CV 5/5; 51/90] START criterion=entropy, max_depth=3, min_samples_split=3, n_estimators=500\n",
      "[CV 5/5; 51/90] END criterion=entropy, max_depth=3, min_samples_split=3, n_estimators=500;, score=0.779 total time=   0.3s\n",
      "[CV 1/5; 52/90] START criterion=entropy, max_depth=3, min_samples_split=5, n_estimators=100\n",
      "[CV 1/5; 52/90] END criterion=entropy, max_depth=3, min_samples_split=5, n_estimators=100;, score=0.796 total time=   0.0s\n",
      "[CV 2/5; 52/90] START criterion=entropy, max_depth=3, min_samples_split=5, n_estimators=100\n",
      "[CV 2/5; 52/90] END criterion=entropy, max_depth=3, min_samples_split=5, n_estimators=100;, score=0.767 total time=   0.0s\n",
      "[CV 3/5; 52/90] START criterion=entropy, max_depth=3, min_samples_split=5, n_estimators=100\n",
      "[CV 3/5; 52/90] END criterion=entropy, max_depth=3, min_samples_split=5, n_estimators=100;, score=0.790 total time=   0.0s\n",
      "[CV 4/5; 52/90] START criterion=entropy, max_depth=3, min_samples_split=5, n_estimators=100\n",
      "[CV 4/5; 52/90] END criterion=entropy, max_depth=3, min_samples_split=5, n_estimators=100;, score=0.842 total time=   0.0s\n",
      "[CV 5/5; 52/90] START criterion=entropy, max_depth=3, min_samples_split=5, n_estimators=100\n",
      "[CV 5/5; 52/90] END criterion=entropy, max_depth=3, min_samples_split=5, n_estimators=100;, score=0.786 total time=   0.0s\n",
      "[CV 1/5; 53/90] START criterion=entropy, max_depth=3, min_samples_split=5, n_estimators=300\n",
      "[CV 1/5; 53/90] END criterion=entropy, max_depth=3, min_samples_split=5, n_estimators=300;, score=0.786 total time=   0.2s\n",
      "[CV 2/5; 53/90] START criterion=entropy, max_depth=3, min_samples_split=5, n_estimators=300\n",
      "[CV 2/5; 53/90] END criterion=entropy, max_depth=3, min_samples_split=5, n_estimators=300;, score=0.787 total time=   0.2s\n",
      "[CV 3/5; 53/90] START criterion=entropy, max_depth=3, min_samples_split=5, n_estimators=300\n",
      "[CV 3/5; 53/90] END criterion=entropy, max_depth=3, min_samples_split=5, n_estimators=300;, score=0.807 total time=   0.1s\n",
      "[CV 4/5; 53/90] START criterion=entropy, max_depth=3, min_samples_split=5, n_estimators=300\n",
      "[CV 4/5; 53/90] END criterion=entropy, max_depth=3, min_samples_split=5, n_estimators=300;, score=0.826 total time=   0.1s\n",
      "[CV 5/5; 53/90] START criterion=entropy, max_depth=3, min_samples_split=5, n_estimators=300\n",
      "[CV 5/5; 53/90] END criterion=entropy, max_depth=3, min_samples_split=5, n_estimators=300;, score=0.783 total time=   0.2s\n",
      "[CV 1/5; 54/90] START criterion=entropy, max_depth=3, min_samples_split=5, n_estimators=500\n",
      "[CV 1/5; 54/90] END criterion=entropy, max_depth=3, min_samples_split=5, n_estimators=500;, score=0.774 total time=   0.3s\n",
      "[CV 2/5; 54/90] START criterion=entropy, max_depth=3, min_samples_split=5, n_estimators=500\n",
      "[CV 2/5; 54/90] END criterion=entropy, max_depth=3, min_samples_split=5, n_estimators=500;, score=0.784 total time=   0.3s\n",
      "[CV 3/5; 54/90] START criterion=entropy, max_depth=3, min_samples_split=5, n_estimators=500\n",
      "[CV 3/5; 54/90] END criterion=entropy, max_depth=3, min_samples_split=5, n_estimators=500;, score=0.821 total time=   0.3s\n",
      "[CV 4/5; 54/90] START criterion=entropy, max_depth=3, min_samples_split=5, n_estimators=500\n",
      "[CV 4/5; 54/90] END criterion=entropy, max_depth=3, min_samples_split=5, n_estimators=500;, score=0.826 total time=   0.3s\n",
      "[CV 5/5; 54/90] START criterion=entropy, max_depth=3, min_samples_split=5, n_estimators=500\n",
      "[CV 5/5; 54/90] END criterion=entropy, max_depth=3, min_samples_split=5, n_estimators=500;, score=0.782 total time=   0.3s\n",
      "[CV 1/5; 55/90] START criterion=entropy, max_depth=5, min_samples_split=2, n_estimators=100\n",
      "[CV 1/5; 55/90] END criterion=entropy, max_depth=5, min_samples_split=2, n_estimators=100;, score=0.795 total time=   0.0s\n",
      "[CV 2/5; 55/90] START criterion=entropy, max_depth=5, min_samples_split=2, n_estimators=100\n",
      "[CV 2/5; 55/90] END criterion=entropy, max_depth=5, min_samples_split=2, n_estimators=100;, score=0.774 total time=   0.0s\n",
      "[CV 3/5; 55/90] START criterion=entropy, max_depth=5, min_samples_split=2, n_estimators=100\n",
      "[CV 3/5; 55/90] END criterion=entropy, max_depth=5, min_samples_split=2, n_estimators=100;, score=0.794 total time=   0.0s\n",
      "[CV 4/5; 55/90] START criterion=entropy, max_depth=5, min_samples_split=2, n_estimators=100\n",
      "[CV 4/5; 55/90] END criterion=entropy, max_depth=5, min_samples_split=2, n_estimators=100;, score=0.836 total time=   0.0s\n",
      "[CV 5/5; 55/90] START criterion=entropy, max_depth=5, min_samples_split=2, n_estimators=100\n",
      "[CV 5/5; 55/90] END criterion=entropy, max_depth=5, min_samples_split=2, n_estimators=100;, score=0.759 total time=   0.0s\n",
      "[CV 1/5; 56/90] START criterion=entropy, max_depth=5, min_samples_split=2, n_estimators=300\n",
      "[CV 1/5; 56/90] END criterion=entropy, max_depth=5, min_samples_split=2, n_estimators=300;, score=0.791 total time=   0.2s\n",
      "[CV 2/5; 56/90] START criterion=entropy, max_depth=5, min_samples_split=2, n_estimators=300\n",
      "[CV 2/5; 56/90] END criterion=entropy, max_depth=5, min_samples_split=2, n_estimators=300;, score=0.799 total time=   0.2s\n",
      "[CV 3/5; 56/90] START criterion=entropy, max_depth=5, min_samples_split=2, n_estimators=300\n"
     ]
    },
    {
     "name": "stdout",
     "output_type": "stream",
     "text": [
      "[CV 3/5; 56/90] END criterion=entropy, max_depth=5, min_samples_split=2, n_estimators=300;, score=0.804 total time=   0.2s\n",
      "[CV 4/5; 56/90] START criterion=entropy, max_depth=5, min_samples_split=2, n_estimators=300\n",
      "[CV 4/5; 56/90] END criterion=entropy, max_depth=5, min_samples_split=2, n_estimators=300;, score=0.836 total time=   0.2s\n",
      "[CV 5/5; 56/90] START criterion=entropy, max_depth=5, min_samples_split=2, n_estimators=300\n",
      "[CV 5/5; 56/90] END criterion=entropy, max_depth=5, min_samples_split=2, n_estimators=300;, score=0.760 total time=   0.2s\n",
      "[CV 1/5; 57/90] START criterion=entropy, max_depth=5, min_samples_split=2, n_estimators=500\n",
      "[CV 1/5; 57/90] END criterion=entropy, max_depth=5, min_samples_split=2, n_estimators=500;, score=0.774 total time=   0.3s\n",
      "[CV 2/5; 57/90] START criterion=entropy, max_depth=5, min_samples_split=2, n_estimators=500\n",
      "[CV 2/5; 57/90] END criterion=entropy, max_depth=5, min_samples_split=2, n_estimators=500;, score=0.793 total time=   0.3s\n",
      "[CV 3/5; 57/90] START criterion=entropy, max_depth=5, min_samples_split=2, n_estimators=500\n",
      "[CV 3/5; 57/90] END criterion=entropy, max_depth=5, min_samples_split=2, n_estimators=500;, score=0.815 total time=   0.3s\n",
      "[CV 4/5; 57/90] START criterion=entropy, max_depth=5, min_samples_split=2, n_estimators=500\n",
      "[CV 4/5; 57/90] END criterion=entropy, max_depth=5, min_samples_split=2, n_estimators=500;, score=0.833 total time=   0.4s\n",
      "[CV 5/5; 57/90] START criterion=entropy, max_depth=5, min_samples_split=2, n_estimators=500\n",
      "[CV 5/5; 57/90] END criterion=entropy, max_depth=5, min_samples_split=2, n_estimators=500;, score=0.759 total time=   0.3s\n",
      "[CV 1/5; 58/90] START criterion=entropy, max_depth=5, min_samples_split=3, n_estimators=100\n",
      "[CV 1/5; 58/90] END criterion=entropy, max_depth=5, min_samples_split=3, n_estimators=100;, score=0.789 total time=   0.0s\n",
      "[CV 2/5; 58/90] START criterion=entropy, max_depth=5, min_samples_split=3, n_estimators=100\n",
      "[CV 2/5; 58/90] END criterion=entropy, max_depth=5, min_samples_split=3, n_estimators=100;, score=0.788 total time=   0.0s\n",
      "[CV 3/5; 58/90] START criterion=entropy, max_depth=5, min_samples_split=3, n_estimators=100\n",
      "[CV 3/5; 58/90] END criterion=entropy, max_depth=5, min_samples_split=3, n_estimators=100;, score=0.804 total time=   0.0s\n",
      "[CV 4/5; 58/90] START criterion=entropy, max_depth=5, min_samples_split=3, n_estimators=100\n",
      "[CV 4/5; 58/90] END criterion=entropy, max_depth=5, min_samples_split=3, n_estimators=100;, score=0.828 total time=   0.0s\n",
      "[CV 5/5; 58/90] START criterion=entropy, max_depth=5, min_samples_split=3, n_estimators=100\n",
      "[CV 5/5; 58/90] END criterion=entropy, max_depth=5, min_samples_split=3, n_estimators=100;, score=0.752 total time=   0.0s\n",
      "[CV 1/5; 59/90] START criterion=entropy, max_depth=5, min_samples_split=3, n_estimators=300\n",
      "[CV 1/5; 59/90] END criterion=entropy, max_depth=5, min_samples_split=3, n_estimators=300;, score=0.795 total time=   0.2s\n",
      "[CV 2/5; 59/90] START criterion=entropy, max_depth=5, min_samples_split=3, n_estimators=300\n",
      "[CV 2/5; 59/90] END criterion=entropy, max_depth=5, min_samples_split=3, n_estimators=300;, score=0.796 total time=   0.1s\n",
      "[CV 3/5; 59/90] START criterion=entropy, max_depth=5, min_samples_split=3, n_estimators=300\n",
      "[CV 3/5; 59/90] END criterion=entropy, max_depth=5, min_samples_split=3, n_estimators=300;, score=0.811 total time=   0.2s\n",
      "[CV 4/5; 59/90] START criterion=entropy, max_depth=5, min_samples_split=3, n_estimators=300\n",
      "[CV 4/5; 59/90] END criterion=entropy, max_depth=5, min_samples_split=3, n_estimators=300;, score=0.836 total time=   0.1s\n",
      "[CV 5/5; 59/90] START criterion=entropy, max_depth=5, min_samples_split=3, n_estimators=300\n",
      "[CV 5/5; 59/90] END criterion=entropy, max_depth=5, min_samples_split=3, n_estimators=300;, score=0.753 total time=   0.2s\n",
      "[CV 1/5; 60/90] START criterion=entropy, max_depth=5, min_samples_split=3, n_estimators=500\n",
      "[CV 1/5; 60/90] END criterion=entropy, max_depth=5, min_samples_split=3, n_estimators=500;, score=0.779 total time=   0.3s\n",
      "[CV 2/5; 60/90] START criterion=entropy, max_depth=5, min_samples_split=3, n_estimators=500\n",
      "[CV 2/5; 60/90] END criterion=entropy, max_depth=5, min_samples_split=3, n_estimators=500;, score=0.799 total time=   0.3s\n",
      "[CV 3/5; 60/90] START criterion=entropy, max_depth=5, min_samples_split=3, n_estimators=500\n",
      "[CV 3/5; 60/90] END criterion=entropy, max_depth=5, min_samples_split=3, n_estimators=500;, score=0.818 total time=   0.3s\n",
      "[CV 4/5; 60/90] START criterion=entropy, max_depth=5, min_samples_split=3, n_estimators=500\n",
      "[CV 4/5; 60/90] END criterion=entropy, max_depth=5, min_samples_split=3, n_estimators=500;, score=0.839 total time=   0.3s\n",
      "[CV 5/5; 60/90] START criterion=entropy, max_depth=5, min_samples_split=3, n_estimators=500\n",
      "[CV 5/5; 60/90] END criterion=entropy, max_depth=5, min_samples_split=3, n_estimators=500;, score=0.753 total time=   0.3s\n",
      "[CV 1/5; 61/90] START criterion=entropy, max_depth=5, min_samples_split=5, n_estimators=100\n",
      "[CV 1/5; 61/90] END criterion=entropy, max_depth=5, min_samples_split=5, n_estimators=100;, score=0.780 total time=   0.0s\n",
      "[CV 2/5; 61/90] START criterion=entropy, max_depth=5, min_samples_split=5, n_estimators=100\n",
      "[CV 2/5; 61/90] END criterion=entropy, max_depth=5, min_samples_split=5, n_estimators=100;, score=0.781 total time=   0.0s\n",
      "[CV 3/5; 61/90] START criterion=entropy, max_depth=5, min_samples_split=5, n_estimators=100\n",
      "[CV 3/5; 61/90] END criterion=entropy, max_depth=5, min_samples_split=5, n_estimators=100;, score=0.783 total time=   0.0s\n",
      "[CV 4/5; 61/90] START criterion=entropy, max_depth=5, min_samples_split=5, n_estimators=100\n",
      "[CV 4/5; 61/90] END criterion=entropy, max_depth=5, min_samples_split=5, n_estimators=100;, score=0.833 total time=   0.0s\n",
      "[CV 5/5; 61/90] START criterion=entropy, max_depth=5, min_samples_split=5, n_estimators=100\n",
      "[CV 5/5; 61/90] END criterion=entropy, max_depth=5, min_samples_split=5, n_estimators=100;, score=0.757 total time=   0.0s\n",
      "[CV 1/5; 62/90] START criterion=entropy, max_depth=5, min_samples_split=5, n_estimators=300\n",
      "[CV 1/5; 62/90] END criterion=entropy, max_depth=5, min_samples_split=5, n_estimators=300;, score=0.797 total time=   0.1s\n",
      "[CV 2/5; 62/90] START criterion=entropy, max_depth=5, min_samples_split=5, n_estimators=300\n",
      "[CV 2/5; 62/90] END criterion=entropy, max_depth=5, min_samples_split=5, n_estimators=300;, score=0.790 total time=   0.2s\n",
      "[CV 3/5; 62/90] START criterion=entropy, max_depth=5, min_samples_split=5, n_estimators=300\n",
      "[CV 3/5; 62/90] END criterion=entropy, max_depth=5, min_samples_split=5, n_estimators=300;, score=0.800 total time=   0.2s\n",
      "[CV 4/5; 62/90] START criterion=entropy, max_depth=5, min_samples_split=5, n_estimators=300\n",
      "[CV 4/5; 62/90] END criterion=entropy, max_depth=5, min_samples_split=5, n_estimators=300;, score=0.835 total time=   0.2s\n",
      "[CV 5/5; 62/90] START criterion=entropy, max_depth=5, min_samples_split=5, n_estimators=300\n",
      "[CV 5/5; 62/90] END criterion=entropy, max_depth=5, min_samples_split=5, n_estimators=300;, score=0.767 total time=   0.2s\n",
      "[CV 1/5; 63/90] START criterion=entropy, max_depth=5, min_samples_split=5, n_estimators=500\n",
      "[CV 1/5; 63/90] END criterion=entropy, max_depth=5, min_samples_split=5, n_estimators=500;, score=0.781 total time=   0.3s\n",
      "[CV 2/5; 63/90] START criterion=entropy, max_depth=5, min_samples_split=5, n_estimators=500\n",
      "[CV 2/5; 63/90] END criterion=entropy, max_depth=5, min_samples_split=5, n_estimators=500;, score=0.799 total time=   0.3s\n",
      "[CV 3/5; 63/90] START criterion=entropy, max_depth=5, min_samples_split=5, n_estimators=500\n",
      "[CV 3/5; 63/90] END criterion=entropy, max_depth=5, min_samples_split=5, n_estimators=500;, score=0.808 total time=   0.3s\n",
      "[CV 4/5; 63/90] START criterion=entropy, max_depth=5, min_samples_split=5, n_estimators=500\n",
      "[CV 4/5; 63/90] END criterion=entropy, max_depth=5, min_samples_split=5, n_estimators=500;, score=0.838 total time=   0.3s\n",
      "[CV 5/5; 63/90] START criterion=entropy, max_depth=5, min_samples_split=5, n_estimators=500\n",
      "[CV 5/5; 63/90] END criterion=entropy, max_depth=5, min_samples_split=5, n_estimators=500;, score=0.773 total time=   0.3s\n",
      "[CV 1/5; 64/90] START criterion=entropy, max_depth=7, min_samples_split=2, n_estimators=100\n",
      "[CV 1/5; 64/90] END criterion=entropy, max_depth=7, min_samples_split=2, n_estimators=100;, score=0.779 total time=   0.0s\n",
      "[CV 2/5; 64/90] START criterion=entropy, max_depth=7, min_samples_split=2, n_estimators=100\n"
     ]
    },
    {
     "name": "stdout",
     "output_type": "stream",
     "text": [
      "[CV 2/5; 64/90] END criterion=entropy, max_depth=7, min_samples_split=2, n_estimators=100;, score=0.806 total time=   0.0s\n",
      "[CV 3/5; 64/90] START criterion=entropy, max_depth=7, min_samples_split=2, n_estimators=100\n",
      "[CV 3/5; 64/90] END criterion=entropy, max_depth=7, min_samples_split=2, n_estimators=100;, score=0.796 total time=   0.0s\n",
      "[CV 4/5; 64/90] START criterion=entropy, max_depth=7, min_samples_split=2, n_estimators=100\n",
      "[CV 4/5; 64/90] END criterion=entropy, max_depth=7, min_samples_split=2, n_estimators=100;, score=0.827 total time=   0.0s\n",
      "[CV 5/5; 64/90] START criterion=entropy, max_depth=7, min_samples_split=2, n_estimators=100\n",
      "[CV 5/5; 64/90] END criterion=entropy, max_depth=7, min_samples_split=2, n_estimators=100;, score=0.740 total time=   0.0s\n",
      "[CV 1/5; 65/90] START criterion=entropy, max_depth=7, min_samples_split=2, n_estimators=300\n",
      "[CV 1/5; 65/90] END criterion=entropy, max_depth=7, min_samples_split=2, n_estimators=300;, score=0.775 total time=   0.2s\n",
      "[CV 2/5; 65/90] START criterion=entropy, max_depth=7, min_samples_split=2, n_estimators=300\n",
      "[CV 2/5; 65/90] END criterion=entropy, max_depth=7, min_samples_split=2, n_estimators=300;, score=0.804 total time=   0.2s\n",
      "[CV 3/5; 65/90] START criterion=entropy, max_depth=7, min_samples_split=2, n_estimators=300\n",
      "[CV 3/5; 65/90] END criterion=entropy, max_depth=7, min_samples_split=2, n_estimators=300;, score=0.803 total time=   0.2s\n",
      "[CV 4/5; 65/90] START criterion=entropy, max_depth=7, min_samples_split=2, n_estimators=300\n",
      "[CV 4/5; 65/90] END criterion=entropy, max_depth=7, min_samples_split=2, n_estimators=300;, score=0.836 total time=   0.2s\n",
      "[CV 5/5; 65/90] START criterion=entropy, max_depth=7, min_samples_split=2, n_estimators=300\n",
      "[CV 5/5; 65/90] END criterion=entropy, max_depth=7, min_samples_split=2, n_estimators=300;, score=0.728 total time=   0.2s\n",
      "[CV 1/5; 66/90] START criterion=entropy, max_depth=7, min_samples_split=2, n_estimators=500\n",
      "[CV 1/5; 66/90] END criterion=entropy, max_depth=7, min_samples_split=2, n_estimators=500;, score=0.787 total time=   0.3s\n",
      "[CV 2/5; 66/90] START criterion=entropy, max_depth=7, min_samples_split=2, n_estimators=500\n",
      "[CV 2/5; 66/90] END criterion=entropy, max_depth=7, min_samples_split=2, n_estimators=500;, score=0.811 total time=   0.3s\n",
      "[CV 3/5; 66/90] START criterion=entropy, max_depth=7, min_samples_split=2, n_estimators=500\n",
      "[CV 3/5; 66/90] END criterion=entropy, max_depth=7, min_samples_split=2, n_estimators=500;, score=0.820 total time=   0.3s\n",
      "[CV 4/5; 66/90] START criterion=entropy, max_depth=7, min_samples_split=2, n_estimators=500\n",
      "[CV 4/5; 66/90] END criterion=entropy, max_depth=7, min_samples_split=2, n_estimators=500;, score=0.841 total time=   0.3s\n",
      "[CV 5/5; 66/90] START criterion=entropy, max_depth=7, min_samples_split=2, n_estimators=500\n",
      "[CV 5/5; 66/90] END criterion=entropy, max_depth=7, min_samples_split=2, n_estimators=500;, score=0.733 total time=   0.3s\n",
      "[CV 1/5; 67/90] START criterion=entropy, max_depth=7, min_samples_split=3, n_estimators=100\n",
      "[CV 1/5; 67/90] END criterion=entropy, max_depth=7, min_samples_split=3, n_estimators=100;, score=0.791 total time=   0.0s\n",
      "[CV 2/5; 67/90] START criterion=entropy, max_depth=7, min_samples_split=3, n_estimators=100\n",
      "[CV 2/5; 67/90] END criterion=entropy, max_depth=7, min_samples_split=3, n_estimators=100;, score=0.817 total time=   0.0s\n",
      "[CV 3/5; 67/90] START criterion=entropy, max_depth=7, min_samples_split=3, n_estimators=100\n",
      "[CV 3/5; 67/90] END criterion=entropy, max_depth=7, min_samples_split=3, n_estimators=100;, score=0.796 total time=   0.0s\n",
      "[CV 4/5; 67/90] START criterion=entropy, max_depth=7, min_samples_split=3, n_estimators=100\n",
      "[CV 4/5; 67/90] END criterion=entropy, max_depth=7, min_samples_split=3, n_estimators=100;, score=0.845 total time=   0.0s\n",
      "[CV 5/5; 67/90] START criterion=entropy, max_depth=7, min_samples_split=3, n_estimators=100\n",
      "[CV 5/5; 67/90] END criterion=entropy, max_depth=7, min_samples_split=3, n_estimators=100;, score=0.730 total time=   0.0s\n",
      "[CV 1/5; 68/90] START criterion=entropy, max_depth=7, min_samples_split=3, n_estimators=300\n",
      "[CV 1/5; 68/90] END criterion=entropy, max_depth=7, min_samples_split=3, n_estimators=300;, score=0.791 total time=   0.2s\n",
      "[CV 2/5; 68/90] START criterion=entropy, max_depth=7, min_samples_split=3, n_estimators=300\n",
      "[CV 2/5; 68/90] END criterion=entropy, max_depth=7, min_samples_split=3, n_estimators=300;, score=0.806 total time=   0.2s\n",
      "[CV 3/5; 68/90] START criterion=entropy, max_depth=7, min_samples_split=3, n_estimators=300\n",
      "[CV 3/5; 68/90] END criterion=entropy, max_depth=7, min_samples_split=3, n_estimators=300;, score=0.802 total time=   0.2s\n",
      "[CV 4/5; 68/90] START criterion=entropy, max_depth=7, min_samples_split=3, n_estimators=300\n",
      "[CV 4/5; 68/90] END criterion=entropy, max_depth=7, min_samples_split=3, n_estimators=300;, score=0.848 total time=   0.2s\n",
      "[CV 5/5; 68/90] START criterion=entropy, max_depth=7, min_samples_split=3, n_estimators=300\n",
      "[CV 5/5; 68/90] END criterion=entropy, max_depth=7, min_samples_split=3, n_estimators=300;, score=0.738 total time=   0.2s\n",
      "[CV 1/5; 69/90] START criterion=entropy, max_depth=7, min_samples_split=3, n_estimators=500\n",
      "[CV 1/5; 69/90] END criterion=entropy, max_depth=7, min_samples_split=3, n_estimators=500;, score=0.790 total time=   0.3s\n",
      "[CV 2/5; 69/90] START criterion=entropy, max_depth=7, min_samples_split=3, n_estimators=500\n",
      "[CV 2/5; 69/90] END criterion=entropy, max_depth=7, min_samples_split=3, n_estimators=500;, score=0.810 total time=   0.3s\n",
      "[CV 3/5; 69/90] START criterion=entropy, max_depth=7, min_samples_split=3, n_estimators=500\n",
      "[CV 3/5; 69/90] END criterion=entropy, max_depth=7, min_samples_split=3, n_estimators=500;, score=0.819 total time=   0.3s\n",
      "[CV 4/5; 69/90] START criterion=entropy, max_depth=7, min_samples_split=3, n_estimators=500\n",
      "[CV 4/5; 69/90] END criterion=entropy, max_depth=7, min_samples_split=3, n_estimators=500;, score=0.848 total time=   0.4s\n",
      "[CV 5/5; 69/90] START criterion=entropy, max_depth=7, min_samples_split=3, n_estimators=500\n",
      "[CV 5/5; 69/90] END criterion=entropy, max_depth=7, min_samples_split=3, n_estimators=500;, score=0.735 total time=   0.3s\n",
      "[CV 1/5; 70/90] START criterion=entropy, max_depth=7, min_samples_split=5, n_estimators=100\n",
      "[CV 1/5; 70/90] END criterion=entropy, max_depth=7, min_samples_split=5, n_estimators=100;, score=0.778 total time=   0.0s\n",
      "[CV 2/5; 70/90] START criterion=entropy, max_depth=7, min_samples_split=5, n_estimators=100\n",
      "[CV 2/5; 70/90] END criterion=entropy, max_depth=7, min_samples_split=5, n_estimators=100;, score=0.810 total time=   0.0s\n",
      "[CV 3/5; 70/90] START criterion=entropy, max_depth=7, min_samples_split=5, n_estimators=100\n",
      "[CV 3/5; 70/90] END criterion=entropy, max_depth=7, min_samples_split=5, n_estimators=100;, score=0.784 total time=   0.0s\n",
      "[CV 4/5; 70/90] START criterion=entropy, max_depth=7, min_samples_split=5, n_estimators=100\n",
      "[CV 4/5; 70/90] END criterion=entropy, max_depth=7, min_samples_split=5, n_estimators=100;, score=0.830 total time=   0.0s\n",
      "[CV 5/5; 70/90] START criterion=entropy, max_depth=7, min_samples_split=5, n_estimators=100\n",
      "[CV 5/5; 70/90] END criterion=entropy, max_depth=7, min_samples_split=5, n_estimators=100;, score=0.756 total time=   0.0s\n",
      "[CV 1/5; 71/90] START criterion=entropy, max_depth=7, min_samples_split=5, n_estimators=300\n",
      "[CV 1/5; 71/90] END criterion=entropy, max_depth=7, min_samples_split=5, n_estimators=300;, score=0.796 total time=   0.1s\n",
      "[CV 2/5; 71/90] START criterion=entropy, max_depth=7, min_samples_split=5, n_estimators=300\n",
      "[CV 2/5; 71/90] END criterion=entropy, max_depth=7, min_samples_split=5, n_estimators=300;, score=0.806 total time=   0.2s\n",
      "[CV 3/5; 71/90] START criterion=entropy, max_depth=7, min_samples_split=5, n_estimators=300\n",
      "[CV 3/5; 71/90] END criterion=entropy, max_depth=7, min_samples_split=5, n_estimators=300;, score=0.797 total time=   0.2s\n",
      "[CV 4/5; 71/90] START criterion=entropy, max_depth=7, min_samples_split=5, n_estimators=300\n",
      "[CV 4/5; 71/90] END criterion=entropy, max_depth=7, min_samples_split=5, n_estimators=300;, score=0.849 total time=   0.2s\n",
      "[CV 5/5; 71/90] START criterion=entropy, max_depth=7, min_samples_split=5, n_estimators=300\n",
      "[CV 5/5; 71/90] END criterion=entropy, max_depth=7, min_samples_split=5, n_estimators=300;, score=0.748 total time=   0.2s\n",
      "[CV 1/5; 72/90] START criterion=entropy, max_depth=7, min_samples_split=5, n_estimators=500\n"
     ]
    },
    {
     "name": "stdout",
     "output_type": "stream",
     "text": [
      "[CV 1/5; 72/90] END criterion=entropy, max_depth=7, min_samples_split=5, n_estimators=500;, score=0.797 total time=   0.3s\n",
      "[CV 2/5; 72/90] START criterion=entropy, max_depth=7, min_samples_split=5, n_estimators=500\n",
      "[CV 2/5; 72/90] END criterion=entropy, max_depth=7, min_samples_split=5, n_estimators=500;, score=0.810 total time=   0.3s\n",
      "[CV 3/5; 72/90] START criterion=entropy, max_depth=7, min_samples_split=5, n_estimators=500\n",
      "[CV 3/5; 72/90] END criterion=entropy, max_depth=7, min_samples_split=5, n_estimators=500;, score=0.821 total time=   0.3s\n",
      "[CV 4/5; 72/90] START criterion=entropy, max_depth=7, min_samples_split=5, n_estimators=500\n",
      "[CV 4/5; 72/90] END criterion=entropy, max_depth=7, min_samples_split=5, n_estimators=500;, score=0.848 total time=   0.3s\n",
      "[CV 5/5; 72/90] START criterion=entropy, max_depth=7, min_samples_split=5, n_estimators=500\n",
      "[CV 5/5; 72/90] END criterion=entropy, max_depth=7, min_samples_split=5, n_estimators=500;, score=0.739 total time=   0.3s\n",
      "[CV 1/5; 73/90] START criterion=entropy, max_depth=9, min_samples_split=2, n_estimators=100\n",
      "[CV 1/5; 73/90] END criterion=entropy, max_depth=9, min_samples_split=2, n_estimators=100;, score=0.802 total time=   0.0s\n",
      "[CV 2/5; 73/90] START criterion=entropy, max_depth=9, min_samples_split=2, n_estimators=100\n",
      "[CV 2/5; 73/90] END criterion=entropy, max_depth=9, min_samples_split=2, n_estimators=100;, score=0.808 total time=   0.0s\n",
      "[CV 3/5; 73/90] START criterion=entropy, max_depth=9, min_samples_split=2, n_estimators=100\n",
      "[CV 3/5; 73/90] END criterion=entropy, max_depth=9, min_samples_split=2, n_estimators=100;, score=0.802 total time=   0.0s\n",
      "[CV 4/5; 73/90] START criterion=entropy, max_depth=9, min_samples_split=2, n_estimators=100\n",
      "[CV 4/5; 73/90] END criterion=entropy, max_depth=9, min_samples_split=2, n_estimators=100;, score=0.835 total time=   0.0s\n",
      "[CV 5/5; 73/90] START criterion=entropy, max_depth=9, min_samples_split=2, n_estimators=100\n",
      "[CV 5/5; 73/90] END criterion=entropy, max_depth=9, min_samples_split=2, n_estimators=100;, score=0.728 total time=   0.0s\n",
      "[CV 1/5; 74/90] START criterion=entropy, max_depth=9, min_samples_split=2, n_estimators=300\n",
      "[CV 1/5; 74/90] END criterion=entropy, max_depth=9, min_samples_split=2, n_estimators=300;, score=0.785 total time=   0.2s\n",
      "[CV 2/5; 74/90] START criterion=entropy, max_depth=9, min_samples_split=2, n_estimators=300\n",
      "[CV 2/5; 74/90] END criterion=entropy, max_depth=9, min_samples_split=2, n_estimators=300;, score=0.816 total time=   0.2s\n",
      "[CV 3/5; 74/90] START criterion=entropy, max_depth=9, min_samples_split=2, n_estimators=300\n",
      "[CV 3/5; 74/90] END criterion=entropy, max_depth=9, min_samples_split=2, n_estimators=300;, score=0.802 total time=   0.2s\n",
      "[CV 4/5; 74/90] START criterion=entropy, max_depth=9, min_samples_split=2, n_estimators=300\n",
      "[CV 4/5; 74/90] END criterion=entropy, max_depth=9, min_samples_split=2, n_estimators=300;, score=0.842 total time=   0.2s\n",
      "[CV 5/5; 74/90] START criterion=entropy, max_depth=9, min_samples_split=2, n_estimators=300\n",
      "[CV 5/5; 74/90] END criterion=entropy, max_depth=9, min_samples_split=2, n_estimators=300;, score=0.732 total time=   0.2s\n",
      "[CV 1/5; 75/90] START criterion=entropy, max_depth=9, min_samples_split=2, n_estimators=500\n",
      "[CV 1/5; 75/90] END criterion=entropy, max_depth=9, min_samples_split=2, n_estimators=500;, score=0.777 total time=   0.3s\n",
      "[CV 2/5; 75/90] START criterion=entropy, max_depth=9, min_samples_split=2, n_estimators=500\n",
      "[CV 2/5; 75/90] END criterion=entropy, max_depth=9, min_samples_split=2, n_estimators=500;, score=0.810 total time=   0.3s\n",
      "[CV 3/5; 75/90] START criterion=entropy, max_depth=9, min_samples_split=2, n_estimators=500\n",
      "[CV 3/5; 75/90] END criterion=entropy, max_depth=9, min_samples_split=2, n_estimators=500;, score=0.816 total time=   0.3s\n",
      "[CV 4/5; 75/90] START criterion=entropy, max_depth=9, min_samples_split=2, n_estimators=500\n",
      "[CV 4/5; 75/90] END criterion=entropy, max_depth=9, min_samples_split=2, n_estimators=500;, score=0.853 total time=   0.3s\n",
      "[CV 5/5; 75/90] START criterion=entropy, max_depth=9, min_samples_split=2, n_estimators=500\n",
      "[CV 5/5; 75/90] END criterion=entropy, max_depth=9, min_samples_split=2, n_estimators=500;, score=0.725 total time=   0.3s\n",
      "[CV 1/5; 76/90] START criterion=entropy, max_depth=9, min_samples_split=3, n_estimators=100\n",
      "[CV 1/5; 76/90] END criterion=entropy, max_depth=9, min_samples_split=3, n_estimators=100;, score=0.773 total time=   0.0s\n",
      "[CV 2/5; 76/90] START criterion=entropy, max_depth=9, min_samples_split=3, n_estimators=100\n",
      "[CV 2/5; 76/90] END criterion=entropy, max_depth=9, min_samples_split=3, n_estimators=100;, score=0.807 total time=   0.0s\n",
      "[CV 3/5; 76/90] START criterion=entropy, max_depth=9, min_samples_split=3, n_estimators=100\n",
      "[CV 3/5; 76/90] END criterion=entropy, max_depth=9, min_samples_split=3, n_estimators=100;, score=0.786 total time=   0.0s\n",
      "[CV 4/5; 76/90] START criterion=entropy, max_depth=9, min_samples_split=3, n_estimators=100\n",
      "[CV 4/5; 76/90] END criterion=entropy, max_depth=9, min_samples_split=3, n_estimators=100;, score=0.844 total time=   0.0s\n",
      "[CV 5/5; 76/90] START criterion=entropy, max_depth=9, min_samples_split=3, n_estimators=100\n",
      "[CV 5/5; 76/90] END criterion=entropy, max_depth=9, min_samples_split=3, n_estimators=100;, score=0.732 total time=   0.0s\n",
      "[CV 1/5; 77/90] START criterion=entropy, max_depth=9, min_samples_split=3, n_estimators=300\n",
      "[CV 1/5; 77/90] END criterion=entropy, max_depth=9, min_samples_split=3, n_estimators=300;, score=0.793 total time=   0.2s\n",
      "[CV 2/5; 77/90] START criterion=entropy, max_depth=9, min_samples_split=3, n_estimators=300\n",
      "[CV 2/5; 77/90] END criterion=entropy, max_depth=9, min_samples_split=3, n_estimators=300;, score=0.806 total time=   0.2s\n",
      "[CV 3/5; 77/90] START criterion=entropy, max_depth=9, min_samples_split=3, n_estimators=300\n",
      "[CV 3/5; 77/90] END criterion=entropy, max_depth=9, min_samples_split=3, n_estimators=300;, score=0.796 total time=   0.2s\n",
      "[CV 4/5; 77/90] START criterion=entropy, max_depth=9, min_samples_split=3, n_estimators=300\n",
      "[CV 4/5; 77/90] END criterion=entropy, max_depth=9, min_samples_split=3, n_estimators=300;, score=0.852 total time=   0.2s\n",
      "[CV 5/5; 77/90] START criterion=entropy, max_depth=9, min_samples_split=3, n_estimators=300\n",
      "[CV 5/5; 77/90] END criterion=entropy, max_depth=9, min_samples_split=3, n_estimators=300;, score=0.733 total time=   0.2s\n",
      "[CV 1/5; 78/90] START criterion=entropy, max_depth=9, min_samples_split=3, n_estimators=500\n",
      "[CV 1/5; 78/90] END criterion=entropy, max_depth=9, min_samples_split=3, n_estimators=500;, score=0.792 total time=   0.3s\n",
      "[CV 2/5; 78/90] START criterion=entropy, max_depth=9, min_samples_split=3, n_estimators=500\n",
      "[CV 2/5; 78/90] END criterion=entropy, max_depth=9, min_samples_split=3, n_estimators=500;, score=0.814 total time=   0.3s\n",
      "[CV 3/5; 78/90] START criterion=entropy, max_depth=9, min_samples_split=3, n_estimators=500\n",
      "[CV 3/5; 78/90] END criterion=entropy, max_depth=9, min_samples_split=3, n_estimators=500;, score=0.817 total time=   0.3s\n",
      "[CV 4/5; 78/90] START criterion=entropy, max_depth=9, min_samples_split=3, n_estimators=500\n",
      "[CV 4/5; 78/90] END criterion=entropy, max_depth=9, min_samples_split=3, n_estimators=500;, score=0.858 total time=   0.4s\n",
      "[CV 5/5; 78/90] START criterion=entropy, max_depth=9, min_samples_split=3, n_estimators=500\n",
      "[CV 5/5; 78/90] END criterion=entropy, max_depth=9, min_samples_split=3, n_estimators=500;, score=0.725 total time=   0.4s\n",
      "[CV 1/5; 79/90] START criterion=entropy, max_depth=9, min_samples_split=5, n_estimators=100\n",
      "[CV 1/5; 79/90] END criterion=entropy, max_depth=9, min_samples_split=5, n_estimators=100;, score=0.775 total time=   0.0s\n",
      "[CV 2/5; 79/90] START criterion=entropy, max_depth=9, min_samples_split=5, n_estimators=100\n",
      "[CV 2/5; 79/90] END criterion=entropy, max_depth=9, min_samples_split=5, n_estimators=100;, score=0.816 total time=   0.0s\n",
      "[CV 3/5; 79/90] START criterion=entropy, max_depth=9, min_samples_split=5, n_estimators=100\n",
      "[CV 3/5; 79/90] END criterion=entropy, max_depth=9, min_samples_split=5, n_estimators=100;, score=0.787 total time=   0.0s\n",
      "[CV 4/5; 79/90] START criterion=entropy, max_depth=9, min_samples_split=5, n_estimators=100\n",
      "[CV 4/5; 79/90] END criterion=entropy, max_depth=9, min_samples_split=5, n_estimators=100;, score=0.841 total time=   0.0s\n",
      "[CV 5/5; 79/90] START criterion=entropy, max_depth=9, min_samples_split=5, n_estimators=100\n",
      "[CV 5/5; 79/90] END criterion=entropy, max_depth=9, min_samples_split=5, n_estimators=100;, score=0.748 total time=   0.0s\n",
      "[CV 1/5; 80/90] START criterion=entropy, max_depth=9, min_samples_split=5, n_estimators=300\n"
     ]
    },
    {
     "name": "stdout",
     "output_type": "stream",
     "text": [
      "[CV 1/5; 80/90] END criterion=entropy, max_depth=9, min_samples_split=5, n_estimators=300;, score=0.800 total time=   0.2s\n",
      "[CV 2/5; 80/90] START criterion=entropy, max_depth=9, min_samples_split=5, n_estimators=300\n",
      "[CV 2/5; 80/90] END criterion=entropy, max_depth=9, min_samples_split=5, n_estimators=300;, score=0.811 total time=   0.2s\n",
      "[CV 3/5; 80/90] START criterion=entropy, max_depth=9, min_samples_split=5, n_estimators=300\n",
      "[CV 3/5; 80/90] END criterion=entropy, max_depth=9, min_samples_split=5, n_estimators=300;, score=0.798 total time=   0.2s\n",
      "[CV 4/5; 80/90] START criterion=entropy, max_depth=9, min_samples_split=5, n_estimators=300\n",
      "[CV 4/5; 80/90] END criterion=entropy, max_depth=9, min_samples_split=5, n_estimators=300;, score=0.840 total time=   0.2s\n",
      "[CV 5/5; 80/90] START criterion=entropy, max_depth=9, min_samples_split=5, n_estimators=300\n",
      "[CV 5/5; 80/90] END criterion=entropy, max_depth=9, min_samples_split=5, n_estimators=300;, score=0.727 total time=   0.2s\n",
      "[CV 1/5; 81/90] START criterion=entropy, max_depth=9, min_samples_split=5, n_estimators=500\n",
      "[CV 1/5; 81/90] END criterion=entropy, max_depth=9, min_samples_split=5, n_estimators=500;, score=0.801 total time=   0.3s\n",
      "[CV 2/5; 81/90] START criterion=entropy, max_depth=9, min_samples_split=5, n_estimators=500\n",
      "[CV 2/5; 81/90] END criterion=entropy, max_depth=9, min_samples_split=5, n_estimators=500;, score=0.812 total time=   0.3s\n",
      "[CV 3/5; 81/90] START criterion=entropy, max_depth=9, min_samples_split=5, n_estimators=500\n",
      "[CV 3/5; 81/90] END criterion=entropy, max_depth=9, min_samples_split=5, n_estimators=500;, score=0.811 total time=   0.4s\n",
      "[CV 4/5; 81/90] START criterion=entropy, max_depth=9, min_samples_split=5, n_estimators=500\n",
      "[CV 4/5; 81/90] END criterion=entropy, max_depth=9, min_samples_split=5, n_estimators=500;, score=0.848 total time=   0.3s\n",
      "[CV 5/5; 81/90] START criterion=entropy, max_depth=9, min_samples_split=5, n_estimators=500\n",
      "[CV 5/5; 81/90] END criterion=entropy, max_depth=9, min_samples_split=5, n_estimators=500;, score=0.731 total time=   0.3s\n",
      "[CV 1/5; 82/90] START criterion=entropy, max_depth=11, min_samples_split=2, n_estimators=100\n",
      "[CV 1/5; 82/90] END criterion=entropy, max_depth=11, min_samples_split=2, n_estimators=100;, score=0.782 total time=   0.0s\n",
      "[CV 2/5; 82/90] START criterion=entropy, max_depth=11, min_samples_split=2, n_estimators=100\n",
      "[CV 2/5; 82/90] END criterion=entropy, max_depth=11, min_samples_split=2, n_estimators=100;, score=0.784 total time=   0.0s\n",
      "[CV 3/5; 82/90] START criterion=entropy, max_depth=11, min_samples_split=2, n_estimators=100\n",
      "[CV 3/5; 82/90] END criterion=entropy, max_depth=11, min_samples_split=2, n_estimators=100;, score=0.803 total time=   0.0s\n",
      "[CV 4/5; 82/90] START criterion=entropy, max_depth=11, min_samples_split=2, n_estimators=100\n",
      "[CV 4/5; 82/90] END criterion=entropy, max_depth=11, min_samples_split=2, n_estimators=100;, score=0.845 total time=   0.0s\n",
      "[CV 5/5; 82/90] START criterion=entropy, max_depth=11, min_samples_split=2, n_estimators=100\n",
      "[CV 5/5; 82/90] END criterion=entropy, max_depth=11, min_samples_split=2, n_estimators=100;, score=0.744 total time=   0.0s\n",
      "[CV 1/5; 83/90] START criterion=entropy, max_depth=11, min_samples_split=2, n_estimators=300\n",
      "[CV 1/5; 83/90] END criterion=entropy, max_depth=11, min_samples_split=2, n_estimators=300;, score=0.783 total time=   0.2s\n",
      "[CV 2/5; 83/90] START criterion=entropy, max_depth=11, min_samples_split=2, n_estimators=300\n",
      "[CV 2/5; 83/90] END criterion=entropy, max_depth=11, min_samples_split=2, n_estimators=300;, score=0.801 total time=   0.2s\n",
      "[CV 3/5; 83/90] START criterion=entropy, max_depth=11, min_samples_split=2, n_estimators=300\n",
      "[CV 3/5; 83/90] END criterion=entropy, max_depth=11, min_samples_split=2, n_estimators=300;, score=0.801 total time=   0.2s\n",
      "[CV 4/5; 83/90] START criterion=entropy, max_depth=11, min_samples_split=2, n_estimators=300\n",
      "[CV 4/5; 83/90] END criterion=entropy, max_depth=11, min_samples_split=2, n_estimators=300;, score=0.851 total time=   0.2s\n",
      "[CV 5/5; 83/90] START criterion=entropy, max_depth=11, min_samples_split=2, n_estimators=300\n",
      "[CV 5/5; 83/90] END criterion=entropy, max_depth=11, min_samples_split=2, n_estimators=300;, score=0.729 total time=   0.2s\n",
      "[CV 1/5; 84/90] START criterion=entropy, max_depth=11, min_samples_split=2, n_estimators=500\n",
      "[CV 1/5; 84/90] END criterion=entropy, max_depth=11, min_samples_split=2, n_estimators=500;, score=0.790 total time=   0.3s\n",
      "[CV 2/5; 84/90] START criterion=entropy, max_depth=11, min_samples_split=2, n_estimators=500\n",
      "[CV 2/5; 84/90] END criterion=entropy, max_depth=11, min_samples_split=2, n_estimators=500;, score=0.805 total time=   0.3s\n",
      "[CV 3/5; 84/90] START criterion=entropy, max_depth=11, min_samples_split=2, n_estimators=500\n",
      "[CV 3/5; 84/90] END criterion=entropy, max_depth=11, min_samples_split=2, n_estimators=500;, score=0.812 total time=   0.3s\n",
      "[CV 4/5; 84/90] START criterion=entropy, max_depth=11, min_samples_split=2, n_estimators=500\n",
      "[CV 4/5; 84/90] END criterion=entropy, max_depth=11, min_samples_split=2, n_estimators=500;, score=0.865 total time=   0.3s\n",
      "[CV 5/5; 84/90] START criterion=entropy, max_depth=11, min_samples_split=2, n_estimators=500\n",
      "[CV 5/5; 84/90] END criterion=entropy, max_depth=11, min_samples_split=2, n_estimators=500;, score=0.733 total time=   0.3s\n",
      "[CV 1/5; 85/90] START criterion=entropy, max_depth=11, min_samples_split=3, n_estimators=100\n",
      "[CV 1/5; 85/90] END criterion=entropy, max_depth=11, min_samples_split=3, n_estimators=100;, score=0.788 total time=   0.0s\n",
      "[CV 2/5; 85/90] START criterion=entropy, max_depth=11, min_samples_split=3, n_estimators=100\n",
      "[CV 2/5; 85/90] END criterion=entropy, max_depth=11, min_samples_split=3, n_estimators=100;, score=0.805 total time=   0.0s\n",
      "[CV 3/5; 85/90] START criterion=entropy, max_depth=11, min_samples_split=3, n_estimators=100\n",
      "[CV 3/5; 85/90] END criterion=entropy, max_depth=11, min_samples_split=3, n_estimators=100;, score=0.812 total time=   0.0s\n",
      "[CV 4/5; 85/90] START criterion=entropy, max_depth=11, min_samples_split=3, n_estimators=100\n",
      "[CV 4/5; 85/90] END criterion=entropy, max_depth=11, min_samples_split=3, n_estimators=100;, score=0.870 total time=   0.0s\n",
      "[CV 5/5; 85/90] START criterion=entropy, max_depth=11, min_samples_split=3, n_estimators=100\n",
      "[CV 5/5; 85/90] END criterion=entropy, max_depth=11, min_samples_split=3, n_estimators=100;, score=0.729 total time=   0.0s\n",
      "[CV 1/5; 86/90] START criterion=entropy, max_depth=11, min_samples_split=3, n_estimators=300\n",
      "[CV 1/5; 86/90] END criterion=entropy, max_depth=11, min_samples_split=3, n_estimators=300;, score=0.792 total time=   0.2s\n",
      "[CV 2/5; 86/90] START criterion=entropy, max_depth=11, min_samples_split=3, n_estimators=300\n",
      "[CV 2/5; 86/90] END criterion=entropy, max_depth=11, min_samples_split=3, n_estimators=300;, score=0.808 total time=   0.2s\n",
      "[CV 3/5; 86/90] START criterion=entropy, max_depth=11, min_samples_split=3, n_estimators=300\n",
      "[CV 3/5; 86/90] END criterion=entropy, max_depth=11, min_samples_split=3, n_estimators=300;, score=0.817 total time=   0.2s\n",
      "[CV 4/5; 86/90] START criterion=entropy, max_depth=11, min_samples_split=3, n_estimators=300\n",
      "[CV 4/5; 86/90] END criterion=entropy, max_depth=11, min_samples_split=3, n_estimators=300;, score=0.869 total time=   0.2s\n",
      "[CV 5/5; 86/90] START criterion=entropy, max_depth=11, min_samples_split=3, n_estimators=300\n",
      "[CV 5/5; 86/90] END criterion=entropy, max_depth=11, min_samples_split=3, n_estimators=300;, score=0.731 total time=   0.2s\n",
      "[CV 1/5; 87/90] START criterion=entropy, max_depth=11, min_samples_split=3, n_estimators=500\n",
      "[CV 1/5; 87/90] END criterion=entropy, max_depth=11, min_samples_split=3, n_estimators=500;, score=0.785 total time=   0.3s\n",
      "[CV 2/5; 87/90] START criterion=entropy, max_depth=11, min_samples_split=3, n_estimators=500\n",
      "[CV 2/5; 87/90] END criterion=entropy, max_depth=11, min_samples_split=3, n_estimators=500;, score=0.813 total time=   0.3s\n",
      "[CV 3/5; 87/90] START criterion=entropy, max_depth=11, min_samples_split=3, n_estimators=500\n",
      "[CV 3/5; 87/90] END criterion=entropy, max_depth=11, min_samples_split=3, n_estimators=500;, score=0.824 total time=   0.3s\n",
      "[CV 4/5; 87/90] START criterion=entropy, max_depth=11, min_samples_split=3, n_estimators=500\n"
     ]
    },
    {
     "name": "stdout",
     "output_type": "stream",
     "text": [
      "[CV 4/5; 87/90] END criterion=entropy, max_depth=11, min_samples_split=3, n_estimators=500;, score=0.871 total time=   0.3s\n",
      "[CV 5/5; 87/90] START criterion=entropy, max_depth=11, min_samples_split=3, n_estimators=500\n",
      "[CV 5/5; 87/90] END criterion=entropy, max_depth=11, min_samples_split=3, n_estimators=500;, score=0.732 total time=   0.3s\n",
      "[CV 1/5; 88/90] START criterion=entropy, max_depth=11, min_samples_split=5, n_estimators=100\n",
      "[CV 1/5; 88/90] END criterion=entropy, max_depth=11, min_samples_split=5, n_estimators=100;, score=0.777 total time=   0.0s\n",
      "[CV 2/5; 88/90] START criterion=entropy, max_depth=11, min_samples_split=5, n_estimators=100\n",
      "[CV 2/5; 88/90] END criterion=entropy, max_depth=11, min_samples_split=5, n_estimators=100;, score=0.814 total time=   0.0s\n",
      "[CV 3/5; 88/90] START criterion=entropy, max_depth=11, min_samples_split=5, n_estimators=100\n",
      "[CV 3/5; 88/90] END criterion=entropy, max_depth=11, min_samples_split=5, n_estimators=100;, score=0.786 total time=   0.0s\n",
      "[CV 4/5; 88/90] START criterion=entropy, max_depth=11, min_samples_split=5, n_estimators=100\n",
      "[CV 4/5; 88/90] END criterion=entropy, max_depth=11, min_samples_split=5, n_estimators=100;, score=0.829 total time=   0.0s\n",
      "[CV 5/5; 88/90] START criterion=entropy, max_depth=11, min_samples_split=5, n_estimators=100\n",
      "[CV 5/5; 88/90] END criterion=entropy, max_depth=11, min_samples_split=5, n_estimators=100;, score=0.733 total time=   0.0s\n",
      "[CV 1/5; 89/90] START criterion=entropy, max_depth=11, min_samples_split=5, n_estimators=300\n",
      "[CV 1/5; 89/90] END criterion=entropy, max_depth=11, min_samples_split=5, n_estimators=300;, score=0.796 total time=   0.2s\n",
      "[CV 2/5; 89/90] START criterion=entropy, max_depth=11, min_samples_split=5, n_estimators=300\n",
      "[CV 2/5; 89/90] END criterion=entropy, max_depth=11, min_samples_split=5, n_estimators=300;, score=0.809 total time=   0.2s\n",
      "[CV 3/5; 89/90] START criterion=entropy, max_depth=11, min_samples_split=5, n_estimators=300\n",
      "[CV 3/5; 89/90] END criterion=entropy, max_depth=11, min_samples_split=5, n_estimators=300;, score=0.800 total time=   0.2s\n",
      "[CV 4/5; 89/90] START criterion=entropy, max_depth=11, min_samples_split=5, n_estimators=300\n",
      "[CV 4/5; 89/90] END criterion=entropy, max_depth=11, min_samples_split=5, n_estimators=300;, score=0.850 total time=   0.2s\n",
      "[CV 5/5; 89/90] START criterion=entropy, max_depth=11, min_samples_split=5, n_estimators=300\n",
      "[CV 5/5; 89/90] END criterion=entropy, max_depth=11, min_samples_split=5, n_estimators=300;, score=0.731 total time=   0.2s\n",
      "[CV 1/5; 90/90] START criterion=entropy, max_depth=11, min_samples_split=5, n_estimators=500\n",
      "[CV 1/5; 90/90] END criterion=entropy, max_depth=11, min_samples_split=5, n_estimators=500;, score=0.790 total time=   0.3s\n",
      "[CV 2/5; 90/90] START criterion=entropy, max_depth=11, min_samples_split=5, n_estimators=500\n",
      "[CV 2/5; 90/90] END criterion=entropy, max_depth=11, min_samples_split=5, n_estimators=500;, score=0.810 total time=   0.3s\n",
      "[CV 3/5; 90/90] START criterion=entropy, max_depth=11, min_samples_split=5, n_estimators=500\n",
      "[CV 3/5; 90/90] END criterion=entropy, max_depth=11, min_samples_split=5, n_estimators=500;, score=0.818 total time=   0.3s\n",
      "[CV 4/5; 90/90] START criterion=entropy, max_depth=11, min_samples_split=5, n_estimators=500\n",
      "[CV 4/5; 90/90] END criterion=entropy, max_depth=11, min_samples_split=5, n_estimators=500;, score=0.857 total time=   0.3s\n",
      "[CV 5/5; 90/90] START criterion=entropy, max_depth=11, min_samples_split=5, n_estimators=500\n",
      "[CV 5/5; 90/90] END criterion=entropy, max_depth=11, min_samples_split=5, n_estimators=500;, score=0.739 total time=   0.3s\n"
     ]
    },
    {
     "data": {
      "text/plain": [
       "GridSearchCV(cv=5,\n",
       "             estimator=RandomForestClassifier(n_jobs=2, random_state=61658),\n",
       "             param_grid={'criterion': ['gini', 'entropy'],\n",
       "                         'max_depth': [3, 5, 7, 9, 11],\n",
       "                         'min_samples_split': [2, 3, 5],\n",
       "                         'n_estimators': [100, 300, 500]},\n",
       "             scoring='roc_auc', verbose=10)"
      ]
     },
     "execution_count": 76,
     "metadata": {},
     "output_type": "execute_result"
    }
   ],
   "source": [
    "model_1.fit(X_tr, y_tr)"
   ]
  },
  {
   "cell_type": "code",
   "execution_count": 77,
   "id": "42979ea0",
   "metadata": {},
   "outputs": [
    {
     "data": {
      "text/plain": [
       "{'criterion': 'gini',\n",
       " 'max_depth': 9,\n",
       " 'min_samples_split': 2,\n",
       " 'n_estimators': 100}"
      ]
     },
     "execution_count": 77,
     "metadata": {},
     "output_type": "execute_result"
    }
   ],
   "source": [
    "# Melhores parâmetros para o Modelo\n",
    "model_1.best_params_"
   ]
  },
  {
   "cell_type": "code",
   "execution_count": 78,
   "id": "3ce17648",
   "metadata": {},
   "outputs": [
    {
     "name": "stdout",
     "output_type": "stream",
     "text": [
      "Credit_History                , 0.30\n",
      "razao_renda_total             , 0.17\n",
      "ApplicantIncome               , 0.14\n",
      "LoanAmount                    , 0.12\n",
      "CoapplicantIncome             , 0.09\n",
      "Dependents                    , 0.04\n",
      "Loan_Amount_Term              , 0.04\n",
      "Education                     , 0.02\n",
      "Semiurban                     , 0.02\n",
      "Married                       , 0.02\n",
      "Rural                         , 0.01\n",
      "Self_Employed                 , 0.01\n",
      "Urban                         , 0.01\n",
      "Gender                        , 0.01\n"
     ]
    }
   ],
   "source": [
    "#Importancia de variáveis\n",
    "imps = model_1.best_estimator_.feature_importances_\n",
    "cols = X_tr.columns\n",
    "order = np.argsort(imps)[::-1]\n",
    "\n",
    "for col, imp in zip(cols[order], imps[order]):\n",
    "    print(f'{col:30s}, {imp:.2f}')"
   ]
  },
  {
   "cell_type": "code",
   "execution_count": 79,
   "id": "c1a2902f",
   "metadata": {},
   "outputs": [
    {
     "name": "stdout",
     "output_type": "stream",
     "text": [
      "0.8088803088803089\n"
     ]
    }
   ],
   "source": [
    "#Métricas de Avaliação do Modelo\n",
    "\n",
    "pred_v1 = model_1.predict_proba(X_ts)[:,1]\n",
    "\n",
    "roc_auc_v1 = roc_auc_score(y_ts, pred_v1)\n",
    "print(roc_auc_v1)"
   ]
  },
  {
   "cell_type": "code",
   "execution_count": 80,
   "id": "7725ce1e",
   "metadata": {},
   "outputs": [
    {
     "name": "stdout",
     "output_type": "stream",
     "text": [
      "0.8088803088803089\n"
     ]
    }
   ],
   "source": [
    "#ROC nos dados e previsões em teste\n",
    "fpr_1, tpr_1, thresholds = roc_curve(y_ts, pred_v1)\n",
    "\n",
    "#AUC Score\n",
    "auc_v1 = auc(fpr_1,tpr_1)\n",
    "print(auc_v1)\n"
   ]
  },
  {
   "cell_type": "code",
   "execution_count": 81,
   "id": "7b7b24e7",
   "metadata": {},
   "outputs": [
    {
     "name": "stdout",
     "output_type": "stream",
     "text": [
      "0.8657718120805369\n"
     ]
    }
   ],
   "source": [
    "#Acuracia\n",
    "\n",
    "y_pred_v1 = model_1.predict(X_ts)\n",
    "acuracia_v1 = accuracy_score(y_ts, y_pred_v1)\n",
    "print(acuracia_v1)"
   ]
  },
  {
   "cell_type": "code",
   "execution_count": 82,
   "id": "4d7c243e",
   "metadata": {},
   "outputs": [
    {
     "name": "stdout",
     "output_type": "stream",
     "text": [
      "A sensibilidade do modelo é 0.9732\n"
     ]
    }
   ],
   "source": [
    "#Recall do Modelo_1\n",
    "recall_1 = recall_score(y_ts, y_pred_v1)\n",
    "\n",
    "print(f\"A sensibilidade do modelo é {round(recall_1,4)}\")"
   ]
  },
  {
   "cell_type": "code",
   "execution_count": 83,
   "id": "dc4d249f",
   "metadata": {},
   "outputs": [],
   "source": [
    "#Dicionário com as métricas do modelo 1\n",
    "dict_model_v1 = {\n",
    "    'Nome' : 'Modelo_1',\n",
    "    'Algoritmo' : 'Random Forest',\n",
    "    'Roc_AUC_Score' : roc_auc_v1,\n",
    "    'Auc Score' : auc_v1,\n",
    "    'Acurácia' : acuracia_v1,\n",
    "    'Recall' : recall_1\n",
    "    \n",
    "}"
   ]
  },
  {
   "cell_type": "code",
   "execution_count": 84,
   "id": "2c891085",
   "metadata": {},
   "outputs": [
    {
     "data": {
      "image/png": "[encoded data removed]",
      "text/plain": [
       "<Figure size 1500x900 with 1 Axes>"
      ]
     },
     "metadata": {},
     "output_type": "display_data"
    }
   ],
   "source": [
    "plt.figure(figsize = (15,9))\n",
    "plt.hist(pred_v1[y_ts == 0], bins = np.linspace(0,1,30), density = True, color = 'b', alpha = .3, rwidth = 0.9)\n",
    "plt.hist(pred_v1[y_ts == 1], bins = np.linspace(0,1,30), density = True, color = 'r', alpha = .3, rwidth = 0.9);"
   ]
  },
  {
   "cell_type": "markdown",
   "id": "d064bfd7",
   "metadata": {},
   "source": [
    "### Construção do Modelo 2 de Machine Learning para comparação com o modelo de benchmark"
   ]
  },
  {
   "cell_type": "code",
   "execution_count": 85,
   "id": "6dffbbaa",
   "metadata": {},
   "outputs": [],
   "source": [
    "#Importando o C-Support Vector Classification\n",
    "from sklearn.svm import SVC\n",
    "\n",
    "params_2 = { 'C' : np.linspace(0.1, 10, 20),\n",
    "           'gamma' : np.linspace(0.1, 5, 20),\n",
    "           'class_weight': [None,'balanced']\n",
    "    }\n",
    "svc = SVC(kernel = 'rbf', probability = True, random_state = 61658)\n",
    "\n"
   ]
  },
  {
   "cell_type": "code",
   "execution_count": 86,
   "id": "26048f08",
   "metadata": {},
   "outputs": [],
   "source": [
    "model_2 = GridSearchCV(svc,params_2, cv=5, scoring='roc_auc', verbose=10, n_jobs=2)"
   ]
  },
  {
   "cell_type": "code",
   "execution_count": 87,
   "id": "f93475cf",
   "metadata": {},
   "outputs": [
    {
     "name": "stdout",
     "output_type": "stream",
     "text": [
      "Fitting 5 folds for each of 800 candidates, totalling 4000 fits\n"
     ]
    },
    {
     "data": {
      "text/plain": [
       "GridSearchCV(cv=5, estimator=SVC(probability=True, random_state=61658),\n",
       "             n_jobs=2,\n",
       "             param_grid={'C': array([ 0.1       ,  0.62105263,  1.14210526,  1.66315789,  2.18421053,\n",
       "        2.70526316,  3.22631579,  3.74736842,  4.26842105,  4.78947368,\n",
       "        5.31052632,  5.83157895,  6.35263158,  6.87368421,  7.39473684,\n",
       "        7.91578947,  8.43684211,  8.95789474,  9.47894737, 10.        ]),\n",
       "                         'class_weight': [None, 'balanced'],\n",
       "                         'gamma': array([0.1       , 0.35789474, 0.61578947, 0.87368421, 1.13157895,\n",
       "       1.38947368, 1.64736842, 1.90526316, 2.16315789, 2.42105263,\n",
       "       2.67894737, 2.93684211, 3.19473684, 3.45263158, 3.71052632,\n",
       "       3.96842105, 4.22631579, 4.48421053, 4.74210526, 5.        ])},\n",
       "             scoring='roc_auc', verbose=10)"
      ]
     },
     "execution_count": 87,
     "metadata": {},
     "output_type": "execute_result"
    }
   ],
   "source": [
    "model_2.fit(X_tr, y_tr)"
   ]
  },
  {
   "cell_type": "code",
   "execution_count": 88,
   "id": "fdb89d89",
   "metadata": {},
   "outputs": [
    {
     "data": {
      "text/plain": [
       "{'C': 10.0, 'class_weight': None, 'gamma': 0.1}"
      ]
     },
     "execution_count": 88,
     "metadata": {},
     "output_type": "execute_result"
    }
   ],
   "source": [
    "#Melhores parâmetros\n",
    "model_2.best_params_"
   ]
  },
  {
   "cell_type": "code",
   "execution_count": 89,
   "id": "c42a3653",
   "metadata": {},
   "outputs": [
    {
     "name": "stdout",
     "output_type": "stream",
     "text": [
      "0.7273166023166023\n"
     ]
    }
   ],
   "source": [
    "#Métricas de Avaliação do Modelo 2\n",
    "\n",
    "pred_v2 = model_2.predict_proba(X_ts)[:,1]\n",
    "\n",
    "roc_auc_v2 = roc_auc_score(y_ts, pred_v2)\n",
    "print(roc_auc_v2)"
   ]
  },
  {
   "cell_type": "code",
   "execution_count": 90,
   "id": "649d189c",
   "metadata": {},
   "outputs": [
    {
     "name": "stdout",
     "output_type": "stream",
     "text": [
      "0.7273166023166023\n"
     ]
    }
   ],
   "source": [
    "#ROC nos dados e previsões em teste\n",
    "\n",
    "fpr_2, tpr_2, thresholds = roc_curve(y_ts, pred_v2)\n",
    "\n",
    "# AUC Score\n",
    "auc_v2 = auc(fpr_2,tpr_2)\n",
    "print(auc_v2)"
   ]
  },
  {
   "cell_type": "code",
   "execution_count": 91,
   "id": "d77c8336",
   "metadata": {},
   "outputs": [
    {
     "name": "stdout",
     "output_type": "stream",
     "text": [
      "0.8523489932885906\n"
     ]
    }
   ],
   "source": [
    "#Acuracia\n",
    "y_pred_v2 = model_2.predict(X_ts)\n",
    "acuracia_v2 = accuracy_score(y_ts, y_pred_v2)\n",
    "print(acuracia_v2)"
   ]
  },
  {
   "cell_type": "code",
   "execution_count": 92,
   "id": "4141a2a7",
   "metadata": {},
   "outputs": [
    {
     "name": "stdout",
     "output_type": "stream",
     "text": [
      "A sensibilidade do modelo é 0.9732\n"
     ]
    }
   ],
   "source": [
    "#Recall do Modelo 2\n",
    "recall_2 = recall_score(y_ts, y_pred_v2)\n",
    "\n",
    "print(f\"A sensibilidade do modelo é {round(recall_2,4)}\")"
   ]
  },
  {
   "cell_type": "code",
   "execution_count": 93,
   "id": "43a53620",
   "metadata": {},
   "outputs": [],
   "source": [
    "#Dicionário com as métricas do modelo 2\n",
    "dict_model_v2 = {\n",
    "    'Nome' : 'Modelo_2',\n",
    "    'Algoritmo' : 'SVC',\n",
    "    'Roc_AUC_Score' : roc_auc_v2,\n",
    "    'Auc Score' : auc_v2,\n",
    "    'Acurácia' : acuracia_v2,\n",
    "    'Recall' : recall_2\n",
    "    \n",
    "}"
   ]
  },
  {
   "cell_type": "code",
   "execution_count": 94,
   "id": "02a8f54f",
   "metadata": {},
   "outputs": [
    {
     "data": {
      "image/png": "[encoded data removed]",
      "text/plain": [
       "<Figure size 1500x900 with 1 Axes>"
      ]
     },
     "metadata": {},
     "output_type": "display_data"
    }
   ],
   "source": [
    "pred_2 = model_2.predict_proba(X_ts)[:,1]\n",
    "\n",
    "plt.figure(figsize=(15,9))\n",
    "plt.hist(pred_2[y_ts==0],color='b',density=True,alpha=.3,rwidth=.8, bins=np.linspace(0,1,30))\n",
    "plt.hist(pred_2[y_ts==1],color='r',density=True,alpha=.3,rwidth=.8, bins=np.linspace(0,1,30));"
   ]
  },
  {
   "cell_type": "markdown",
   "id": "c16c2c07",
   "metadata": {},
   "source": [
    "### Construção do Modelo 3 de Machine Learning para comparação com o modelo de benchmark"
   ]
  },
  {
   "cell_type": "code",
   "execution_count": 95,
   "id": "bacad362",
   "metadata": {},
   "outputs": [],
   "source": [
    "from xgboost import XGBClassifier"
   ]
  },
  {
   "cell_type": "code",
   "execution_count": 96,
   "id": "8935429b",
   "metadata": {},
   "outputs": [],
   "source": [
    "params = { 'max_depth' : [2,3,5,7,9],\n",
    "          'n_estimators' :[50,100,150,200],\n",
    "          'learning_rate' : [0.05,0.1,0.15],\n",
    "          'reg_alpha' : [0.,0.05,0.1],\n",
    "          'reg_lambda' : [0,0.05,0.1]    \n",
    "}\n",
    "\n",
    "model_3 = GridSearchCV(\n",
    "    XGBClassifier(random_state = 61658),\n",
    "                       params,\n",
    "                       cv = 5,\n",
    "                       scoring = 'roc_auc',\n",
    "                       verbose = 10,\n",
    "                       n_jobs = 4)"
   ]
  },
  {
   "cell_type": "code",
   "execution_count": 97,
   "id": "6dbeec70",
   "metadata": {},
   "outputs": [
    {
     "name": "stdout",
     "output_type": "stream",
     "text": [
      "Fitting 5 folds for each of 540 candidates, totalling 2700 fits\n"
     ]
    },
    {
     "data": {
      "text/plain": [
       "GridSearchCV(cv=5,\n",
       "             estimator=XGBClassifier(base_score=None, booster=None,\n",
       "                                     callbacks=None, colsample_bylevel=None,\n",
       "                                     colsample_bynode=None,\n",
       "                                     colsample_bytree=None,\n",
       "                                     early_stopping_rounds=None,\n",
       "                                     enable_categorical=False, eval_metric=None,\n",
       "                                     feature_types=None, gamma=None,\n",
       "                                     gpu_id=None, grow_policy=None,\n",
       "                                     importance_type=None,\n",
       "                                     interaction_constraints=None,\n",
       "                                     learning_rate=None,...\n",
       "                                     max_leaves=None, min_child_weight=None,\n",
       "                                     missing=nan, monotone_constraints=None,\n",
       "                                     n_estimators=100, n_jobs=None,\n",
       "                                     num_parallel_tree=None, predictor=None,\n",
       "                                     random_state=61658, ...),\n",
       "             n_jobs=4,\n",
       "             param_grid={'learning_rate': [0.05, 0.1, 0.15],\n",
       "                         'max_depth': [2, 3, 5, 7, 9],\n",
       "                         'n_estimators': [50, 100, 150, 200],\n",
       "                         'reg_alpha': [0.0, 0.05, 0.1],\n",
       "                         'reg_lambda': [0, 0.05, 0.1]},\n",
       "             scoring='roc_auc', verbose=10)"
      ]
     },
     "execution_count": 97,
     "metadata": {},
     "output_type": "execute_result"
    }
   ],
   "source": [
    "#Treinando o modelo\n",
    "model_3.fit(X_tr, y_tr)"
   ]
  },
  {
   "cell_type": "code",
   "execution_count": 98,
   "id": "5edcfcf1",
   "metadata": {},
   "outputs": [
    {
     "data": {
      "text/plain": [
       "{'learning_rate': 0.05,\n",
       " 'max_depth': 2,\n",
       " 'n_estimators': 50,\n",
       " 'reg_alpha': 0.1,\n",
       " 'reg_lambda': 0.1}"
      ]
     },
     "execution_count": 98,
     "metadata": {},
     "output_type": "execute_result"
    }
   ],
   "source": [
    "#Melhores Parâmetros\n",
    "model_3.best_params_"
   ]
  },
  {
   "cell_type": "code",
   "execution_count": 99,
   "id": "3422300e",
   "metadata": {},
   "outputs": [
    {
     "name": "stdout",
     "output_type": "stream",
     "text": [
      "Credit_History                , 0.30\n",
      "razao_renda_total             , 0.17\n",
      "ApplicantIncome               , 0.14\n",
      "LoanAmount                    , 0.12\n",
      "CoapplicantIncome             , 0.09\n",
      "Dependents                    , 0.04\n",
      "Loan_Amount_Term              , 0.04\n",
      "Education                     , 0.02\n",
      "Semiurban                     , 0.02\n",
      "Married                       , 0.02\n",
      "Rural                         , 0.01\n",
      "Self_Employed                 , 0.01\n",
      "Urban                         , 0.01\n",
      "Gender                        , 0.01\n"
     ]
    }
   ],
   "source": [
    "#Importancia de variáveis\n",
    "imps3 = model_3.best_estimator_.feature_importances_\n",
    "cols3 = X_tr.columns\n",
    "order3 = np.argsort(imps)[::-1]\n",
    "\n",
    "for col3, imp3 in zip(cols[order3], imps[order3]):\n",
    "    print(f'{col3:30s}, {imp3:.2f}')"
   ]
  },
  {
   "cell_type": "code",
   "execution_count": 100,
   "id": "3cc3ac93",
   "metadata": {},
   "outputs": [
    {
     "name": "stdout",
     "output_type": "stream",
     "text": [
      "0.7825772200772201\n"
     ]
    }
   ],
   "source": [
    "#Métricas de Avaliação do Modelo 3\n",
    "\n",
    "pred_v3 = model_3.predict_proba(X_ts)[:,1]\n",
    "\n",
    "roc_auc_v3 = roc_auc_score(y_ts, pred_v3)\n",
    "print(roc_auc_v3)"
   ]
  },
  {
   "cell_type": "code",
   "execution_count": 101,
   "id": "fc6bc846",
   "metadata": {},
   "outputs": [
    {
     "name": "stdout",
     "output_type": "stream",
     "text": [
      "0.7825772200772201\n"
     ]
    }
   ],
   "source": [
    "#ROC nos dados e previsões em teste\n",
    "\n",
    "fpr_3, tpr_3, thresholds = roc_curve(y_ts, pred_v3)\n",
    "\n",
    "# AUC Score\n",
    "auc_v3 = auc(fpr_3,tpr_3)\n",
    "print(auc_v3)"
   ]
  },
  {
   "cell_type": "code",
   "execution_count": 102,
   "id": "dc7b7a2e",
   "metadata": {},
   "outputs": [
    {
     "name": "stdout",
     "output_type": "stream",
     "text": [
      "0.87248322147651\n"
     ]
    }
   ],
   "source": [
    "#Acuracia\n",
    "y_pred_v3 = model_3.predict(X_ts)\n",
    "acuracia_v3 = accuracy_score(y_ts, y_pred_v3)\n",
    "print(acuracia_v3)"
   ]
  },
  {
   "cell_type": "code",
   "execution_count": 103,
   "id": "36ac6691",
   "metadata": {},
   "outputs": [
    {
     "name": "stdout",
     "output_type": "stream",
     "text": [
      "A sensibilidade do modelo é 0.9911\n"
     ]
    }
   ],
   "source": [
    "#Recall do Modelo_3\n",
    "recall_3 = recall_score(y_ts, y_pred_v3)\n",
    "\n",
    "print(f\"A sensibilidade do modelo é {round(recall_3,4)}\")"
   ]
  },
  {
   "cell_type": "code",
   "execution_count": 104,
   "id": "7d128036",
   "metadata": {},
   "outputs": [],
   "source": [
    "#Dicionário com as métricas do modelo 3\n",
    "dict_model_v3 = {\n",
    "    'Nome' : 'Modelo_3',\n",
    "    'Algoritmo' : 'XG Boost',\n",
    "    'Roc_AUC_Score' : roc_auc_v3,\n",
    "    'Auc Score' : auc_v3,\n",
    "    'Acurácia' : acuracia_v3,\n",
    "    'Recall' : recall_3\n",
    "    \n",
    "}"
   ]
  },
  {
   "cell_type": "code",
   "execution_count": 105,
   "id": "6962e5c1",
   "metadata": {},
   "outputs": [
    {
     "data": {
      "image/png": "[encoded data removed]",
      "text/plain": [
       "<Figure size 1500x900 with 1 Axes>"
      ]
     },
     "metadata": {},
     "output_type": "display_data"
    }
   ],
   "source": [
    "plt.figure(figsize=(15,9))\n",
    "plt.hist(pred_v3[y_ts==0],color='b',density=True,alpha=.3,rwidth=.8, bins=np.linspace(0,1,30))\n",
    "plt.hist(pred_v3[y_ts==1],color='r',density=True,alpha=.3,rwidth=.8, bins=np.linspace(0,1,30));"
   ]
  },
  {
   "cell_type": "code",
   "execution_count": 106,
   "id": "93e84e4b",
   "metadata": {},
   "outputs": [],
   "source": [
    "# Adicionando os dicionarios a um dataframe\n",
    "modelos = modelos.append(dict_model_v1,ignore_index = True)\n",
    "modelos = modelos.append(dict_model_v2,ignore_index = True)\n",
    "modelos = modelos.append(dict_model_v3,ignore_index = True)"
   ]
  },
  {
   "cell_type": "code",
   "execution_count": 107,
   "id": "cdfbeb28",
   "metadata": {},
   "outputs": [
    {
     "data": {
      "text/html": [
       "<div>\n",
       "<style scoped>\n",
       "    .dataframe tbody tr th:only-of-type {\n",
       "        vertical-align: middle;\n",
       "    }\n",
       "\n",
       "    .dataframe tbody tr th {\n",
       "        vertical-align: top;\n",
       "    }\n",
       "\n",
       "    .dataframe thead th {\n",
       "        text-align: right;\n",
       "    }\n",
       "</style>\n",
       "<table border=\"1\" class=\"dataframe\">\n",
       "  <thead>\n",
       "    <tr style=\"text-align: right;\">\n",
       "      <th></th>\n",
       "      <th>Nome</th>\n",
       "      <th>Algoritmo</th>\n",
       "      <th>Roc_AUC_Score</th>\n",
       "      <th>Auc Score</th>\n",
       "      <th>Acurácia</th>\n",
       "      <th>Recall</th>\n",
       "    </tr>\n",
       "  </thead>\n",
       "  <tbody>\n",
       "    <tr>\n",
       "      <th>0</th>\n",
       "      <td>Modelo_1</td>\n",
       "      <td>Random Forest</td>\n",
       "      <td>0.808880</td>\n",
       "      <td>0.808880</td>\n",
       "      <td>0.865772</td>\n",
       "      <td>0.973214</td>\n",
       "    </tr>\n",
       "    <tr>\n",
       "      <th>1</th>\n",
       "      <td>Modelo_2</td>\n",
       "      <td>SVC</td>\n",
       "      <td>0.727317</td>\n",
       "      <td>0.727317</td>\n",
       "      <td>0.852349</td>\n",
       "      <td>0.973214</td>\n",
       "    </tr>\n",
       "    <tr>\n",
       "      <th>2</th>\n",
       "      <td>Modelo_3</td>\n",
       "      <td>XG Boost</td>\n",
       "      <td>0.782577</td>\n",
       "      <td>0.782577</td>\n",
       "      <td>0.872483</td>\n",
       "      <td>0.991071</td>\n",
       "    </tr>\n",
       "  </tbody>\n",
       "</table>\n",
       "</div>"
      ],
      "text/plain": [
       "       Nome      Algoritmo  Roc_AUC_Score  Auc Score  Acurácia    Recall\n",
       "0  Modelo_1  Random Forest       0.808880   0.808880  0.865772  0.973214\n",
       "1  Modelo_2            SVC       0.727317   0.727317  0.852349  0.973214\n",
       "2  Modelo_3       XG Boost       0.782577   0.782577  0.872483  0.991071"
      ]
     },
     "execution_count": 107,
     "metadata": {},
     "output_type": "execute_result"
    }
   ],
   "source": [
    "modelos"
   ]
  },
  {
   "cell_type": "markdown",
   "id": "6dfd5c99",
   "metadata": {},
   "source": [
    "### O modelo escolhido para deploy é o Modelo_3 (XG Boost) devido a sua maior nota em Recall."
   ]
  },
  {
   "cell_type": "code",
   "execution_count": null,
   "id": "263200a6",
   "metadata": {},
   "outputs": [],
   "source": []
  }
 ],
 "metadata": {
  "kernelspec": {
   "display_name": "Python 3 (ipykernel)",
   "language": "python",
   "name": "python3"
  },
  "language_info": {
   "codemirror_mode": {
    "name": "ipython",
    "version": 3
   },
   "file_extension": ".py",
   "mimetype": "text/x-python",
   "name": "python",
   "nbconvert_exporter": "python",
   "pygments_lexer": "ipython3",
   "version": "3.9.13"
  }
 },
 "nbformat": 4,
 "nbformat_minor": 5
}
